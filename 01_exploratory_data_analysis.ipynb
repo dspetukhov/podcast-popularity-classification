{
 "cells": [
  {
   "cell_type": "markdown",
   "id": "46ba2d34",
   "metadata": {},
   "source": [
    "**Exploratory data analysis**"
   ]
  },
  {
   "cell_type": "code",
   "execution_count": 1,
   "id": "c5e9507f",
   "metadata": {
    "ExecuteTime": {
     "end_time": "2023-11-25T08:48:33.524860Z",
     "start_time": "2023-11-25T08:48:32.914831Z"
    }
   },
   "outputs": [],
   "source": [
    "import yaml\n",
    "import numpy as np\n",
    "import pandas as pd\n",
    "import matplotlib.pyplot as plt"
   ]
  },
  {
   "cell_type": "code",
   "execution_count": 2,
   "id": "2119c40e",
   "metadata": {
    "ExecuteTime": {
     "end_time": "2023-11-25T08:48:34.507942Z",
     "start_time": "2023-11-25T08:48:34.276928Z"
    }
   },
   "outputs": [],
   "source": [
    "cache = yaml.safe_load(open('data.yaml', 'r'))"
   ]
  },
  {
   "cell_type": "code",
   "execution_count": 9,
   "id": "13075f6e",
   "metadata": {
    "ExecuteTime": {
     "end_time": "2023-11-25T09:13:54.745692Z",
     "start_time": "2023-11-25T09:13:54.740086Z"
    }
   },
   "outputs": [
    {
     "data": {
      "text/plain": [
       "104"
      ]
     },
     "execution_count": 9,
     "metadata": {},
     "output_type": "execute_result"
    }
   ],
   "source": [
    "popularity_dict = {ep: cache[ep]['stats'] for ep in cache if cache[ep]['year'] == 2022}\n",
    "len(popularity_dict)"
   ]
  },
  {
   "cell_type": "code",
   "execution_count": 10,
   "id": "fba4134d",
   "metadata": {
    "ExecuteTime": {
     "end_time": "2023-11-25T09:13:56.003547Z",
     "start_time": "2023-11-25T09:13:55.862423Z"
    }
   },
   "outputs": [
    {
     "data": {
      "image/png": "[encoded data removed]",
      "text/plain": [
       "<Figure size 640x480 with 1 Axes>"
      ]
     },
     "metadata": {},
     "output_type": "display_data"
    }
   ],
   "source": [
    "B = plt.boxplot(popularity_dict.values())\n",
    "plt.tick_params(axis='x', bottom=False, labelbottom=False)"
   ]
  },
  {
   "cell_type": "code",
   "execution_count": 11,
   "id": "d13a19ce",
   "metadata": {
    "ExecuteTime": {
     "end_time": "2023-11-25T09:13:58.389149Z",
     "start_time": "2023-11-25T09:13:58.383603Z"
    }
   },
   "outputs": [
    {
     "data": {
      "text/plain": [
       "[array([25.575, 20.   ]), array([38.225, 48.7  ])]"
      ]
     },
     "execution_count": 11,
     "metadata": {},
     "output_type": "execute_result"
    }
   ],
   "source": [
    "[item.get_ydata() for item in B['whiskers']]"
   ]
  },
  {
   "cell_type": "markdown",
   "id": "116b5d95",
   "metadata": {},
   "source": [
    "**Differentiate between positives and negatives**"
   ]
  },
  {
   "cell_type": "code",
   "execution_count": 12,
   "id": "fa0e2b15",
   "metadata": {
    "ExecuteTime": {
     "end_time": "2023-11-25T09:14:31.637186Z",
     "start_time": "2023-11-25T09:14:31.631938Z"
    }
   },
   "outputs": [
    {
     "data": {
      "text/plain": [
       "26"
      ]
     },
     "execution_count": 12,
     "metadata": {},
     "output_type": "execute_result"
    }
   ],
   "source": [
    "positive = {(ep, cache[ep]['dow'], cache[ep]['duration']) for ep in popularity_dict if popularity_dict[ep] >= 38.225}\n",
    "len(positive)"
   ]
  },
  {
   "cell_type": "code",
   "execution_count": 13,
   "id": "4ba71100",
   "metadata": {
    "ExecuteTime": {
     "end_time": "2023-11-25T09:14:36.945815Z",
     "start_time": "2023-11-25T09:14:36.940399Z"
    }
   },
   "outputs": [
    {
     "data": {
      "text/plain": [
       "78"
      ]
     },
     "execution_count": 13,
     "metadata": {},
     "output_type": "execute_result"
    }
   ],
   "source": [
    "negative = {(ep, cache[ep]['dow'], cache[ep]['duration']) for ep in popularity_dict if popularity_dict[ep] < 38.225}\n",
    "len(negative)"
   ]
  },
  {
   "cell_type": "markdown",
   "id": "110e781f",
   "metadata": {},
   "source": [
    "**Comparing durations of positive and negative classes**"
   ]
  },
  {
   "cell_type": "code",
   "execution_count": 15,
   "id": "21dc8f8c",
   "metadata": {
    "ExecuteTime": {
     "end_time": "2023-11-25T09:16:31.750552Z",
     "start_time": "2023-11-25T09:16:31.610293Z"
    }
   },
   "outputs": [
    {
     "data": {
      "image/png": "[encoded data removed]",
      "text/plain": [
       "<Figure size 640x480 with 1 Axes>"
      ]
     },
     "metadata": {},
     "output_type": "display_data"
    }
   ],
   "source": [
    "_ = plt.boxplot([\n",
    "    [ep[2] for ep in positive],\n",
    "    [ep[2] for ep in negative]\n",
    "], labels=['Positive', 'Negative'], widths=0.25)"
   ]
  },
  {
   "cell_type": "code",
   "execution_count": 17,
   "id": "cbcac778",
   "metadata": {
    "ExecuteTime": {
     "end_time": "2023-11-25T09:31:54.954312Z",
     "start_time": "2023-11-25T09:31:54.947046Z"
    }
   },
   "outputs": [
    {
     "data": {
      "text/plain": [
       "Tuesday     24\n",
       "Thursday     1\n",
       "Monday       1\n",
       "Name: count, dtype: int64"
      ]
     },
     "execution_count": 17,
     "metadata": {},
     "output_type": "execute_result"
    }
   ],
   "source": [
    "pd.Series([el[1] for el in positive]).value_counts()"
   ]
  },
  {
   "cell_type": "code",
   "execution_count": 18,
   "id": "d41dceed",
   "metadata": {
    "ExecuteTime": {
     "end_time": "2023-11-25T09:32:12.559023Z",
     "start_time": "2023-11-25T09:32:12.552479Z"
    }
   },
   "outputs": [
    {
     "data": {
      "text/plain": [
       "Thursday     35\n",
       "Tuesday      29\n",
       "Friday       10\n",
       "Wednesday     3\n",
       "Monday        1\n",
       "Name: count, dtype: int64"
      ]
     },
     "execution_count": 18,
     "metadata": {},
     "output_type": "execute_result"
    }
   ],
   "source": [
    "pd.Series([el[1] for el in negative]).value_counts()"
   ]
  },
  {
   "cell_type": "code",
   "execution_count": null,
   "id": "f14eb8be",
   "metadata": {},
   "outputs": [],
   "source": []
  },
  {
   "cell_type": "markdown",
   "id": "27f4c3ae",
   "metadata": {},
   "source": [
    "## Tuesday / Friday"
   ]
  },
  {
   "cell_type": "code",
   "execution_count": 81,
   "id": "34310e78",
   "metadata": {
    "ExecuteTime": {
     "end_time": "2023-11-22T09:15:31.720272Z",
     "start_time": "2023-11-22T09:15:31.715263Z"
    }
   },
   "outputs": [
    {
     "data": {
      "text/plain": [
       "[]"
      ]
     },
     "execution_count": 81,
     "metadata": {},
     "output_type": "execute_result"
    }
   ],
   "source": [
    "[ep for ep in positive if cache[ep]['dow'] == 'Friday']"
   ]
  },
  {
   "cell_type": "code",
   "execution_count": 83,
   "id": "07474497",
   "metadata": {
    "ExecuteTime": {
     "end_time": "2023-11-22T09:15:43.386227Z",
     "start_time": "2023-11-22T09:15:43.381882Z"
    }
   },
   "outputs": [
    {
     "data": {
      "text/plain": [
       "[583]"
      ]
     },
     "execution_count": 83,
     "metadata": {},
     "output_type": "execute_result"
    }
   ],
   "source": [
    "[ep for ep in positive if cache[ep]['dow'] == 'Thursday']"
   ]
  },
  {
   "cell_type": "code",
   "execution_count": 72,
   "id": "983a2ce6",
   "metadata": {
    "ExecuteTime": {
     "end_time": "2023-11-22T09:07:46.576060Z",
     "start_time": "2023-11-22T09:07:46.570335Z"
    }
   },
   "outputs": [
    {
     "data": {
      "text/plain": [
       "[]"
      ]
     },
     "execution_count": 72,
     "metadata": {},
     "output_type": "execute_result"
    }
   ],
   "source": [
    "[ep for ep in positive if cache[ep]['dow'] == 'Wednesday']"
   ]
  },
  {
   "cell_type": "code",
   "execution_count": 74,
   "id": "c38d109e",
   "metadata": {
    "ExecuteTime": {
     "end_time": "2023-11-22T09:08:34.854201Z",
     "start_time": "2023-11-22T09:08:34.848658Z"
    }
   },
   "outputs": [
    {
     "data": {
      "text/plain": [
       "[541]"
      ]
     },
     "execution_count": 74,
     "metadata": {},
     "output_type": "execute_result"
    }
   ],
   "source": [
    "[ep for ep in positive if cache[ep]['dow'] == 'Monday']"
   ]
  },
  {
   "cell_type": "code",
   "execution_count": 79,
   "id": "827e227f",
   "metadata": {
    "ExecuteTime": {
     "end_time": "2023-11-22T09:15:03.857033Z",
     "start_time": "2023-11-22T09:15:03.851708Z"
    }
   },
   "outputs": [
    {
     "data": {
      "text/plain": [
       "24"
      ]
     },
     "execution_count": 79,
     "metadata": {},
     "output_type": "execute_result"
    }
   ],
   "source": [
    "len([ep for ep in positive if cache[ep]['dow'] == 'Tuesday'])"
   ]
  },
  {
   "cell_type": "code",
   "execution_count": null,
   "id": "3ce25b8f",
   "metadata": {},
   "outputs": [],
   "source": []
  },
  {
   "cell_type": "code",
   "execution_count": 75,
   "id": "39b31e2e",
   "metadata": {
    "ExecuteTime": {
     "end_time": "2023-11-22T09:09:22.880500Z",
     "start_time": "2023-11-22T09:09:22.875057Z"
    }
   },
   "outputs": [
    {
     "data": {
      "text/plain": [
       "91"
      ]
     },
     "execution_count": 75,
     "metadata": {},
     "output_type": "execute_result"
    }
   ],
   "source": [
    "popularity_dict = {ep: cache[ep]['stats'] for ep in cache if cache[ep]['year'] == 2022 and cache[ep]['dow'] not in ('Friday', 'Wednesday')}\n",
    "len(popularity_dict)"
   ]
  },
  {
   "cell_type": "code",
   "execution_count": 76,
   "id": "85b05ca7",
   "metadata": {
    "ExecuteTime": {
     "end_time": "2023-11-22T09:11:30.966879Z",
     "start_time": "2023-11-22T09:11:30.835355Z"
    }
   },
   "outputs": [
    {
     "data": {
      "image/png": "[encoded data removed]",
      "text/plain": [
       "<Figure size 640x480 with 1 Axes>"
      ]
     },
     "metadata": {},
     "output_type": "display_data"
    }
   ],
   "source": [
    "B = plt.boxplot(popularity_dict.values())\n",
    "plt.tick_params(axis='x', bottom=False, labelbottom=False)"
   ]
  },
  {
   "cell_type": "code",
   "execution_count": 77,
   "id": "f905e1e5",
   "metadata": {
    "ExecuteTime": {
     "end_time": "2023-11-22T09:11:33.977707Z",
     "start_time": "2023-11-22T09:11:33.972288Z"
    }
   },
   "outputs": [
    {
     "data": {
      "text/plain": [
       "[array([27.9, 20. ]), array([39.7, 48.7])]"
      ]
     },
     "execution_count": 77,
     "metadata": {},
     "output_type": "execute_result"
    }
   ],
   "source": [
    "[item.get_ydata() for item in B['whiskers']]"
   ]
  },
  {
   "cell_type": "code",
   "execution_count": null,
   "id": "c2853134",
   "metadata": {},
   "outputs": [],
   "source": []
  },
  {
   "cell_type": "code",
   "execution_count": 13,
   "id": "521eeea3",
   "metadata": {
    "ExecuteTime": {
     "end_time": "2023-11-19T09:39:39.170973Z",
     "start_time": "2023-11-19T09:39:39.166267Z"
    }
   },
   "outputs": [
    {
     "data": {
      "text/plain": [
       "14"
      ]
     },
     "execution_count": 13,
     "metadata": {},
     "output_type": "execute_result"
    }
   ],
   "source": [
    "positive = [ep for ep in popularity_dict if popularity_dict[ep] >= 42]\n",
    "len(positive)"
   ]
  },
  {
   "cell_type": "code",
   "execution_count": 14,
   "id": "17f52dfd",
   "metadata": {
    "ExecuteTime": {
     "end_time": "2023-11-19T09:39:40.018120Z",
     "start_time": "2023-11-19T09:39:40.012385Z"
    }
   },
   "outputs": [
    {
     "data": {
      "text/plain": [
       "39"
      ]
     },
     "execution_count": 14,
     "metadata": {},
     "output_type": "execute_result"
    }
   ],
   "source": [
    "negative = [ep for ep in popularity_dict if popularity_dict[ep] < 42]\n",
    "len(negative)"
   ]
  },
  {
   "cell_type": "markdown",
   "id": "8db09c15",
   "metadata": {},
   "source": [
    "## Duration"
   ]
  },
  {
   "cell_type": "markdown",
   "id": "2060913e",
   "metadata": {},
   "source": [
    "# Splitting"
   ]
  },
  {
   "cell_type": "code",
   "execution_count": 18,
   "id": "882eecb6",
   "metadata": {
    "ExecuteTime": {
     "end_time": "2023-11-19T09:40:00.342699Z",
     "start_time": "2023-11-19T09:39:59.522920Z"
    }
   },
   "outputs": [],
   "source": [
    "from sklearn.model_selection import train_test_split"
   ]
  },
  {
   "cell_type": "code",
   "execution_count": 19,
   "id": "acd19cd2",
   "metadata": {
    "ExecuteTime": {
     "end_time": "2023-11-19T09:40:00.891435Z",
     "start_time": "2023-11-19T09:40:00.886036Z"
    }
   },
   "outputs": [
    {
     "data": {
      "text/plain": [
       "53"
      ]
     },
     "execution_count": 19,
     "metadata": {},
     "output_type": "execute_result"
    }
   ],
   "source": [
    "X = positive + negative\n",
    "len(X)"
   ]
  },
  {
   "cell_type": "code",
   "execution_count": 20,
   "id": "6c8df270",
   "metadata": {
    "ExecuteTime": {
     "end_time": "2023-11-19T09:40:01.826956Z",
     "start_time": "2023-11-19T09:40:01.824569Z"
    }
   },
   "outputs": [],
   "source": [
    "import subprocess"
   ]
  },
  {
   "cell_type": "code",
   "execution_count": 24,
   "id": "4111c452",
   "metadata": {
    "ExecuteTime": {
     "end_time": "2023-11-19T09:40:26.940634Z",
     "start_time": "2023-11-19T09:40:26.938397Z"
    }
   },
   "outputs": [],
   "source": [
    "episode = 625"
   ]
  },
  {
   "cell_type": "code",
   "execution_count": 25,
   "id": "4d4828b4",
   "metadata": {
    "ExecuteTime": {
     "end_time": "2023-11-19T09:40:28.070704Z",
     "start_time": "2023-11-19T09:40:28.066224Z"
    }
   },
   "outputs": [
    {
     "data": {
      "text/plain": [
       "'https://www.youtube.com/embed/9dCxDwypfmw'"
      ]
     },
     "execution_count": 25,
     "metadata": {},
     "output_type": "execute_result"
    }
   ],
   "source": [
    "cache[episode]['link']"
   ]
  },
  {
   "cell_type": "code",
   "execution_count": 156,
   "id": "02a7d050",
   "metadata": {
    "ExecuteTime": {
     "end_time": "2023-11-05T09:37:11.841537Z",
     "start_time": "2023-11-05T09:37:11.836357Z"
    }
   },
   "outputs": [
    {
     "data": {
      "text/plain": [
       "53"
      ]
     },
     "execution_count": 156,
     "metadata": {},
     "output_type": "execute_result"
    }
   ],
   "source": [
    "y = [1] * len(positive) + [0] * len(negative)\n",
    "len(y)"
   ]
  },
  {
   "cell_type": "code",
   "execution_count": 157,
   "id": "817fd512",
   "metadata": {
    "ExecuteTime": {
     "end_time": "2023-11-05T09:37:15.164202Z",
     "start_time": "2023-11-05T09:37:15.154602Z"
    }
   },
   "outputs": [
    {
     "data": {
      "text/plain": [
       "[[543,\n",
       "  547,\n",
       "  601,\n",
       "  631,\n",
       "  551,\n",
       "  605,\n",
       "  603,\n",
       "  563,\n",
       "  553,\n",
       "  585,\n",
       "  567,\n",
       "  625,\n",
       "  581,\n",
       "  545,\n",
       "  591,\n",
       "  555,\n",
       "  635,\n",
       "  550,\n",
       "  639,\n",
       "  580,\n",
       "  589,\n",
       "  575,\n",
       "  607,\n",
       "  617,\n",
       "  619,\n",
       "  571,\n",
       "  611,\n",
       "  627,\n",
       "  637,\n",
       "  557,\n",
       "  577,\n",
       "  573,\n",
       "  559,\n",
       "  599,\n",
       "  615,\n",
       "  579,\n",
       "  595],\n",
       " [597,\n",
       "  565,\n",
       "  569,\n",
       "  539,\n",
       "  621,\n",
       "  537,\n",
       "  587,\n",
       "  561,\n",
       "  606,\n",
       "  629,\n",
       "  549,\n",
       "  623,\n",
       "  633,\n",
       "  613,\n",
       "  593,\n",
       "  609],\n",
       " [1,\n",
       "  1,\n",
       "  0,\n",
       "  0,\n",
       "  1,\n",
       "  0,\n",
       "  0,\n",
       "  1,\n",
       "  1,\n",
       "  0,\n",
       "  1,\n",
       "  0,\n",
       "  0,\n",
       "  1,\n",
       "  0,\n",
       "  1,\n",
       "  0,\n",
       "  0,\n",
       "  0,\n",
       "  0,\n",
       "  0,\n",
       "  0,\n",
       "  0,\n",
       "  0,\n",
       "  0,\n",
       "  0,\n",
       "  0,\n",
       "  0,\n",
       "  0,\n",
       "  1,\n",
       "  0,\n",
       "  0,\n",
       "  1,\n",
       "  0,\n",
       "  0,\n",
       "  0,\n",
       "  0],\n",
       " [0, 1, 0, 1, 0, 1, 0, 1, 0, 0, 0, 0, 0, 0, 0, 0]]"
      ]
     },
     "execution_count": 157,
     "metadata": {},
     "output_type": "execute_result"
    }
   ],
   "source": [
    "train_test_split(X, y, test_size=0.3, random_state=0, shuffle=True, stratify=y)"
   ]
  },
  {
   "cell_type": "code",
   "execution_count": null,
   "id": "8a91206b",
   "metadata": {},
   "outputs": [],
   "source": []
  }
 ],
 "metadata": {
  "kernelspec": {
   "display_name": "Python 3 (ipykernel)",
   "language": "python",
   "name": "python3"
  },
  "language_info": {
   "codemirror_mode": {
    "name": "ipython",
    "version": 3
   },
   "file_extension": ".py",
   "mimetype": "text/x-python",
   "name": "python",
   "nbconvert_exporter": "python",
   "pygments_lexer": "ipython3",
   "version": "3.9.16"
  },
  "toc": {
   "base_numbering": 1,
   "nav_menu": {},
   "number_sections": true,
   "sideBar": true,
   "skip_h1_title": false,
   "title_cell": "Table of Contents",
   "title_sidebar": "Contents",
   "toc_cell": false,
   "toc_position": {},
   "toc_section_display": true,
   "toc_window_display": true
  }
 },
 "nbformat": 4,
 "nbformat_minor": 5
}
