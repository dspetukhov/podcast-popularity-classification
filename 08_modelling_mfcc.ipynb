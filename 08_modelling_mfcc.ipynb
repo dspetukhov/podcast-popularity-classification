{
 "cells": [
  {
   "cell_type": "markdown",
   "id": "fee3ecb6-40ea-46d7-9568-fcb2fabd92e0",
   "metadata": {},
   "source": [
    "**Model training in three ways:**\n",
    "\n",
    "- using images obtained with `MFCC` in `07_preprocessing_mfcc.ipynb`\n",
    "- using spectrograms transformed by `MFCC` on the fly\n",
    "- using spectrograms transformed by `MFCC` on the fly with augmentations"
   ]
  },
  {
   "cell_type": "code",
   "execution_count": 1,
   "id": "60ebc71d",
   "metadata": {
    "ExecuteTime": {
     "end_time": "2024-03-17T07:52:20.075814Z",
     "start_time": "2024-03-17T07:52:13.517889Z"
    },
    "tags": []
   },
   "outputs": [],
   "source": [
    "import os\n",
    "import yaml\n",
    "import joblib\n",
    "#\n",
    "import torch\n",
    "from torch import nn\n",
    "from torch.utils.data import Dataset, DataLoader\n",
    "#\n",
    "import torchaudio\n",
    "import torchaudio.transforms as T\n",
    "import torchaudio.functional as F\n",
    "#\n",
    "import torchvision\n",
    "from torchvision.io import read_image\n",
    "from torchvision.transforms import ConvertImageDtype\n",
    "#\n",
    "import matplotlib.pyplot as plt\n",
    "#\n",
    "from sklearn.model_selection import train_test_split\n",
    "from sklearn.metrics import roc_auc_score"
   ]
  },
  {
   "cell_type": "code",
   "execution_count": 2,
   "id": "53825dce-2bd1-425f-b04f-339a61d7430d",
   "metadata": {
    "tags": []
   },
   "outputs": [
    {
     "name": "stdout",
     "output_type": "stream",
     "text": [
      "2.3.0+cu121\n",
      "2.3.0+cu121\n",
      "0.18.0+cu121\n"
     ]
    }
   ],
   "source": [
    "print(torch.__version__)\n",
    "print(torchaudio.__version__)\n",
    "print(torchvision.__version__)"
   ]
  },
  {
   "cell_type": "code",
   "execution_count": 3,
   "id": "d1aa607c",
   "metadata": {
    "ExecuteTime": {
     "end_time": "2024-01-07T09:39:43.048903Z",
     "start_time": "2024-01-07T09:39:43.045946Z"
    },
    "tags": []
   },
   "outputs": [],
   "source": [
    "raw_path = 'data/raw/'\n",
    "data_path = 'data/mfcc/'"
   ]
  },
  {
   "cell_type": "code",
   "execution_count": 4,
   "id": "bfc893f9-4806-4e31-bbad-8187909d66cf",
   "metadata": {
    "tags": []
   },
   "outputs": [],
   "source": [
    "LEARNING_RATE = 0.001"
   ]
  },
  {
   "cell_type": "code",
   "execution_count": 5,
   "id": "9771b003",
   "metadata": {
    "ExecuteTime": {
     "end_time": "2024-01-07T09:39:43.895828Z",
     "start_time": "2024-01-07T09:39:43.699453Z"
    },
    "tags": []
   },
   "outputs": [],
   "source": [
    "labels = yaml.safe_load(open('labels.yaml'))[2022]"
   ]
  },
  {
   "cell_type": "code",
   "execution_count": 6,
   "id": "3de3b0d9-8bbd-4110-bade-aa843d8de608",
   "metadata": {
    "tags": []
   },
   "outputs": [],
   "source": [
    "X, y = zip(*labels.items())\n",
    "X_train, X_test, y_train, y_test = train_test_split(X, y, test_size=0.25, random_state=0, shuffle=False)"
   ]
  },
  {
   "cell_type": "code",
   "execution_count": 7,
   "id": "4130ef6d-d8f8-45d4-aa12-fd8f9d34aaa4",
   "metadata": {
    "tags": []
   },
   "outputs": [],
   "source": [
    "def training(model, optimizer, criterion, dataloader):\n",
    "    losses, y_true, y_score = [], [], []\n",
    "    #\n",
    "    model.train()\n",
    "    for X, Y in dataloader:\n",
    "        X, Y = X.to(device), Y.to(device, dtype=torch.float32)\n",
    "        #\n",
    "        output = model(X)\n",
    "        loss = criterion(output.view(1), Y)\n",
    "        #\n",
    "        losses.append(loss.item())\n",
    "        y_true.append(Y.item())\n",
    "        y_score.append(torch.sigmoid(output).item())\n",
    "        #\n",
    "        optimizer.zero_grad()\n",
    "        loss.backward()\n",
    "        optimizer.step()\n",
    "\n",
    "    return torch.tensor(losses).mean(), roc_auc_score(y_true, y_score)\n",
    "\n",
    "\n",
    "def testing(model, optimizer, criterion, dataloader):\n",
    "    losses, y_true, y_score = [], [], []\n",
    "    #\n",
    "    model.eval()\n",
    "    with torch.inference_mode():\n",
    "        for X, Y in dataloader:\n",
    "            X, Y = X.to(device), Y.to(device, dtype=torch.float32)\n",
    "            #\n",
    "            output = model(X)\n",
    "            loss = criterion(output.view(1), Y)\n",
    "            #\n",
    "            losses.append(loss.item())\n",
    "            y_true.append(Y.item())\n",
    "            y_score.append(torch.sigmoid(output).item())\n",
    "    #\n",
    "    return torch.tensor(losses).mean(), roc_auc_score(y_true, y_score)"
   ]
  },
  {
   "cell_type": "markdown",
   "id": "2a4e3ccb",
   "metadata": {},
   "source": [
    "# Modelling using images"
   ]
  },
  {
   "cell_type": "code",
   "execution_count": 8,
   "id": "d2d155c4-6487-404d-8ecc-3520e29783f0",
   "metadata": {
    "tags": []
   },
   "outputs": [],
   "source": [
    "device = 'cpu'"
   ]
  },
  {
   "cell_type": "code",
   "execution_count": 9,
   "id": "79e5562e-7440-44b6-8418-ad87747370ef",
   "metadata": {
    "tags": []
   },
   "outputs": [],
   "source": [
    "from utils.miscellaneous import update_stats\n",
    "from utils.plot import get_figure, update_figure"
   ]
  },
  {
   "cell_type": "code",
   "execution_count": 10,
   "id": "e1121af2",
   "metadata": {
    "ExecuteTime": {
     "end_time": "2024-01-07T09:39:45.388382Z",
     "start_time": "2024-01-07T09:39:45.383137Z"
    },
    "tags": []
   },
   "outputs": [],
   "source": [
    "class Podcast(Dataset):\n",
    "\n",
    "    def __init__(self, X, y):\n",
    "        self.x = X\n",
    "        self.y = y\n",
    "        self.cid = ConvertImageDtype(torch.float32)\n",
    "\n",
    "    def __len__(self):\n",
    "        return len(self.x)\n",
    "\n",
    "    def __getitem__(self, idx):\n",
    "        label = self.y[idx]\n",
    "        episode = self.x[idx]\n",
    "        image = read_image(f'{data_path}/{episode}.png')\n",
    "        return self.cid(image), int(label)"
   ]
  },
  {
   "cell_type": "code",
   "execution_count": 11,
   "id": "0458835e",
   "metadata": {
    "ExecuteTime": {
     "end_time": "2024-01-07T09:39:46.519333Z",
     "start_time": "2024-01-07T09:39:46.515826Z"
    },
    "tags": []
   },
   "outputs": [],
   "source": [
    "train = Podcast(X_train, y_train)\n",
    "train_dataloader = DataLoader(train, shuffle=True)"
   ]
  },
  {
   "cell_type": "code",
   "execution_count": 12,
   "id": "409bad50",
   "metadata": {
    "ExecuteTime": {
     "end_time": "2024-01-07T09:39:47.385464Z",
     "start_time": "2024-01-07T09:39:47.381841Z"
    },
    "tags": []
   },
   "outputs": [],
   "source": [
    "test = Podcast(X_test, y_test)\n",
    "test_dataloader = DataLoader(test)"
   ]
  },
  {
   "cell_type": "code",
   "execution_count": 13,
   "id": "324496c0-4ba0-496f-8474-142cbb8d4f26",
   "metadata": {
    "ExecuteTime": {
     "end_time": "2024-03-10T10:15:41.917197Z",
     "start_time": "2024-03-10T10:15:41.903943Z"
    },
    "tags": []
   },
   "outputs": [],
   "source": [
    "class CNNet(nn.Module):\n",
    "    def __init__(self):\n",
    "        super().__init__()\n",
    "        self.layer1 = nn.Sequential(\n",
    "            nn.Conv2d(in_channels=4, out_channels=4, kernel_size=(2, 4)),\n",
    "            nn.ReLU(),\n",
    "            nn.AvgPool2d(kernel_size=(2, 4))\n",
    "        )\n",
    "        self.layer2 = nn.Sequential(\n",
    "            nn.Conv2d(in_channels=4, out_channels=4, kernel_size=(3, 6)),\n",
    "            nn.ReLU(),\n",
    "            nn.AvgPool2d(kernel_size=(3, 6))\n",
    "        )\n",
    "        self.layer3 = nn.Sequential(\n",
    "            nn.Conv2d(in_channels=4, out_channels=4, kernel_size=(5, 10)),\n",
    "            nn.ReLU(),\n",
    "            nn.AdaptiveAvgPool2d(output_size=(5, 10))\n",
    "        )\n",
    "        #\n",
    "        self.flatten = nn.Flatten()\n",
    "        self.relu = nn.ReLU()\n",
    "        self.dropout = nn.Dropout(0.33)\n",
    "        self.linear1 = nn.Linear(200, 32)\n",
    "        self.linear2 = nn.Linear(32, 1)\n",
    "\n",
    "    def forward(self, x):\n",
    "        shapes = [x.shape]\n",
    "        # print()\n",
    "        x = self.layer1(x)\n",
    "        shapes.append(x.shape)\n",
    "        x = self.layer2(x)\n",
    "        shapes.append(x.shape)\n",
    "        x = self.layer3(x)\n",
    "        # shapes.append(x.shape)\n",
    "        #\n",
    "        # print(shapes)\n",
    "        x = self.flatten(x)\n",
    "        # print(x.shape)\n",
    "        x = self.relu(self.linear1(x))\n",
    "        x = self.dropout(x)\n",
    "        # print(x.shape, self.training)\n",
    "        #\n",
    "        print('=' if self.training else '-', end='')\n",
    "        return self.linear2(x)\n",
    "\n",
    "\n",
    "model = CNNet().to(device, dtype=torch.float32)"
   ]
  },
  {
   "cell_type": "code",
   "execution_count": 14,
   "id": "54c12eaa",
   "metadata": {
    "ExecuteTime": {
     "end_time": "2024-01-07T09:56:03.622408Z",
     "start_time": "2024-01-07T09:56:03.618260Z"
    },
    "tags": []
   },
   "outputs": [],
   "source": [
    "criterion = nn.BCEWithLogitsLoss()\n",
    "optimizer = torch.optim.Adam(model.parameters(), lr=LEARNING_RATE)"
   ]
  },
  {
   "cell_type": "code",
   "execution_count": 15,
   "id": "bbef7242-695b-442a-8ae5-a6437bc54af3",
   "metadata": {
    "tags": []
   },
   "outputs": [],
   "source": [
    "filename = '08_mfcc_images'"
   ]
  },
  {
   "cell_type": "code",
   "execution_count": null,
   "id": "a7767851-cb54-4048-b11e-640c6cba4332",
   "metadata": {},
   "outputs": [],
   "source": [
    "# !rm artifacts/08_mfcc_images.joblib\n",
    "# !rm artifacts/08_mfcc_images.pt"
   ]
  },
  {
   "cell_type": "code",
   "execution_count": 16,
   "id": "4db1ed50-2f25-461f-b04f-5dc6827f3750",
   "metadata": {
    "tags": []
   },
   "outputs": [],
   "source": [
    "if os.path.exists(f'artifacts/{filename}.pt'):\n",
    "    model.load_state_dict(\n",
    "        torch.load(f'artifacts/{filename}.pt')\n",
    "    )\n",
    "    print('!Model weights are loaded.')\n",
    "    \n",
    "if os.path.exists(f'artifacts/{filename}.joblib'):\n",
    "    stats = joblib.load(f'artifacts/{filename}.joblib')\n",
    "    print('!Training stats is loaded.')\n",
    "else:\n",
    "    stats = {\n",
    "        'epoch': [],\n",
    "        'training_loss': [],\n",
    "        'testing_loss': [],\n",
    "        'training_auc': [],\n",
    "        'testing_auc': [],\n",
    "    }\n",
    "    \n",
    "se = stats['epoch'][-1] if stats['epoch'] else 0"
   ]
  },
  {
   "cell_type": "code",
   "execution_count": 17,
   "id": "02b1d817-b5d5-4d1e-8bb0-be84cf3b52f2",
   "metadata": {
    "tags": []
   },
   "outputs": [
    {
     "data": {
      "application/vnd.jupyter.widget-view+json": {
       "model_id": "3cc0f007270345ca86db2df2cda228c8",
       "version_major": 2,
       "version_minor": 0
      },
      "text/plain": [
       "FigureWidget({\n",
       "    'data': [{'line': {'color': 'black', 'dash': 'dash', 'width': 0.5},\n",
       "              'marker': {'color': 'white', 'line': {'color': 'black', 'width': 1}, 'size': 6},\n",
       "              'mode': 'lines+markers',\n",
       "              'name': 'Training',\n",
       "              'type': 'scatter',\n",
       "              'uid': '5e3b2cf9-d500-4d83-9e78-be372e64baa0',\n",
       "              'x': [],\n",
       "              'xaxis': 'x',\n",
       "              'y': [],\n",
       "              'yaxis': 'y'},\n",
       "             {'line': {'color': 'red', 'dash': 'dash', 'width': 0.5},\n",
       "              'marker': {'color': 'white', 'line': {'color': 'red', 'width': 1}, 'size': 6},\n",
       "              'mode': 'lines+markers',\n",
       "              'name': 'Testing',\n",
       "              'type': 'scatter',\n",
       "              'uid': '20b84428-f359-4b48-ac37-f245f8254328',\n",
       "              'x': [],\n",
       "              'xaxis': 'x',\n",
       "              'y': [],\n",
       "              'yaxis': 'y'},\n",
       "             {'line': {'color': 'black', 'dash': 'dash', 'width': 0.5},\n",
       "              'marker': {'color': 'white', 'line': {'color': 'black', 'width': 1}, 'size': 6},\n",
       "              'mode': 'lines+markers',\n",
       "              'showlegend': False,\n",
       "              'type': 'scatter',\n",
       "              'uid': 'ab33a492-064a-4c29-8021-a866cb15e4f7',\n",
       "              'x': [],\n",
       "              'xaxis': 'x2',\n",
       "              'y': [],\n",
       "              'yaxis': 'y2'},\n",
       "             {'line': {'color': 'red', 'dash': 'dash', 'width': 0.5},\n",
       "              'marker': {'color': 'white', 'line': {'color': 'red', 'width': 1}, 'size': 6},\n",
       "              'mode': 'lines+markers',\n",
       "              'showlegend': False,\n",
       "              'type': 'scatter',\n",
       "              'uid': '2c73c767-db48-47ae-b1dd-8a50f29e2645',\n",
       "              'x': [],\n",
       "              'xaxis': 'x2',\n",
       "              'y': [],\n",
       "              'yaxis': 'y2'}],\n",
       "    'layout': {'font': {'family': 'Arial', 'size': 12},\n",
       "               'height': 500,\n",
       "               'plot_bgcolor': 'white',\n",
       "               'template': '...',\n",
       "               'width': 1000,\n",
       "               'xaxis': {'anchor': 'y',\n",
       "                         'domain': [0.0, 0.45],\n",
       "                         'gridcolor': 'lightgrey',\n",
       "                         'griddash': 'dot',\n",
       "                         'gridwidth': 0.1,\n",
       "                         'linecolor': 'black',\n",
       "                         'mirror': True,\n",
       "                         'showgrid': True,\n",
       "                         'showline': True,\n",
       "                         'title': {'text': 'Epoch'}},\n",
       "               'xaxis2': {'anchor': 'y2',\n",
       "                          'domain': [0.55, 1.0],\n",
       "                          'gridcolor': 'lightgrey',\n",
       "                          'griddash': 'dot',\n",
       "                          'gridwidth': 0.1,\n",
       "                          'linecolor': 'black',\n",
       "                          'mirror': True,\n",
       "                          'showgrid': True,\n",
       "                          'showline': True,\n",
       "                          'title': {'text': 'Epoch'}},\n",
       "               'yaxis': {'anchor': 'x',\n",
       "                         'domain': [0.0, 1.0],\n",
       "                         'gridcolor': 'lightgrey',\n",
       "                         'griddash': 'dot',\n",
       "                         'gridwidth': 0.1,\n",
       "                         'linecolor': 'black',\n",
       "                         'mirror': True,\n",
       "                         'showgrid': True,\n",
       "                         'showline': True,\n",
       "                         'title': {'text': 'Loss'}},\n",
       "               'yaxis2': {'anchor': 'x2',\n",
       "                          'domain': [0.0, 1.0],\n",
       "                          'gridcolor': 'lightgrey',\n",
       "                          'griddash': 'dot',\n",
       "                          'gridwidth': 0.1,\n",
       "                          'linecolor': 'black',\n",
       "                          'mirror': True,\n",
       "                          'showgrid': True,\n",
       "                          'showline': True,\n",
       "                          'title': {'text': 'AUC ROC'}}}\n",
       "})"
      ]
     },
     "execution_count": 17,
     "metadata": {},
     "output_type": "execute_result"
    }
   ],
   "source": [
    "figure = get_figure(stats)\n",
    "figure"
   ]
  },
  {
   "cell_type": "code",
   "execution_count": 18,
   "id": "b0c137a9-37e8-4ebf-a878-5d640d106514",
   "metadata": {
    "tags": []
   },
   "outputs": [
    {
     "name": "stdout",
     "output_type": "stream",
     "text": [
      "==============================================================================--------------------------\n",
      "Epoch: 0 | Training loss: 0.6676 | Testing loss: 0.5911 | Training AUC: 0.5438 | Testing AUC: 0.6917\n",
      "==============================================================================--------------------------\n",
      "Epoch: 1 | Training loss: 0.6433 | Testing loss: 0.5823 | Training AUC: 0.3953 | Testing AUC: 0.6992\n",
      "==============================================================================--------------------------\n",
      "Epoch: 2 | Training loss: 0.6111 | Testing loss: 0.6061 | Training AUC: 0.5057 | Testing AUC: 0.6917\n",
      "==============================================================================--------------------------\n",
      "Epoch: 3 | Training loss: 0.5888 | Testing loss: 0.6063 | Training AUC: 0.5893 | Testing AUC: 0.7293\n",
      "==============================================================================--------------------------\n",
      "Epoch: 4 | Training loss: 0.6083 | Testing loss: 0.5949 | Training AUC: 0.4570 | Testing AUC: 0.7293\n",
      "==============================================================================--------------------------\n",
      "Epoch: 5 | Training loss: 0.6081 | Testing loss: 0.5864 | Training AUC: 0.4724 | Testing AUC: 0.7444\n",
      "==============================================================================--------------------------\n",
      "Epoch: 6 | Training loss: 0.5903 | Testing loss: 0.5909 | Training AUC: 0.5893 | Testing AUC: 0.7143\n",
      "==============================================================================--------------------------\n",
      "Epoch: 7 | Training loss: 0.6472 | Testing loss: 0.5904 | Training AUC: 0.5674 | Testing AUC: 0.7218\n",
      "==============================================================================--------------------------\n",
      "Epoch: 8 | Training loss: 0.6301 | Testing loss: 0.5894 | Training AUC: 0.3677 | Testing AUC: 0.7293\n",
      "==============================================================================--------------------------\n",
      "Epoch: 9 | Training loss: 0.6074 | Testing loss: 0.5893 | Training AUC: 0.4992 | Testing AUC: 0.7368\n",
      "==============================================================================--------------------------\n",
      "Epoch: 10 | Training loss: 0.6092 | Testing loss: 0.6034 | Training AUC: 0.5032 | Testing AUC: 0.7519\n",
      "!Model weights were saved.\n",
      "==============================================================================--------------------------\n",
      "Epoch: 11 | Training loss: 0.6113 | Testing loss: 0.5865 | Training AUC: 0.4635 | Testing AUC: 0.7594\n",
      "==============================================================================--------------------------\n",
      "Epoch: 12 | Training loss: 0.5932 | Testing loss: 0.5753 | Training AUC: 0.5536 | Testing AUC: 0.7594\n",
      "==============================================================================--------------------------\n",
      "Epoch: 13 | Training loss: 0.5976 | Testing loss: 0.5747 | Training AUC: 0.5511 | Testing AUC: 0.7594\n",
      "==============================================================================--------------------------\n",
      "Epoch: 14 | Training loss: 0.6534 | Testing loss: 0.5979 | Training AUC: 0.3969 | Testing AUC: 0.7519\n",
      "==============================================================================--------------------------\n",
      "Epoch: 15 | Training loss: 0.6158 | Testing loss: 0.5694 | Training AUC: 0.4959 | Testing AUC: 0.8045\n",
      "!Model weights were saved.\n",
      "==============================================================================--------------------------\n",
      "Epoch: 16 | Training loss: 0.5916 | Testing loss: 0.5710 | Training AUC: 0.5787 | Testing AUC: 0.7895\n",
      "==============================================================================--------------------------\n",
      "Epoch: 17 | Training loss: 0.5782 | Testing loss: 0.5574 | Training AUC: 0.6031 | Testing AUC: 0.7669\n",
      "==============================================================================--------------------------\n",
      "Epoch: 18 | Training loss: 0.5778 | Testing loss: 0.5592 | Training AUC: 0.6477 | Testing AUC: 0.8195\n",
      "==============================================================================--------------------------\n",
      "Epoch: 19 | Training loss: 0.5668 | Testing loss: 0.5455 | Training AUC: 0.6599 | Testing AUC: 0.7669\n",
      "==============================================================================--------------------------\n",
      "Epoch: 20 | Training loss: 0.5537 | Testing loss: 0.4975 | Training AUC: 0.6907 | Testing AUC: 0.7744\n",
      "!Model weights were saved.\n",
      "==============================================================================--------------------------\n",
      "Epoch: 21 | Training loss: 0.5639 | Testing loss: 0.4810 | Training AUC: 0.6583 | Testing AUC: 0.7820\n",
      "==============================================================================--------------------------\n",
      "Epoch: 22 | Training loss: 0.5209 | Testing loss: 0.4643 | Training AUC: 0.6964 | Testing AUC: 0.7744\n",
      "==============================================================================--------------------------\n",
      "Epoch: 23 | Training loss: 0.5427 | Testing loss: 0.4953 | Training AUC: 0.7386 | Testing AUC: 0.8647\n",
      "==============================================================================--------------------------\n",
      "Epoch: 24 | Training loss: 0.5041 | Testing loss: 0.4643 | Training AUC: 0.7476 | Testing AUC: 0.7669\n",
      "==============================================================================--------------------------\n",
      "Epoch: 25 | Training loss: 0.5110 | Testing loss: 0.4663 | Training AUC: 0.7524 | Testing AUC: 0.7744\n",
      "!Model weights were saved.\n",
      "==============================================================================--------------------------\n",
      "Epoch: 26 | Training loss: 0.5175 | Testing loss: 0.4543 | Training AUC: 0.7549 | Testing AUC: 0.7594\n",
      "==============================================================================--------------------------\n",
      "Epoch: 27 | Training loss: 0.6237 | Testing loss: 0.6354 | Training AUC: 0.4383 | Testing AUC: 0.5000\n",
      "==============================================================================--------------------------\n",
      "Epoch: 28 | Training loss: 0.6345 | Testing loss: 0.6268 | Training AUC: 0.5430 | Testing AUC: 0.5000\n",
      "==============================================================================--------------------------\n",
      "Epoch: 29 | Training loss: 0.6339 | Testing loss: 0.6208 | Training AUC: 0.3109 | Testing AUC: 0.5000\n",
      "==============================================================================--------------------------\n",
      "Epoch: 30 | Training loss: 0.6245 | Testing loss: 0.6159 | Training AUC: 0.4667 | Testing AUC: 0.5000\n",
      "==============================================================================--------------------------\n",
      "Epoch: 31 | Training loss: 0.6197 | Testing loss: 0.6104 | Training AUC: 0.4943 | Testing AUC: 0.5000\n",
      "==============================================================================--------------------------\n",
      "Epoch: 32 | Training loss: 0.6134 | Testing loss: 0.6062 | Training AUC: 0.5292 | Testing AUC: 0.5000\n",
      "==============================================================================--------------------------\n",
      "Epoch: 33 | Training loss: 0.6089 | Testing loss: 0.6011 | Training AUC: 0.5641 | Testing AUC: 0.5000\n",
      "==============================================================================--------------------------\n",
      "Epoch: 34 | Training loss: 0.6086 | Testing loss: 0.5992 | Training AUC: 0.5244 | Testing AUC: 0.5000\n",
      "==============================================================================--------------------------\n",
      "Epoch: 35 | Training loss: 0.6064 | Testing loss: 0.5960 | Training AUC: 0.4651 | Testing AUC: 0.5000\n",
      "==============================================================================--------------------------\n",
      "Epoch: 36 | Training loss: 0.6063 | Testing loss: 0.5939 | Training AUC: 0.4683 | Testing AUC: 0.5000\n",
      "==============================================================================--------------------------\n",
      "Epoch: 37 | Training loss: 0.6039 | Testing loss: 0.5924 | Training AUC: 0.4651 | Testing AUC: 0.5000\n",
      "==============================================================================--------------------------\n",
      "Epoch: 38 | Training loss: 0.6035 | Testing loss: 0.5910 | Training AUC: 0.4424 | Testing AUC: 0.5000\n",
      "==============================================================================--------------------------\n",
      "Epoch: 39 | Training loss: 0.6073 | Testing loss: 0.5896 | Training AUC: 0.3888 | Testing AUC: 0.5000\n",
      "==============================================================================--------------------------\n",
      "Epoch: 40 | Training loss: 0.5990 | Testing loss: 0.5878 | Training AUC: 0.5211 | Testing AUC: 0.5000\n",
      "!Model weights were saved.\n",
      "==============================================================================--------------------------\n",
      "Epoch: 41 | Training loss: 0.6018 | Testing loss: 0.5870 | Training AUC: 0.4440 | Testing AUC: 0.5000\n",
      "==============================================================================--------------------------\n",
      "Epoch: 42 | Training loss: 0.6003 | Testing loss: 0.5866 | Training AUC: 0.4521 | Testing AUC: 0.5000\n",
      "==============================================================================--------------------------\n",
      "Epoch: 43 | Training loss: 0.6020 | Testing loss: 0.5858 | Training AUC: 0.4213 | Testing AUC: 0.5000\n",
      "==============================================================================--------------------------\n",
      "Epoch: 44 | Training loss: 0.6065 | Testing loss: 0.5855 | Training AUC: 0.3904 | Testing AUC: 0.5000\n",
      "==============================================================================--------------------------\n",
      "Epoch: 45 | Training loss: 0.5869 | Testing loss: 0.5855 | Training AUC: 0.6542 | Testing AUC: 0.5000\n",
      "!Model weights were saved.\n",
      "==============================================================================--------------------------\n",
      "Epoch: 46 | Training loss: 0.6084 | Testing loss: 0.5850 | Training AUC: 0.2979 | Testing AUC: 0.5000\n",
      "==============================================================================--------------------------\n",
      "Epoch: 47 | Training loss: 0.5900 | Testing loss: 0.5845 | Training AUC: 0.5966 | Testing AUC: 0.5000\n",
      "==============================================================================--------------------------\n",
      "Epoch: 48 | Training loss: 0.5983 | Testing loss: 0.5840 | Training AUC: 0.4846 | Testing AUC: 0.5000\n",
      "==============================================================================--------------------------\n",
      "Epoch: 49 | Training loss: 0.5975 | Testing loss: 0.5841 | Training AUC: 0.4968 | Testing AUC: 0.5000\n",
      "==============================================================================--------------------------\n",
      "Epoch: 50 | Training loss: 0.5977 | Testing loss: 0.5839 | Training AUC: 0.4838 | Testing AUC: 0.5000\n",
      "!Model weights were saved.\n",
      "==============================================================================--------------------------\n",
      "Epoch: 51 | Training loss: 0.6006 | Testing loss: 0.5837 | Training AUC: 0.4351 | Testing AUC: 0.5000\n",
      "==============================================================================--------------------------\n",
      "Epoch: 52 | Training loss: 0.5987 | Testing loss: 0.5836 | Training AUC: 0.4627 | Testing AUC: 0.5000\n",
      "==============================================================================--------------------------\n",
      "Epoch: 53 | Training loss: 0.5992 | Testing loss: 0.5838 | Training AUC: 0.4846 | Testing AUC: 0.5000\n",
      "==============================================================================--------------------------\n",
      "Epoch: 54 | Training loss: 0.5884 | Testing loss: 0.5835 | Training AUC: 0.5771 | Testing AUC: 0.5000\n",
      "==============================================================================--------------------------\n",
      "Epoch: 55 | Training loss: 0.5862 | Testing loss: 0.5834 | Training AUC: 0.6404 | Testing AUC: 0.5000\n",
      "!Model weights were saved.\n",
      "==============================================================================--------------------------\n",
      "Epoch: 56 | Training loss: 0.5932 | Testing loss: 0.5829 | Training AUC: 0.5219 | Testing AUC: 0.5000\n",
      "==============================================================================--------------------------\n",
      "Epoch: 57 | Training loss: 0.6015 | Testing loss: 0.5834 | Training AUC: 0.4310 | Testing AUC: 0.5000\n",
      "==============================================================================--------------------------\n",
      "Epoch: 58 | Training loss: 0.5934 | Testing loss: 0.5830 | Training AUC: 0.5430 | Testing AUC: 0.5000\n",
      "==============================================================================--------------------------\n",
      "Epoch: 59 | Training loss: 0.6036 | Testing loss: 0.5833 | Training AUC: 0.3994 | Testing AUC: 0.5000\n",
      "==============================================================================--------------------------\n",
      "Epoch: 60 | Training loss: 0.5974 | Testing loss: 0.5831 | Training AUC: 0.4903 | Testing AUC: 0.5000\n",
      "!Model weights were saved.\n",
      "==============================================================================--------------------------\n",
      "Epoch: 61 | Training loss: 0.5864 | Testing loss: 0.5830 | Training AUC: 0.6161 | Testing AUC: 0.5000\n",
      "==============================================================================--------------------------\n",
      "Epoch: 62 | Training loss: 0.5892 | Testing loss: 0.5829 | Training AUC: 0.5706 | Testing AUC: 0.5000\n",
      "==============================================================================--------------------------\n",
      "Epoch: 63 | Training loss: 0.6016 | Testing loss: 0.5833 | Training AUC: 0.4383 | Testing AUC: 0.5000\n",
      "==============================================================================--------------------------\n",
      "Epoch: 64 | Training loss: 0.6047 | Testing loss: 0.5831 | Training AUC: 0.3985 | Testing AUC: 0.5000\n",
      "==============================================================================--------------------------\n",
      "Epoch: 65 | Training loss: 0.6052 | Testing loss: 0.5834 | Training AUC: 0.3782 | Testing AUC: 0.5000\n",
      "!Model weights were saved.\n",
      "==============================================================================--------------------------\n",
      "Epoch: 66 | Training loss: 0.5918 | Testing loss: 0.5833 | Training AUC: 0.5455 | Testing AUC: 0.5000\n",
      "==============================================================================--------------------------\n",
      "Epoch: 67 | Training loss: 0.5975 | Testing loss: 0.5833 | Training AUC: 0.5032 | Testing AUC: 0.5000\n",
      "==============================================================================--------------------------\n",
      "Epoch: 68 | Training loss: 0.5944 | Testing loss: 0.5831 | Training AUC: 0.5398 | Testing AUC: 0.5000\n",
      "==============================================================================--------------------------\n",
      "Epoch: 69 | Training loss: 0.5970 | Testing loss: 0.5832 | Training AUC: 0.5000 | Testing AUC: 0.5000\n",
      "==============================================================================--------------------------\n",
      "Epoch: 70 | Training loss: 0.5990 | Testing loss: 0.5833 | Training AUC: 0.4659 | Testing AUC: 0.5000\n",
      "==============================================================================--------------------------\n",
      "Epoch: 71 | Training loss: 0.5974 | Testing loss: 0.5833 | Training AUC: 0.4773 | Testing AUC: 0.5000\n",
      "==============================================================================--------------------------\n",
      "Epoch: 72 | Training loss: 0.5920 | Testing loss: 0.5831 | Training AUC: 0.5568 | Testing AUC: 0.5000\n",
      "==============================================================================--------------------------\n",
      "Epoch: 73 | Training loss: 0.6000 | Testing loss: 0.5833 | Training AUC: 0.4399 | Testing AUC: 0.5000\n",
      "==============================================================================--------------------------\n",
      "Epoch: 74 | Training loss: 0.5906 | Testing loss: 0.5830 | Training AUC: 0.5998 | Testing AUC: 0.5000\n",
      "==============================================================================--------------------------\n",
      "Epoch: 75 | Training loss: 0.6030 | Testing loss: 0.5831 | Training AUC: 0.4180 | Testing AUC: 0.5000\n",
      "!Model weights were saved.\n",
      "==============================================================================--------------------------\n",
      "Epoch: 76 | Training loss: 0.5948 | Testing loss: 0.5832 | Training AUC: 0.5203 | Testing AUC: 0.5000\n",
      "==============================================================================--------------------------\n",
      "Epoch: 77 | Training loss: 0.5890 | Testing loss: 0.5829 | Training AUC: 0.6128 | Testing AUC: 0.5000\n",
      "==============================================================================--------------------------\n",
      "Epoch: 78 | Training loss: 0.5982 | Testing loss: 0.5828 | Training AUC: 0.4756 | Testing AUC: 0.5000\n",
      "==============================================================================--------------------------\n",
      "Epoch: 79 | Training loss: 0.5983 | Testing loss: 0.5829 | Training AUC: 0.4667 | Testing AUC: 0.5000\n",
      "==============================================================================--------------------------\n",
      "Epoch: 80 | Training loss: 0.6019 | Testing loss: 0.5830 | Training AUC: 0.4383 | Testing AUC: 0.5000\n",
      "!Model weights were saved.\n",
      "==============================================================================--------------------------\n",
      "Epoch: 81 | Training loss: 0.6069 | Testing loss: 0.5833 | Training AUC: 0.3644 | Testing AUC: 0.5000\n",
      "==============================================================================--------------------------\n",
      "Epoch: 82 | Training loss: 0.5894 | Testing loss: 0.5832 | Training AUC: 0.6023 | Testing AUC: 0.5000\n",
      "==============================================================================--------------------------\n",
      "Epoch: 83 | Training loss: 0.6001 | Testing loss: 0.5831 | Training AUC: 0.4521 | Testing AUC: 0.5000\n",
      "==============================================================================--------------------------\n",
      "Epoch: 84 | Training loss: 0.5931 | Testing loss: 0.5829 | Training AUC: 0.5576 | Testing AUC: 0.5000\n",
      "==============================================================================--------------------------\n",
      "Epoch: 85 | Training loss: 0.5968 | Testing loss: 0.5830 | Training AUC: 0.5057 | Testing AUC: 0.5000\n",
      "==============================================================================--------------------------\n",
      "Epoch: 86 | Training loss: 0.5978 | Testing loss: 0.5833 | Training AUC: 0.5179 | Testing AUC: 0.5000\n",
      "==============================================================================--------------------------\n",
      "Epoch: 87 | Training loss: 0.5934 | Testing loss: 0.5830 | Training AUC: 0.5041 | Testing AUC: 0.5000\n",
      "==============================================================================--------------------------\n",
      "Epoch: 88 | Training loss: 0.5891 | Testing loss: 0.5829 | Training AUC: 0.5877 | Testing AUC: 0.5000\n",
      "==============================================================================--------------------------\n",
      "Epoch: 89 | Training loss: 0.6028 | Testing loss: 0.5832 | Training AUC: 0.4091 | Testing AUC: 0.5000\n",
      "==============================================================================--------------------------\n",
      "Epoch: 90 | Training loss: 0.5944 | Testing loss: 0.5831 | Training AUC: 0.5365 | Testing AUC: 0.5000\n",
      "!Model weights were saved.\n",
      "==============================================================================--------------------------\n",
      "Epoch: 91 | Training loss: 0.5970 | Testing loss: 0.5832 | Training AUC: 0.5032 | Testing AUC: 0.5000\n",
      "==============================================================================--------------------------\n",
      "Epoch: 92 | Training loss: 0.6012 | Testing loss: 0.5832 | Training AUC: 0.4481 | Testing AUC: 0.5000\n",
      "==============================================================================--------------------------\n",
      "Epoch: 93 | Training loss: 0.6022 | Testing loss: 0.5832 | Training AUC: 0.4099 | Testing AUC: 0.5000\n",
      "==============================================================================--------------------------\n",
      "Epoch: 94 | Training loss: 0.5982 | Testing loss: 0.5831 | Training AUC: 0.4732 | Testing AUC: 0.5000\n",
      "==============================================================================--------------------------\n",
      "Epoch: 95 | Training loss: 0.6039 | Testing loss: 0.5832 | Training AUC: 0.3864 | Testing AUC: 0.5000\n",
      "==============================================================================--------------------------\n",
      "Epoch: 96 | Training loss: 0.5951 | Testing loss: 0.5836 | Training AUC: 0.5260 | Testing AUC: 0.5000\n",
      "==============================================================================--------------------------\n",
      "Epoch: 97 | Training loss: 0.5947 | Testing loss: 0.5833 | Training AUC: 0.5008 | Testing AUC: 0.5000\n",
      "==============================================================================--------------------------\n",
      "Epoch: 98 | Training loss: 0.5918 | Testing loss: 0.5833 | Training AUC: 0.5528 | Testing AUC: 0.5000\n",
      "==============================================================================--------------------------\n",
      "Epoch: 99 | Training loss: 0.5926 | Testing loss: 0.5833 | Training AUC: 0.5446 | Testing AUC: 0.5000\n",
      "==============================================================================--------------------------\n",
      "Epoch: 100 | Training loss: 0.5929 | Testing loss: 0.5831 | Training AUC: 0.5308 | Testing AUC: 0.5000\n",
      "==============================================================================--------------------------\n",
      "Epoch: 101 | Training loss: 0.5947 | Testing loss: 0.5830 | Training AUC: 0.5252 | Testing AUC: 0.5000\n",
      "==============================================================================--------------------------\n",
      "Epoch: 102 | Training loss: 0.5961 | Testing loss: 0.5830 | Training AUC: 0.4903 | Testing AUC: 0.5000\n",
      "==============================================================================--------------------------\n",
      "Epoch: 103 | Training loss: 0.5967 | Testing loss: 0.5831 | Training AUC: 0.4854 | Testing AUC: 0.5000\n",
      "==============================================================================--------------------------\n",
      "Epoch: 104 | Training loss: 0.5977 | Testing loss: 0.5830 | Training AUC: 0.4667 | Testing AUC: 0.5000\n",
      "==============================================================================--------------------------\n",
      "Epoch: 105 | Training loss: 0.5947 | Testing loss: 0.5829 | Training AUC: 0.5609 | Testing AUC: 0.5000\n",
      "!Model weights were saved.\n",
      "==============================================================================--------------------------\n",
      "Epoch: 106 | Training loss: 0.5850 | Testing loss: 0.5829 | Training AUC: 0.6494 | Testing AUC: 0.5000\n",
      "==============================================================================--------------------------\n",
      "Epoch: 107 | Training loss: 0.5977 | Testing loss: 0.5829 | Training AUC: 0.4813 | Testing AUC: 0.5000\n",
      "==============================================================================--------------------------\n",
      "Epoch: 108 | Training loss: 0.5948 | Testing loss: 0.5828 | Training AUC: 0.5235 | Testing AUC: 0.5000\n",
      "==============================================================================--------------------------\n",
      "Epoch: 109 | Training loss: 0.6033 | Testing loss: 0.5832 | Training AUC: 0.4245 | Testing AUC: 0.5000\n",
      "==============================================================================--------------------------\n",
      "Epoch: 110 | Training loss: 0.6013 | Testing loss: 0.5833 | Training AUC: 0.3985 | Testing AUC: 0.5000\n",
      "!Model weights were saved.\n",
      "==============================================================================--------------------------\n",
      "Epoch: 111 | Training loss: 0.6012 | Testing loss: 0.5836 | Training AUC: 0.4521 | Testing AUC: 0.5000\n",
      "==============================================================================--------------------------\n",
      "Epoch: 112 | Training loss: 0.6017 | Testing loss: 0.5833 | Training AUC: 0.4221 | Testing AUC: 0.5000\n",
      "==============================================================================--------------------------\n",
      "Epoch: 113 | Training loss: 0.5942 | Testing loss: 0.5831 | Training AUC: 0.5308 | Testing AUC: 0.5000\n",
      "==============================================================================--------------------------\n",
      "Epoch: 114 | Training loss: 0.6004 | Testing loss: 0.5834 | Training AUC: 0.4399 | Testing AUC: 0.5000\n",
      "==============================================================================--------------------------\n",
      "Epoch: 115 | Training loss: 0.5887 | Testing loss: 0.5832 | Training AUC: 0.6356 | Testing AUC: 0.5000\n",
      "==============================================================================--------------------------\n",
      "Epoch: 116 | Training loss: 0.6053 | Testing loss: 0.5833 | Training AUC: 0.3677 | Testing AUC: 0.5000\n",
      "==============================================================================--------------------------\n",
      "Epoch: 117 | Training loss: 0.5986 | Testing loss: 0.5834 | Training AUC: 0.4740 | Testing AUC: 0.5000\n",
      "==============================================================================--------------------------\n",
      "Epoch: 118 | Training loss: 0.6076 | Testing loss: 0.5834 | Training AUC: 0.3198 | Testing AUC: 0.5000\n",
      "==============================================================================--------------------------\n",
      "Epoch: 119 | Training loss: 0.5890 | Testing loss: 0.5833 | Training AUC: 0.5966 | Testing AUC: 0.5000\n",
      "==============================================================================--------------------------\n",
      "Epoch: 120 | Training loss: 0.5921 | Testing loss: 0.5833 | Training AUC: 0.5625 | Testing AUC: 0.5000\n",
      "==============================================================================--------------------------\n",
      "Epoch: 121 | Training loss: 0.5951 | Testing loss: 0.5834 | Training AUC: 0.5179 | Testing AUC: 0.5000\n",
      "==============================================================================--------------------------\n",
      "Epoch: 122 | Training loss: 0.5946 | Testing loss: 0.5832 | Training AUC: 0.5138 | Testing AUC: 0.5000\n",
      "==============================================================================--------------------------\n",
      "Epoch: 123 | Training loss: 0.5977 | Testing loss: 0.5835 | Training AUC: 0.4651 | Testing AUC: 0.5000\n",
      "==============================================================================--------------------------\n",
      "Epoch: 124 | Training loss: 0.6031 | Testing loss: 0.5834 | Training AUC: 0.4164 | Testing AUC: 0.5000\n",
      "==============================================================================--------------------------\n",
      "Epoch: 125 | Training loss: 0.5971 | Testing loss: 0.5834 | Training AUC: 0.4683 | Testing AUC: 0.5000\n",
      "==============================================================================--------------------------\n",
      "Epoch: 126 | Training loss: 0.5961 | Testing loss: 0.5833 | Training AUC: 0.5252 | Testing AUC: 0.5000\n",
      "==============================================================================--------------------------\n",
      "Epoch: 127 | Training loss: 0.5927 | Testing loss: 0.5829 | Training AUC: 0.5552 | Testing AUC: 0.5000\n",
      "==============================================================================--------------------------\n",
      "Epoch: 128 | Training loss: 0.6036 | Testing loss: 0.5833 | Training AUC: 0.3856 | Testing AUC: 0.5000\n",
      "==============================================================================--------------------------\n",
      "Epoch: 129 | Training loss: 0.6081 | Testing loss: 0.5834 | Training AUC: 0.3141 | Testing AUC: 0.5000\n",
      "==============================================================================--------------------------\n",
      "Epoch: 130 | Training loss: 0.5979 | Testing loss: 0.5834 | Training AUC: 0.4724 | Testing AUC: 0.5000\n",
      "!Model weights were saved.\n",
      "==============================================================================--------------------------\n",
      "Epoch: 131 | Training loss: 0.5961 | Testing loss: 0.5833 | Training AUC: 0.5065 | Testing AUC: 0.5000\n",
      "==============================================================================--------------------------\n",
      "Epoch: 132 | Training loss: 0.6005 | Testing loss: 0.5835 | Training AUC: 0.4416 | Testing AUC: 0.5000\n",
      "==============================================================================--------------------------\n",
      "Epoch: 133 | Training loss: 0.5980 | Testing loss: 0.5833 | Training AUC: 0.4570 | Testing AUC: 0.5000\n",
      "==============================================================================--------------------------\n",
      "Epoch: 134 | Training loss: 0.5925 | Testing loss: 0.5831 | Training AUC: 0.5568 | Testing AUC: 0.5000\n",
      "==============================================================================--------------------------\n",
      "Epoch: 135 | Training loss: 0.5970 | Testing loss: 0.5833 | Training AUC: 0.4797 | Testing AUC: 0.5000\n",
      "==============================================================================--------------------------\n",
      "Epoch: 136 | Training loss: 0.5991 | Testing loss: 0.5828 | Training AUC: 0.4627 | Testing AUC: 0.5000\n",
      "==============================================================================--------------------------\n",
      "Epoch: 137 | Training loss: 0.6053 | Testing loss: 0.5831 | Training AUC: 0.3896 | Testing AUC: 0.5000\n",
      "==============================================================================--------------------------\n",
      "Epoch: 138 | Training loss: 0.6004 | Testing loss: 0.5835 | Training AUC: 0.4034 | Testing AUC: 0.5000\n",
      "==============================================================================--------------------------\n",
      "Epoch: 139 | Training loss: 0.6002 | Testing loss: 0.5833 | Training AUC: 0.4237 | Testing AUC: 0.5000\n",
      "==============================================================================--------------------------\n",
      "Epoch: 140 | Training loss: 0.6019 | Testing loss: 0.5834 | Training AUC: 0.4205 | Testing AUC: 0.5000\n",
      "!Model weights were saved.\n",
      "==============================================================================--------------------------\n",
      "Epoch: 141 | Training loss: 0.5959 | Testing loss: 0.5833 | Training AUC: 0.4976 | Testing AUC: 0.5000\n",
      "==============================================================================--------------------------\n",
      "Epoch: 142 | Training loss: 0.5968 | Testing loss: 0.5833 | Training AUC: 0.4846 | Testing AUC: 0.5000\n",
      "==============================================================================--------------------------\n",
      "Epoch: 143 | Training loss: 0.6031 | Testing loss: 0.5837 | Training AUC: 0.3920 | Testing AUC: 0.5000\n",
      "==============================================================================--------------------------\n",
      "Epoch: 144 | Training loss: 0.5884 | Testing loss: 0.5833 | Training AUC: 0.6534 | Testing AUC: 0.5000\n",
      "==============================================================================--------------------------\n",
      "Epoch: 145 | Training loss: 0.5898 | Testing loss: 0.5830 | Training AUC: 0.5682 | Testing AUC: 0.5000\n",
      "==============================================================================--------------------------\n",
      "Epoch: 146 | Training loss: 0.5986 | Testing loss: 0.5830 | Training AUC: 0.4951 | Testing AUC: 0.5000\n",
      "==============================================================================--------------------------\n",
      "Epoch: 147 | Training loss: 0.5942 | Testing loss: 0.5831 | Training AUC: 0.5511 | Testing AUC: 0.5000\n",
      "==============================================================================--------------------------\n",
      "Epoch: 148 | Training loss: 0.5947 | Testing loss: 0.5831 | Training AUC: 0.5511 | Testing AUC: 0.5000\n",
      "==============================================================================--------------------------\n",
      "Epoch: 149 | Training loss: 0.5966 | Testing loss: 0.5829 | Training AUC: 0.5341 | Testing AUC: 0.5000\n",
      "==============================================================================--------------------------\n",
      "Epoch: 150 | Training loss: 0.6006 | Testing loss: 0.5829 | Training AUC: 0.4002 | Testing AUC: 0.5000\n",
      "!Model weights were saved.\n",
      "==============================================================================--------------------------\n",
      "Epoch: 151 | Training loss: 0.5932 | Testing loss: 0.5829 | Training AUC: 0.5552 | Testing AUC: 0.5000\n",
      "==============================================================================--------------------------\n",
      "Epoch: 152 | Training loss: 0.6002 | Testing loss: 0.5831 | Training AUC: 0.4245 | Testing AUC: 0.5000\n",
      "==============================================================================--------------------------\n",
      "Epoch: 153 | Training loss: 0.6002 | Testing loss: 0.5832 | Training AUC: 0.4554 | Testing AUC: 0.5000\n",
      "==============================================================================--------------------------\n",
      "Epoch: 154 | Training loss: 0.6006 | Testing loss: 0.5835 | Training AUC: 0.4131 | Testing AUC: 0.5000\n",
      "==============================================================================--------------------------\n",
      "Epoch: 155 | Training loss: 0.5836 | Testing loss: 0.5830 | Training AUC: 0.7143 | Testing AUC: 0.5000\n",
      "==============================================================================--------------------------\n",
      "Epoch: 156 | Training loss: 0.5989 | Testing loss: 0.5829 | Training AUC: 0.4513 | Testing AUC: 0.5000\n",
      "==============================================================================--------------------------\n",
      "Epoch: 157 | Training loss: 0.5948 | Testing loss: 0.5830 | Training AUC: 0.5300 | Testing AUC: 0.5000\n",
      "==============================================================================--------------------------\n",
      "Epoch: 158 | Training loss: 0.5908 | Testing loss: 0.5831 | Training AUC: 0.5836 | Testing AUC: 0.5000\n",
      "==============================================================================--------------------------\n",
      "Epoch: 159 | Training loss: 0.5966 | Testing loss: 0.5831 | Training AUC: 0.4765 | Testing AUC: 0.5000\n",
      "==============================================================================--------------------------\n",
      "Epoch: 160 | Training loss: 0.6054 | Testing loss: 0.5830 | Training AUC: 0.3482 | Testing AUC: 0.5000\n",
      "!Model weights were saved.\n",
      "==============================================================================--------------------------\n",
      "Epoch: 161 | Training loss: 0.5974 | Testing loss: 0.5832 | Training AUC: 0.4984 | Testing AUC: 0.5000\n",
      "==============================================================================--------------------------\n",
      "Epoch: 162 | Training loss: 0.5954 | Testing loss: 0.5831 | Training AUC: 0.4821 | Testing AUC: 0.5000\n",
      "==============================================================================--------------------------\n",
      "Epoch: 163 | Training loss: 0.5888 | Testing loss: 0.5830 | Training AUC: 0.6063 | Testing AUC: 0.5000\n",
      "==============================================================================--------------------------\n",
      "Epoch: 164 | Training loss: 0.5947 | Testing loss: 0.5831 | Training AUC: 0.5081 | Testing AUC: 0.5000\n",
      "==============================================================================--------------------------\n",
      "Epoch: 165 | Training loss: 0.6045 | Testing loss: 0.5830 | Training AUC: 0.3823 | Testing AUC: 0.5000\n",
      "==============================================================================--------------------------\n",
      "Epoch: 166 | Training loss: 0.5975 | Testing loss: 0.5833 | Training AUC: 0.4692 | Testing AUC: 0.5000\n",
      "==============================================================================--------------------------\n",
      "Epoch: 167 | Training loss: 0.5920 | Testing loss: 0.5831 | Training AUC: 0.5381 | Testing AUC: 0.5000\n",
      "==============================================================================--------------------------\n",
      "Epoch: 168 | Training loss: 0.5902 | Testing loss: 0.5829 | Training AUC: 0.6055 | Testing AUC: 0.5000\n",
      "==============================================================================--------------------------\n",
      "Epoch: 169 | Training loss: 0.5949 | Testing loss: 0.5831 | Training AUC: 0.5170 | Testing AUC: 0.5000\n",
      "==============================================================================--------------------------\n",
      "Epoch: 170 | Training loss: 0.6083 | Testing loss: 0.5831 | Training AUC: 0.3417 | Testing AUC: 0.5000\n",
      "!Model weights were saved.\n",
      "==============================================================================--------------------------\n",
      "Epoch: 171 | Training loss: 0.5945 | Testing loss: 0.5832 | Training AUC: 0.5073 | Testing AUC: 0.5000\n",
      "==============================================================================--------------------------\n",
      "Epoch: 172 | Training loss: 0.5978 | Testing loss: 0.5833 | Training AUC: 0.4489 | Testing AUC: 0.5000\n",
      "==============================================================================--------------------------\n",
      "Epoch: 173 | Training loss: 0.6000 | Testing loss: 0.5833 | Training AUC: 0.4586 | Testing AUC: 0.5000\n",
      "==============================================================================--------------------------\n",
      "Epoch: 174 | Training loss: 0.5908 | Testing loss: 0.5832 | Training AUC: 0.5804 | Testing AUC: 0.5000\n",
      "==============================================================================--------------------------\n",
      "Epoch: 175 | Training loss: 0.6016 | Testing loss: 0.5834 | Training AUC: 0.4334 | Testing AUC: 0.5000\n",
      "==============================================================================--------------------------\n",
      "Epoch: 176 | Training loss: 0.5910 | Testing loss: 0.5832 | Training AUC: 0.5584 | Testing AUC: 0.5000\n",
      "==============================================================================--------------------------\n",
      "Epoch: 177 | Training loss: 0.5972 | Testing loss: 0.5831 | Training AUC: 0.4651 | Testing AUC: 0.5000\n",
      "==============================================================================--------------------------\n",
      "Epoch: 178 | Training loss: 0.6012 | Testing loss: 0.5829 | Training AUC: 0.4375 | Testing AUC: 0.5000\n",
      "==============================================================================--------------------------\n",
      "Epoch: 179 | Training loss: 0.5925 | Testing loss: 0.5832 | Training AUC: 0.5552 | Testing AUC: 0.5000\n",
      "==============================================================================--------------------------\n",
      "Epoch: 180 | Training loss: 0.5955 | Testing loss: 0.5834 | Training AUC: 0.4830 | Testing AUC: 0.5000\n",
      "!Model weights were saved.\n",
      "==============================================================================--------------------------\n",
      "Epoch: 181 | Training loss: 0.5973 | Testing loss: 0.5831 | Training AUC: 0.4748 | Testing AUC: 0.5000\n",
      "==============================================================================--------------------------\n",
      "Epoch: 182 | Training loss: 0.6020 | Testing loss: 0.5832 | Training AUC: 0.4261 | Testing AUC: 0.5000\n",
      "==============================================================================--------------------------\n",
      "Epoch: 183 | Training loss: 0.5953 | Testing loss: 0.5831 | Training AUC: 0.4813 | Testing AUC: 0.5000\n",
      "==============================================================================--------------------------\n",
      "Epoch: 184 | Training loss: 0.6000 | Testing loss: 0.5834 | Training AUC: 0.4513 | Testing AUC: 0.5000\n",
      "==============================================================================--------------------------\n",
      "Epoch: 185 | Training loss: 0.5947 | Testing loss: 0.5832 | Training AUC: 0.5219 | Testing AUC: 0.5000\n",
      "==============================================================================--------------------------\n",
      "Epoch: 186 | Training loss: 0.5985 | Testing loss: 0.5834 | Training AUC: 0.4797 | Testing AUC: 0.5000\n",
      "==============================================================================--------------------------\n",
      "Epoch: 187 | Training loss: 0.5999 | Testing loss: 0.5834 | Training AUC: 0.4278 | Testing AUC: 0.5000\n",
      "==============================================================================--------------------------\n",
      "Epoch: 188 | Training loss: 0.6006 | Testing loss: 0.5833 | Training AUC: 0.4310 | Testing AUC: 0.5000\n",
      "==============================================================================--------------------------\n",
      "Epoch: 189 | Training loss: 0.5962 | Testing loss: 0.5834 | Training AUC: 0.4773 | Testing AUC: 0.5000\n",
      "==============================================================================--------------------------\n",
      "Epoch: 190 | Training loss: 0.5866 | Testing loss: 0.5832 | Training AUC: 0.6380 | Testing AUC: 0.5000\n",
      "==============================================================================--------------------------\n",
      "Epoch: 191 | Training loss: 0.6017 | Testing loss: 0.5830 | Training AUC: 0.4123 | Testing AUC: 0.5000\n",
      "==============================================================================--------------------------\n",
      "Epoch: 192 | Training loss: 0.6012 | Testing loss: 0.5830 | Training AUC: 0.4034 | Testing AUC: 0.5000\n",
      "==============================================================================--------------------------\n",
      "Epoch: 193 | Training loss: 0.5975 | Testing loss: 0.5833 | Training AUC: 0.4830 | Testing AUC: 0.5000\n",
      "==============================================================================--------------------------\n",
      "Epoch: 194 | Training loss: 0.5977 | Testing loss: 0.5833 | Training AUC: 0.4911 | Testing AUC: 0.5000\n",
      "==============================================================================--------------------------\n",
      "Epoch: 195 | Training loss: 0.5931 | Testing loss: 0.5831 | Training AUC: 0.5365 | Testing AUC: 0.5000\n",
      "!Model weights were saved.\n",
      "==============================================================================--------------------------\n",
      "Epoch: 196 | Training loss: 0.5976 | Testing loss: 0.5832 | Training AUC: 0.4643 | Testing AUC: 0.5000\n",
      "==============================================================================--------------------------\n",
      "Epoch: 197 | Training loss: 0.6020 | Testing loss: 0.5832 | Training AUC: 0.4002 | Testing AUC: 0.5000\n",
      "==============================================================================--------------------------\n",
      "Epoch: 198 | Training loss: 0.5947 | Testing loss: 0.5834 | Training AUC: 0.5398 | Testing AUC: 0.5000\n",
      "==============================================================================--------------------------\n",
      "Epoch: 199 | Training loss: 0.5928 | Testing loss: 0.5831 | Training AUC: 0.5609 | Testing AUC: 0.5000\n"
     ]
    }
   ],
   "source": [
    "for epoch in range(se, 200):\n",
    "    train_loss, train_auc = training(model, optimizer, criterion, train_dataloader)\n",
    "    test_loss, test_auc = testing(model, optimizer, criterion, test_dataloader)\n",
    "    #\n",
    "    update_stats(stats, epoch, train_loss, test_loss, train_auc, test_auc)\n",
    "    update_figure(figure, stats)\n",
    "    #\n",
    "    joblib.dump(stats, f'artifacts/{filename}.joblib')\n",
    "    if epoch % 5 == 0:\n",
    "        if len(stats['testing_loss']) >= 10:\n",
    "            x0 = torch.tensor(stats['testing_loss'][-10:-5]).mean()\n",
    "            if x0 > torch.tensor(stats['testing_loss'][-5:]).mean():\n",
    "                torch.save(\n",
    "                    model.state_dict(),\n",
    "                    f'artifacts/{filename}.pt'\n",
    "                )\n",
    "                print('!Model weights were saved.')"
   ]
  },
  {
   "cell_type": "markdown",
   "id": "ef8c8157-7ab9-4970-ad55-2f941d85349d",
   "metadata": {
    "tags": []
   },
   "source": [
    "# Modelling `as is`"
   ]
  },
  {
   "cell_type": "code",
   "execution_count": 8,
   "id": "467333f7-40e4-4e4e-b799-54a0a55b6bdf",
   "metadata": {
    "tags": []
   },
   "outputs": [
    {
     "data": {
      "text/plain": [
       "'cuda'"
      ]
     },
     "execution_count": 8,
     "metadata": {},
     "output_type": "execute_result"
    }
   ],
   "source": [
    "device = 'cuda' if torch.cuda.is_available() else 'cpu'\n",
    "device"
   ]
  },
  {
   "cell_type": "code",
   "execution_count": 9,
   "id": "4bfc3ee3-d6d9-4801-9295-898f5822d4cc",
   "metadata": {
    "tags": []
   },
   "outputs": [],
   "source": [
    "from utils.spectrograms import get_spectrogram\n",
    "from utils.miscellaneous import update_stats\n",
    "from utils.plot import get_figure, update_figure"
   ]
  },
  {
   "cell_type": "code",
   "execution_count": 10,
   "id": "e9ca6a35-bd61-437b-b66d-6438e2fad0d9",
   "metadata": {
    "ExecuteTime": {
     "end_time": "2024-01-07T09:39:45.388382Z",
     "start_time": "2024-01-07T09:39:45.383137Z"
    },
    "tags": []
   },
   "outputs": [],
   "source": [
    "class Podcast(Dataset):\n",
    "\n",
    "    def __init__(self, X, y):\n",
    "        self.x = X\n",
    "        self.y = y\n",
    "\n",
    "    def __len__(self):\n",
    "        return len(self.x)\n",
    "\n",
    "    def __getitem__(self, idx):\n",
    "        label = self.y[idx]\n",
    "        episode = self.x[idx]\n",
    "        #\n",
    "        waveform, sample_rate = torchaudio.load(f'{raw_path}/{episode}.mp3')\n",
    "        #\n",
    "        return get_spectrogram(waveform.mean(dim=0), sample_rate, 'mfcc'), label"
   ]
  },
  {
   "cell_type": "code",
   "execution_count": 11,
   "id": "4d0dbd68-6737-4dc1-a49b-fd38127b72e4",
   "metadata": {
    "ExecuteTime": {
     "end_time": "2024-01-07T09:39:46.519333Z",
     "start_time": "2024-01-07T09:39:46.515826Z"
    },
    "tags": []
   },
   "outputs": [],
   "source": [
    "train = Podcast(X_train, y_train)\n",
    "train_dataloader = DataLoader(train, shuffle=True)"
   ]
  },
  {
   "cell_type": "code",
   "execution_count": 12,
   "id": "96ff78e2-ab51-4167-ba7b-a13ae54dafbc",
   "metadata": {
    "ExecuteTime": {
     "end_time": "2024-01-07T09:39:47.385464Z",
     "start_time": "2024-01-07T09:39:47.381841Z"
    },
    "tags": []
   },
   "outputs": [],
   "source": [
    "test = Podcast(X_test, y_test)\n",
    "test_dataloader = DataLoader(test)"
   ]
  },
  {
   "cell_type": "code",
   "execution_count": 13,
   "id": "e3e2b10a-ebce-40b0-8c06-0c44ea498a87",
   "metadata": {
    "ExecuteTime": {
     "end_time": "2024-03-10T10:15:41.917197Z",
     "start_time": "2024-03-10T10:15:41.903943Z"
    },
    "tags": []
   },
   "outputs": [],
   "source": [
    "class CNNet(nn.Module):\n",
    "    def __init__(self):\n",
    "        super().__init__()\n",
    "        self.layer1 = nn.Sequential(\n",
    "            nn.Conv2d(in_channels=1, out_channels=1, kernel_size=(2, 4)),\n",
    "            nn.ReLU(),\n",
    "            nn.AvgPool2d(kernel_size=(2, 4))\n",
    "        )\n",
    "        self.layer2 = nn.Sequential(\n",
    "            nn.Conv2d(in_channels=1, out_channels=1, kernel_size=(3, 6)),\n",
    "            nn.ReLU(),\n",
    "            nn.AvgPool2d(kernel_size=(3, 6))\n",
    "        )\n",
    "        self.layer3 = nn.Sequential(\n",
    "            nn.Conv2d(in_channels=1, out_channels=1, kernel_size=(5, 10)),\n",
    "            nn.ReLU(),\n",
    "            nn.AdaptiveAvgPool2d(output_size=(5, 10))\n",
    "        )\n",
    "        #\n",
    "        self.flatten = nn.Flatten()\n",
    "        self.relu = nn.ReLU()\n",
    "        self.dropout = nn.Dropout(0.33)\n",
    "        self.linear1 = nn.Linear(50, 8)\n",
    "        self.linear2 = nn.Linear(8, 1)\n",
    "\n",
    "    def forward(self, x):\n",
    "        # print('.', end='')\n",
    "        shapes = [x.shape]\n",
    "        # print()\n",
    "        x = self.layer1(x)\n",
    "        shapes.append(x.shape)\n",
    "        x = self.layer2(x)\n",
    "        shapes.append(x.shape)\n",
    "        x = self.layer3(x)\n",
    "        # print(shapes, self.training)\n",
    "        #\n",
    "        x = self.flatten(x)\n",
    "        # print(x.shape)\n",
    "        x = self.relu(self.linear1(x))\n",
    "        x = self.dropout(x)\n",
    "        print('=' if self.training else '-', end='')\n",
    "        #\n",
    "        return self.linear2(x)\n",
    "\n",
    "\n",
    "model = CNNet().to(device, dtype=torch.float32)"
   ]
  },
  {
   "cell_type": "code",
   "execution_count": 14,
   "id": "b6d51325-4dec-43e8-bf38-bcb6daeeb5bc",
   "metadata": {
    "ExecuteTime": {
     "end_time": "2024-01-07T09:56:03.622408Z",
     "start_time": "2024-01-07T09:56:03.618260Z"
    },
    "tags": []
   },
   "outputs": [],
   "source": [
    "criterion = nn.BCEWithLogitsLoss()\n",
    "optimizer = torch.optim.Adam(model.parameters(), lr=LEARNING_RATE)"
   ]
  },
  {
   "cell_type": "code",
   "execution_count": 15,
   "id": "019e2982-65f6-4d2f-b2fe-4f3a6e8cdf1f",
   "metadata": {
    "tags": []
   },
   "outputs": [],
   "source": [
    "filename = '08_mfcc'"
   ]
  },
  {
   "cell_type": "code",
   "execution_count": 14,
   "id": "d65af4d7-a2a5-4631-8ad3-440111cc8240",
   "metadata": {
    "tags": []
   },
   "outputs": [],
   "source": [
    "# !rm artifacts/08_mfcc.joblib\n",
    "# !rm artifacts/08_mfcc.pt"
   ]
  },
  {
   "cell_type": "code",
   "execution_count": 16,
   "id": "9face793-f709-4a49-a1a7-e8e68df32306",
   "metadata": {
    "tags": []
   },
   "outputs": [
    {
     "name": "stdout",
     "output_type": "stream",
     "text": [
      "!Model weights are loaded.\n",
      "!Training stats is loaded.\n"
     ]
    }
   ],
   "source": [
    "if os.path.exists(f'artifacts/{filename}.pt'):\n",
    "    model.load_state_dict(\n",
    "        torch.load(f'artifacts/{filename}.pt')\n",
    "    )\n",
    "    print('!Model weights are loaded.')\n",
    "    \n",
    "if os.path.exists(f'artifacts/{filename}.joblib'):\n",
    "    stats = joblib.load(f'artifacts/{filename}.joblib')\n",
    "    print('!Training stats is loaded.')\n",
    "else:\n",
    "    stats = {\n",
    "        'epoch': [],\n",
    "        'training_loss': [],\n",
    "        'testing_loss': [],\n",
    "        'training_auc': [],\n",
    "        'testing_auc': [],\n",
    "    }\n",
    "    \n",
    "se = stats['epoch'][-1] if stats['epoch'] else 0"
   ]
  },
  {
   "cell_type": "code",
   "execution_count": 17,
   "id": "f00b9f53-20cf-4b24-a127-440f33a78386",
   "metadata": {
    "tags": []
   },
   "outputs": [
    {
     "data": {
      "application/vnd.jupyter.widget-view+json": {
       "model_id": "f955d57ea7a2467d8926043c069253e7",
       "version_major": 2,
       "version_minor": 0
      },
      "text/plain": [
       "FigureWidget({\n",
       "    'data': [{'line': {'color': 'black', 'dash': 'dash', 'width': 0.5},\n",
       "              'marker': {'color': 'white', 'line': {'color': 'black', 'width': 1}, 'size': 6},\n",
       "              'mode': 'lines+markers',\n",
       "              'name': 'Training',\n",
       "              'type': 'scatter',\n",
       "              'uid': '3f68674d-9163-4d53-8842-c1965f96482f',\n",
       "              'x': [0, 1, 2, 3, 4, 5, 6, 7, 8, 9, 10, 11, 12, 13, 14, 14, 15, 16,\n",
       "                    17, 18, 19, 20, 21, 22, 23, 24, 25, 26, 27, 28, 29, 30, 31, 32,\n",
       "                    33, 34, 35, 36, 37, 38, 39, 40, 41, 42, 43, 44, 45],\n",
       "              'xaxis': 'x',\n",
       "              'y': [0.6181247234344482, 0.611427903175354, 0.5844593644142151,\n",
       "                    0.5849707126617432, 0.526597261428833, 0.5729634761810303,\n",
       "                    0.5079140067100525, 0.5262066721916199, 0.516080379486084,\n",
       "                    0.5420356392860413, 0.5084055066108704, 0.49899885058403015,\n",
       "                    0.49587610363960266, 0.5069407820701599, 0.48269912600517273,\n",
       "                    0.4920361340045929, 0.47292304039001465, 0.5094190835952759,\n",
       "                    0.5023238062858582, 0.5118811726570129, 0.5042169094085693,\n",
       "                    0.4775608777999878, 0.5067728161811829, 0.5125544667243958,\n",
       "                    0.464750200510025, 0.4674583375453949, 0.5017163157463074,\n",
       "                    0.427080899477005, 0.49625900387763977, 0.4255219101905823,\n",
       "                    0.4239360988140106, 0.4301469326019287, 0.44108274579048157,\n",
       "                    0.39444708824157715, 0.36953285336494446, 0.4291272759437561,\n",
       "                    0.4330664277076721, 0.35727161169052124, 0.536986231803894,\n",
       "                    0.4378201365470886, 0.3679898977279663, 0.4608672559261322,\n",
       "                    0.44683119654655457, 0.4113125801086426, 0.336687296628952,\n",
       "                    0.39878663420677185, 0.3990659713745117],\n",
       "              'yaxis': 'y'},\n",
       "             {'line': {'color': 'red', 'dash': 'dash', 'width': 0.5},\n",
       "              'marker': {'color': 'white', 'line': {'color': 'red', 'width': 1}, 'size': 6},\n",
       "              'mode': 'lines+markers',\n",
       "              'name': 'Testing',\n",
       "              'type': 'scatter',\n",
       "              'uid': 'a08bc82c-8ea4-4297-9e59-d3aca31d4089',\n",
       "              'x': [0, 1, 2, 3, 4, 5, 6, 7, 8, 9, 10, 11, 12, 13, 14, 14, 15, 16,\n",
       "                    17, 18, 19, 20, 21, 22, 23, 24, 25, 26, 27, 28, 29, 30, 31, 32,\n",
       "                    33, 34, 35, 36, 37, 38, 39, 40, 41, 42, 43, 44, 45],\n",
       "              'xaxis': 'x',\n",
       "              'y': [0.5919286012649536, 0.5812563300132751, 0.5584242343902588,\n",
       "                    0.5492553114891052, 0.5315159559249878, 0.526889979839325,\n",
       "                    0.506551206111908, 0.49650838971138, 0.49004027247428894,\n",
       "                    0.49659109115600586, 0.4770544171333313, 0.4952950179576874,\n",
       "                    0.47052431106567383, 0.46264660358428955, 0.451996773481369,\n",
       "                    0.45922473073005676, 0.4532414674758911, 0.48600420355796814,\n",
       "                    0.4510606527328491, 0.46806684136390686, 0.45431768894195557,\n",
       "                    0.4474005401134491, 0.4441913068294525, 0.45660707354545593,\n",
       "                    0.44014298915863037, 0.43655067682266235, 0.4527759253978729,\n",
       "                    0.4319063425064087, 0.44608303904533386, 0.42624762654304504,\n",
       "                    0.4254787266254425, 0.4367208182811737, 0.4586621820926666,\n",
       "                    0.4627378284931183, 0.4813462495803833, 0.4804588556289673,\n",
       "                    0.48027148842811584, 0.5376794934272766, 0.49147921800613403,\n",
       "                    0.4827054738998413, 0.5093379616737366, 0.4899592101573944,\n",
       "                    0.5061160326004028, 0.44427984952926636, 0.49173739552497864,\n",
       "                    0.4972689747810364, 0.4774594306945801],\n",
       "              'yaxis': 'y'},\n",
       "             {'line': {'color': 'black', 'dash': 'dash', 'width': 0.5},\n",
       "              'marker': {'color': 'white', 'line': {'color': 'black', 'width': 1}, 'size': 6},\n",
       "              'mode': 'lines+markers',\n",
       "              'showlegend': False,\n",
       "              'type': 'scatter',\n",
       "              'uid': 'be7b50e5-c65b-43a4-90c3-ae87ffe90e4a',\n",
       "              'x': [0, 1, 2, 3, 4, 5, 6, 7, 8, 9, 10, 11, 12, 13, 14, 14, 15, 16,\n",
       "                    17, 18, 19, 20, 21, 22, 23, 24, 25, 26, 27, 28, 29, 30, 31, 32,\n",
       "                    33, 34, 35, 36, 37, 38, 39, 40, 41, 42, 43, 44, 45],\n",
       "              'xaxis': 'x2',\n",
       "              'y': [0.48863636363636365, 0.47077922077922074, 0.5941558441558441,\n",
       "                    0.5706168831168831, 0.7435064935064934, 0.6298701298701298,\n",
       "                    0.7556818181818182, 0.7150974025974026, 0.7613636363636365,\n",
       "                    0.7329545454545455, 0.7353896103896104, 0.7873376623376623,\n",
       "                    0.7767857142857143, 0.8019480519480521, 0.7751623376623377,\n",
       "                    0.762987012987013, 0.788961038961039, 0.7613636363636364,\n",
       "                    0.7491883116883117, 0.7881493506493505, 0.8027597402597403,\n",
       "                    0.7995129870129871, 0.7897727272727273, 0.7483766233766234,\n",
       "                    0.827922077922078, 0.8157467532467533, 0.7922077922077921,\n",
       "                    0.8660714285714286, 0.7905844155844156, 0.8538961038961038,\n",
       "                    0.859577922077922, 0.8612012987012987, 0.8417207792207793,\n",
       "                    0.8977272727272727, 0.9017857142857143, 0.8392857142857142,\n",
       "                    0.8457792207792209, 0.922077922077922, 0.7840909090909092,\n",
       "                    0.8457792207792209, 0.8831168831168831, 0.8352272727272727,\n",
       "                    0.8668831168831169, 0.8717532467532467, 0.9155844155844157,\n",
       "                    0.8936688311688311, 0.8855519480519481],\n",
       "              'yaxis': 'y2'},\n",
       "             {'line': {'color': 'red', 'dash': 'dash', 'width': 0.5},\n",
       "              'marker': {'color': 'white', 'line': {'color': 'red', 'width': 1}, 'size': 6},\n",
       "              'mode': 'lines+markers',\n",
       "              'showlegend': False,\n",
       "              'type': 'scatter',\n",
       "              'uid': '153359a0-0177-4125-8820-6e38d1d406cf',\n",
       "              'x': [0, 1, 2, 3, 4, 5, 6, 7, 8, 9, 10, 11, 12, 13, 14, 14, 15, 16,\n",
       "                    17, 18, 19, 20, 21, 22, 23, 24, 25, 26, 27, 28, 29, 30, 31, 32,\n",
       "                    33, 34, 35, 36, 37, 38, 39, 40, 41, 42, 43, 44, 45],\n",
       "              'xaxis': 'x2',\n",
       "              'y': [0.7218045112781954, 0.7142857142857143, 0.736842105263158,\n",
       "                    0.6992481203007519, 0.6917293233082707, 0.7142857142857143,\n",
       "                    0.7067669172932332, 0.7218045112781954, 0.706766917293233,\n",
       "                    0.7518796992481203, 0.7593984962406015, 0.7669172932330828,\n",
       "                    0.7744360902255639, 0.7669172932330827, 0.7669172932330827,\n",
       "                    0.7593984962406015, 0.7518796992481203, 0.7744360902255638,\n",
       "                    0.7744360902255638, 0.8120300751879699, 0.7669172932330827,\n",
       "                    0.7969924812030075, 0.7744360902255638, 0.8045112781954886,\n",
       "                    0.7819548872180451, 0.7744360902255638, 0.7894736842105263,\n",
       "                    0.7669172932330828, 0.7894736842105263, 0.744360902255639,\n",
       "                    0.7518796992481203, 0.7443609022556391, 0.7293233082706767,\n",
       "                    0.7293233082706767, 0.7142857142857142, 0.706766917293233,\n",
       "                    0.7142857142857142, 0.7142857142857142, 0.7293233082706766,\n",
       "                    0.7218045112781954, 0.706766917293233, 0.7142857142857142,\n",
       "                    0.736842105263158, 0.7443609022556391, 0.7368421052631579,\n",
       "                    0.7518796992481203, 0.7669172932330827],\n",
       "              'yaxis': 'y2'}],\n",
       "    'layout': {'font': {'family': 'Arial', 'size': 12},\n",
       "               'height': 500,\n",
       "               'plot_bgcolor': 'white',\n",
       "               'template': '...',\n",
       "               'width': 1000,\n",
       "               'xaxis': {'anchor': 'y',\n",
       "                         'domain': [0.0, 0.45],\n",
       "                         'gridcolor': 'lightgrey',\n",
       "                         'griddash': 'dot',\n",
       "                         'gridwidth': 0.1,\n",
       "                         'linecolor': 'black',\n",
       "                         'mirror': True,\n",
       "                         'showgrid': True,\n",
       "                         'showline': True,\n",
       "                         'title': {'text': 'Epoch'}},\n",
       "               'xaxis2': {'anchor': 'y2',\n",
       "                          'domain': [0.55, 1.0],\n",
       "                          'gridcolor': 'lightgrey',\n",
       "                          'griddash': 'dot',\n",
       "                          'gridwidth': 0.1,\n",
       "                          'linecolor': 'black',\n",
       "                          'mirror': True,\n",
       "                          'showgrid': True,\n",
       "                          'showline': True,\n",
       "                          'title': {'text': 'Epoch'}},\n",
       "               'yaxis': {'anchor': 'x',\n",
       "                         'domain': [0.0, 1.0],\n",
       "                         'gridcolor': 'lightgrey',\n",
       "                         'griddash': 'dot',\n",
       "                         'gridwidth': 0.1,\n",
       "                         'linecolor': 'black',\n",
       "                         'mirror': True,\n",
       "                         'showgrid': True,\n",
       "                         'showline': True,\n",
       "                         'title': {'text': 'Loss'}},\n",
       "               'yaxis2': {'anchor': 'x2',\n",
       "                          'domain': [0.0, 1.0],\n",
       "                          'gridcolor': 'lightgrey',\n",
       "                          'griddash': 'dot',\n",
       "                          'gridwidth': 0.1,\n",
       "                          'linecolor': 'black',\n",
       "                          'mirror': True,\n",
       "                          'showgrid': True,\n",
       "                          'showline': True,\n",
       "                          'title': {'text': 'AUC ROC'}}}\n",
       "})"
      ]
     },
     "execution_count": 17,
     "metadata": {},
     "output_type": "execute_result"
    }
   ],
   "source": [
    "figure = get_figure(stats)\n",
    "figure"
   ]
  },
  {
   "cell_type": "code",
   "execution_count": null,
   "id": "f426554f-dbe4-49ce-863f-777f5907160b",
   "metadata": {
    "tags": []
   },
   "outputs": [
    {
     "name": "stdout",
     "output_type": "stream",
     "text": [
      "="
     ]
    },
    {
     "name": "stderr",
     "output_type": "stream",
     "text": [
      "/opt/conda/lib/python3.11/site-packages/torch/autograd/graph.py:744: UserWarning:\n",
      "\n",
      "Plan failed with a cudnnException: CUDNN_BACKEND_EXECUTION_PLAN_DESCRIPTOR: cudnnFinalize Descriptor Failed cudnn_status: CUDNN_STATUS_NOT_SUPPORTED (Triggered internally at ../aten/src/ATen/native/cudnn/Conv_v8.cpp:919.)\n",
      "\n"
     ]
    },
    {
     "name": "stdout",
     "output_type": "stream",
     "text": [
      "================"
     ]
    }
   ],
   "source": [
    "for epoch in range(se, 200):\n",
    "    train_loss, train_auc = training(model, optimizer, criterion, train_dataloader)\n",
    "    test_loss, test_auc = testing(model, optimizer, criterion, test_dataloader)\n",
    "    #\n",
    "    update_stats(stats, epoch, train_loss, test_loss, train_auc, test_auc)\n",
    "    update_figure(figure, stats, filename)\n",
    "    #\n",
    "    joblib.dump(stats, f'artifacts/{filename}.joblib')\n",
    "    if epoch % 5 == 0:\n",
    "        if len(stats['testing_loss']) >= 10:\n",
    "            x0 = torch.tensor(stats['testing_loss'][-10:-5]).mean()\n",
    "            if x0 > torch.tensor(stats['testing_loss'][-5:]).mean():\n",
    "                torch.save(\n",
    "                    model.state_dict(),\n",
    "                    f'artifacts/{filename}.pt'\n",
    "                )\n",
    "                print('!Model weights were saved.')"
   ]
  },
  {
   "cell_type": "markdown",
   "id": "6ce0d33e-739f-435e-8358-db9d0d71b7ae",
   "metadata": {},
   "source": [
    "## + augmentations"
   ]
  },
  {
   "cell_type": "code",
   "execution_count": 34,
   "id": "1ee9526e-f18f-4e6f-b348-9b2988e985b8",
   "metadata": {
    "tags": []
   },
   "outputs": [
    {
     "data": {
      "text/plain": [
       "'cuda'"
      ]
     },
     "execution_count": 34,
     "metadata": {},
     "output_type": "execute_result"
    }
   ],
   "source": [
    "device = 'cuda' if torch.cuda.is_available() else 'cpu'\n",
    "device"
   ]
  },
  {
   "cell_type": "code",
   "execution_count": 35,
   "id": "bc8593fd-f385-47d0-be61-0ee4a6d985b7",
   "metadata": {
    "tags": []
   },
   "outputs": [],
   "source": [
    "from utils.augmentations import augment, masking\n",
    "from utils.spectrograms import get_spectrogram\n",
    "from utils.miscellaneous import update_stats\n",
    "from utils.plot import get_figure, update_figure"
   ]
  },
  {
   "cell_type": "code",
   "execution_count": 36,
   "id": "42183722-f673-446c-bed3-ee3fa1f68a14",
   "metadata": {
    "ExecuteTime": {
     "end_time": "2024-01-07T09:39:45.388382Z",
     "start_time": "2024-01-07T09:39:45.383137Z"
    },
    "tags": []
   },
   "outputs": [],
   "source": [
    "class Podcast(Dataset):\n",
    "\n",
    "    def __init__(self, X, y, clipping=True, training=True):\n",
    "        self.x = X\n",
    "        self.y = y\n",
    "        self.clipping = clipping\n",
    "        self.training = training\n",
    "\n",
    "    def __len__(self):\n",
    "        return len(self.x)\n",
    "\n",
    "    def __getitem__(self, idx):\n",
    "        label = self.y[idx]\n",
    "        episode = self.x[idx]\n",
    "        #\n",
    "        waveform, sample_rate = torchaudio.load(f'{raw_path}/{episode}.mp3')\n",
    "        waveform = waveform.mean(dim=0)\n",
    "        #\n",
    "        if self.training:\n",
    "            waveform = augment(waveform, sample_rate, self.clipping)\n",
    "        spectrogram = get_spectrogram(waveform, sample_rate, 'mfcc')\n",
    "        if self.training:\n",
    "            spectrogram = masking(spectrogram)\n",
    "        #\n",
    "        return spectrogram, label"
   ]
  },
  {
   "cell_type": "code",
   "execution_count": 37,
   "id": "903c6f3e-b5df-4622-8c74-071df0b74aad",
   "metadata": {
    "ExecuteTime": {
     "end_time": "2024-01-07T09:39:46.519333Z",
     "start_time": "2024-01-07T09:39:46.515826Z"
    },
    "tags": []
   },
   "outputs": [],
   "source": [
    "train = Podcast(X_train, y_train)\n",
    "train_dataloader = DataLoader(train, shuffle=True)"
   ]
  },
  {
   "cell_type": "code",
   "execution_count": 38,
   "id": "17ad7f7e-6cce-43f7-9c4b-150d26491f69",
   "metadata": {
    "ExecuteTime": {
     "end_time": "2024-01-07T09:39:47.385464Z",
     "start_time": "2024-01-07T09:39:47.381841Z"
    },
    "tags": []
   },
   "outputs": [],
   "source": [
    "test = Podcast(X_test, y_test, training=False)\n",
    "test_dataloader = DataLoader(test)"
   ]
  },
  {
   "cell_type": "code",
   "execution_count": 49,
   "id": "575fcb76-5759-49e1-851a-dff093851e9e",
   "metadata": {
    "ExecuteTime": {
     "end_time": "2024-03-10T10:15:41.917197Z",
     "start_time": "2024-03-10T10:15:41.903943Z"
    },
    "tags": []
   },
   "outputs": [],
   "source": [
    "class CNNet(nn.Module):\n",
    "    def __init__(self):\n",
    "        super().__init__()\n",
    "        self.layer1 = nn.Sequential(\n",
    "            nn.Conv2d(in_channels=1, out_channels=1, kernel_size=(2, 2)),\n",
    "            nn.ReLU(),\n",
    "            nn.AvgPool2d(kernel_size=(2, 2))\n",
    "        )\n",
    "        self.layer2 = nn.Sequential(\n",
    "            nn.Conv2d(in_channels=1, out_channels=1, kernel_size=(3, 3)),\n",
    "            nn.ReLU(),\n",
    "            nn.AvgPool2d(kernel_size=(3, 3))\n",
    "        )\n",
    "        self.layer3 = nn.Sequential(\n",
    "            nn.Conv2d(in_channels=1, out_channels=1, kernel_size=(5, 5)),\n",
    "            nn.ReLU(),\n",
    "            nn.AdaptiveAvgPool2d(output_size=(16, 32))\n",
    "        )\n",
    "        #\n",
    "        self.flatten = nn.Flatten()\n",
    "        self.relu = nn.ReLU()\n",
    "        self.dropout = nn.Dropout(0.33)\n",
    "        self.linear1 = nn.Linear(512, 64)\n",
    "        self.linear2 = nn.Linear(64, 1)\n",
    "\n",
    "    def forward(self, x):\n",
    "        # print('.', end='')\n",
    "        shapes = [x.shape]\n",
    "        # print()\n",
    "        x = self.layer1(x)\n",
    "        shapes.append(x.shape)\n",
    "        x = self.layer2(x)\n",
    "        shapes.append(x.shape)\n",
    "        x = self.layer3(x)\n",
    "        print(shapes, self.training)\n",
    "        #\n",
    "        x = self.flatten(x)\n",
    "        # print(x.shape)\n",
    "        x = self.relu(self.linear1(x))\n",
    "        x = self.dropout(x)\n",
    "        # print('=' if self.training else '-', end='')\n",
    "        #\n",
    "        return self.linear2(x)\n",
    "\n",
    "\n",
    "model = CNNet().to(device, dtype=torch.float32)"
   ]
  },
  {
   "cell_type": "code",
   "execution_count": 50,
   "id": "be78317e-5847-4769-a160-f61a8ef43556",
   "metadata": {
    "ExecuteTime": {
     "end_time": "2024-01-07T09:56:03.622408Z",
     "start_time": "2024-01-07T09:56:03.618260Z"
    },
    "tags": []
   },
   "outputs": [],
   "source": [
    "criterion = nn.BCEWithLogitsLoss()\n",
    "optimizer = torch.optim.Adam(model.parameters(), lr=LEARNING_RATE)"
   ]
  },
  {
   "cell_type": "code",
   "execution_count": 51,
   "id": "74ecdd32-73a8-480a-a983-1a9458b9142d",
   "metadata": {
    "tags": []
   },
   "outputs": [
    {
     "name": "stdout",
     "output_type": "stream",
     "text": [
      "[torch.Size([1, 128, 227]), torch.Size([1, 63, 113]), torch.Size([1, 20, 37])] True\n",
      "[torch.Size([1, 128, 209]), torch.Size([1, 63, 104]), torch.Size([1, 20, 34])] True\n",
      "[torch.Size([1, 128, 227]), torch.Size([1, 63, 113]), torch.Size([1, 20, 37])] True\n",
      "[torch.Size([1, 128, 227]), torch.Size([1, 63, 113]), torch.Size([1, 20, 37])] True\n",
      "[torch.Size([1, 128, 227]), torch.Size([1, 63, 113]), torch.Size([1, 20, 37])] True\n",
      "[torch.Size([1, 128, 227]), torch.Size([1, 63, 113]), torch.Size([1, 20, 37])] True\n",
      "[torch.Size([1, 128, 227]), torch.Size([1, 63, 113]), torch.Size([1, 20, 37])] True\n",
      "[torch.Size([1, 128, 209]), torch.Size([1, 63, 104]), torch.Size([1, 20, 34])] True\n",
      "[torch.Size([1, 128, 227]), torch.Size([1, 63, 113]), torch.Size([1, 20, 37])] True\n",
      "[torch.Size([1, 128, 227]), torch.Size([1, 63, 113]), torch.Size([1, 20, 37])] True\n",
      "[torch.Size([1, 128, 227]), torch.Size([1, 63, 113]), torch.Size([1, 20, 37])] True\n",
      "[torch.Size([1, 128, 227]), torch.Size([1, 63, 113]), torch.Size([1, 20, 37])] True\n",
      "[torch.Size([1, 128, 227]), torch.Size([1, 63, 113]), torch.Size([1, 20, 37])] True\n",
      "[torch.Size([1, 128, 209]), torch.Size([1, 63, 104]), torch.Size([1, 20, 34])] True\n",
      "[torch.Size([1, 128, 227]), torch.Size([1, 63, 113]), torch.Size([1, 20, 37])] True\n",
      "[torch.Size([1, 128, 227]), torch.Size([1, 63, 113]), torch.Size([1, 20, 37])] True\n",
      "[torch.Size([1, 128, 227]), torch.Size([1, 63, 113]), torch.Size([1, 20, 37])] True\n",
      "[torch.Size([1, 128, 227]), torch.Size([1, 63, 113]), torch.Size([1, 20, 37])] True\n",
      "[torch.Size([1, 128, 227]), torch.Size([1, 63, 113]), torch.Size([1, 20, 37])] True\n",
      "[torch.Size([1, 128, 227]), torch.Size([1, 63, 113]), torch.Size([1, 20, 37])] True\n",
      "[torch.Size([1, 128, 227]), torch.Size([1, 63, 113]), torch.Size([1, 20, 37])] True\n",
      "[torch.Size([1, 128, 227]), torch.Size([1, 63, 113]), torch.Size([1, 20, 37])] True\n",
      "[torch.Size([1, 128, 209]), torch.Size([1, 63, 104]), torch.Size([1, 20, 34])] True\n",
      "[torch.Size([1, 128, 227]), torch.Size([1, 63, 113]), torch.Size([1, 20, 37])] True\n",
      "[torch.Size([1, 128, 227]), torch.Size([1, 63, 113]), torch.Size([1, 20, 37])] True\n",
      "[torch.Size([1, 128, 209]), torch.Size([1, 63, 104]), torch.Size([1, 20, 34])] True\n",
      "[torch.Size([1, 128, 227]), torch.Size([1, 63, 113]), torch.Size([1, 20, 37])] True\n",
      "[torch.Size([1, 128, 227]), torch.Size([1, 63, 113]), torch.Size([1, 20, 37])] True\n",
      "[torch.Size([1, 128, 227]), torch.Size([1, 63, 113]), torch.Size([1, 20, 37])] True\n",
      "[torch.Size([1, 128, 227]), torch.Size([1, 63, 113]), torch.Size([1, 20, 37])] True\n",
      "[torch.Size([1, 128, 227]), torch.Size([1, 63, 113]), torch.Size([1, 20, 37])] True\n",
      "[torch.Size([1, 128, 227]), torch.Size([1, 63, 113]), torch.Size([1, 20, 37])] True\n",
      "[torch.Size([1, 128, 227]), torch.Size([1, 63, 113]), torch.Size([1, 20, 37])] True\n",
      "[torch.Size([1, 128, 227]), torch.Size([1, 63, 113]), torch.Size([1, 20, 37])] True\n",
      "[torch.Size([1, 128, 227]), torch.Size([1, 63, 113]), torch.Size([1, 20, 37])] True\n",
      "[torch.Size([1, 128, 227]), torch.Size([1, 63, 113]), torch.Size([1, 20, 37])] True\n",
      "[torch.Size([1, 128, 227]), torch.Size([1, 63, 113]), torch.Size([1, 20, 37])] True\n",
      "[torch.Size([1, 128, 227]), torch.Size([1, 63, 113]), torch.Size([1, 20, 37])] True\n",
      "[torch.Size([1, 128, 209]), torch.Size([1, 63, 104]), torch.Size([1, 20, 34])] True\n",
      "[torch.Size([1, 128, 227]), torch.Size([1, 63, 113]), torch.Size([1, 20, 37])] True\n",
      "[torch.Size([1, 128, 227]), torch.Size([1, 63, 113]), torch.Size([1, 20, 37])] True\n",
      "[torch.Size([1, 128, 227]), torch.Size([1, 63, 113]), torch.Size([1, 20, 37])] True\n",
      "[torch.Size([1, 128, 209]), torch.Size([1, 63, 104]), torch.Size([1, 20, 34])] True\n",
      "[torch.Size([1, 128, 227]), torch.Size([1, 63, 113]), torch.Size([1, 20, 37])] True\n",
      "[torch.Size([1, 128, 227]), torch.Size([1, 63, 113]), torch.Size([1, 20, 37])] True\n",
      "[torch.Size([1, 128, 227]), torch.Size([1, 63, 113]), torch.Size([1, 20, 37])] True\n",
      "[torch.Size([1, 128, 209]), torch.Size([1, 63, 104]), torch.Size([1, 20, 34])] True\n",
      "[torch.Size([1, 128, 227]), torch.Size([1, 63, 113]), torch.Size([1, 20, 37])] True\n",
      "[torch.Size([1, 128, 209]), torch.Size([1, 63, 104]), torch.Size([1, 20, 34])] True\n",
      "[torch.Size([1, 128, 209]), torch.Size([1, 63, 104]), torch.Size([1, 20, 34])] True\n",
      "[torch.Size([1, 128, 209]), torch.Size([1, 63, 104]), torch.Size([1, 20, 34])] True\n",
      "[torch.Size([1, 128, 227]), torch.Size([1, 63, 113]), torch.Size([1, 20, 37])] True\n",
      "[torch.Size([1, 128, 227]), torch.Size([1, 63, 113]), torch.Size([1, 20, 37])] True\n",
      "[torch.Size([1, 128, 227]), torch.Size([1, 63, 113]), torch.Size([1, 20, 37])] True\n",
      "[torch.Size([1, 128, 227]), torch.Size([1, 63, 113]), torch.Size([1, 20, 37])] True\n",
      "[torch.Size([1, 128, 227]), torch.Size([1, 63, 113]), torch.Size([1, 20, 37])] True\n",
      "[torch.Size([1, 128, 227]), torch.Size([1, 63, 113]), torch.Size([1, 20, 37])] True\n",
      "[torch.Size([1, 128, 209]), torch.Size([1, 63, 104]), torch.Size([1, 20, 34])] True\n",
      "[torch.Size([1, 128, 209]), torch.Size([1, 63, 104]), torch.Size([1, 20, 34])] True\n",
      "[torch.Size([1, 128, 227]), torch.Size([1, 63, 113]), torch.Size([1, 20, 37])] True\n",
      "[torch.Size([1, 128, 227]), torch.Size([1, 63, 113]), torch.Size([1, 20, 37])] True\n",
      "[torch.Size([1, 128, 227]), torch.Size([1, 63, 113]), torch.Size([1, 20, 37])] True\n",
      "[torch.Size([1, 128, 227]), torch.Size([1, 63, 113]), torch.Size([1, 20, 37])] True\n",
      "[torch.Size([1, 128, 209]), torch.Size([1, 63, 104]), torch.Size([1, 20, 34])] True\n",
      "[torch.Size([1, 128, 227]), torch.Size([1, 63, 113]), torch.Size([1, 20, 37])] True\n",
      "[torch.Size([1, 128, 227]), torch.Size([1, 63, 113]), torch.Size([1, 20, 37])] True\n",
      "[torch.Size([1, 128, 209]), torch.Size([1, 63, 104]), torch.Size([1, 20, 34])] True\n",
      "[torch.Size([1, 128, 227]), torch.Size([1, 63, 113]), torch.Size([1, 20, 37])] True\n",
      "[torch.Size([1, 128, 209]), torch.Size([1, 63, 104]), torch.Size([1, 20, 34])] True\n",
      "[torch.Size([1, 128, 227]), torch.Size([1, 63, 113]), torch.Size([1, 20, 37])] True\n",
      "[torch.Size([1, 128, 227]), torch.Size([1, 63, 113]), torch.Size([1, 20, 37])] True\n",
      "[torch.Size([1, 128, 227]), torch.Size([1, 63, 113]), torch.Size([1, 20, 37])] True\n",
      "[torch.Size([1, 128, 209]), torch.Size([1, 63, 104]), torch.Size([1, 20, 34])] True\n",
      "[torch.Size([1, 128, 227]), torch.Size([1, 63, 113]), torch.Size([1, 20, 37])] True\n",
      "[torch.Size([1, 128, 227]), torch.Size([1, 63, 113]), torch.Size([1, 20, 37])] True\n",
      "[torch.Size([1, 128, 227]), torch.Size([1, 63, 113]), torch.Size([1, 20, 37])] True\n",
      "[torch.Size([1, 128, 227]), torch.Size([1, 63, 113]), torch.Size([1, 20, 37])] True\n",
      "[torch.Size([1, 128, 227]), torch.Size([1, 63, 113]), torch.Size([1, 20, 37])] True\n"
     ]
    }
   ],
   "source": [
    "train_loss, train_auc = training(model, optimizer, criterion, train_dataloader)"
   ]
  },
  {
   "cell_type": "code",
   "execution_count": null,
   "id": "6652fc6c-cdf3-4a5e-9df7-b9dc891ef5e2",
   "metadata": {},
   "outputs": [],
   "source": []
  },
  {
   "cell_type": "code",
   "execution_count": 19,
   "id": "e7b5302e-4d47-42f2-940a-1ef48f8ca105",
   "metadata": {
    "tags": []
   },
   "outputs": [],
   "source": [
    "filename = '08_mfcc_augmented'"
   ]
  },
  {
   "cell_type": "code",
   "execution_count": null,
   "id": "523511de-a6b9-48b3-a6af-d353be3a8f49",
   "metadata": {},
   "outputs": [],
   "source": [
    "# !rm artifacts/08_mfcc_augmented.joblib\n",
    "# !rm artifacts/08_mfcc_augmented.pt"
   ]
  },
  {
   "cell_type": "code",
   "execution_count": 20,
   "id": "8cb030e9-7ae9-4732-a60d-ded748075498",
   "metadata": {
    "tags": []
   },
   "outputs": [],
   "source": [
    "if os.path.exists(f'artifacts/{filename}.pt'):\n",
    "    model.load_state_dict(\n",
    "        torch.load(f'artifacts/{filename}.pt')\n",
    "    )\n",
    "    print('!Model weights are loaded.')\n",
    "    \n",
    "if os.path.exists(f'artifacts/{filename}.joblib'):\n",
    "    stats = joblib.load(f'artifacts/{filename}.joblib')\n",
    "    print('!Training stats is loaded.')\n",
    "else:\n",
    "    stats = {\n",
    "        'epoch': [],\n",
    "        'training_loss': [],\n",
    "        'testing_loss': [],\n",
    "        'training_auc': [],\n",
    "        'testing_auc': [],\n",
    "    }\n",
    "    \n",
    "se = stats['epoch'][-1] if stats['epoch'] else 0"
   ]
  },
  {
   "cell_type": "code",
   "execution_count": 21,
   "id": "84d6c879-b1b4-49c4-8cf2-0afa28b90d33",
   "metadata": {
    "tags": []
   },
   "outputs": [
    {
     "data": {
      "application/vnd.jupyter.widget-view+json": {
       "model_id": "6d885a3edeb2463fbf3ce4dbf3f5746b",
       "version_major": 2,
       "version_minor": 0
      },
      "text/plain": [
       "FigureWidget({\n",
       "    'data': [{'line': {'color': 'black', 'dash': 'dash', 'width': 0.5},\n",
       "              'marker': {'color': 'white', 'line': {'color': 'black', 'width': 1}, 'size': 6},\n",
       "              'mode': 'lines+markers',\n",
       "              'name': 'Training',\n",
       "              'type': 'scatter',\n",
       "              'uid': 'edc7e996-62e5-4959-af8c-b5de8b11f1bd',\n",
       "              'x': [],\n",
       "              'xaxis': 'x',\n",
       "              'y': [],\n",
       "              'yaxis': 'y'},\n",
       "             {'line': {'color': 'red', 'dash': 'dash', 'width': 0.5},\n",
       "              'marker': {'color': 'white', 'line': {'color': 'red', 'width': 1}, 'size': 6},\n",
       "              'mode': 'lines+markers',\n",
       "              'name': 'Testing',\n",
       "              'type': 'scatter',\n",
       "              'uid': 'd1c68424-6ef3-4598-bb1a-22cce02b78dd',\n",
       "              'x': [],\n",
       "              'xaxis': 'x',\n",
       "              'y': [],\n",
       "              'yaxis': 'y'},\n",
       "             {'line': {'color': 'black', 'dash': 'dash', 'width': 0.5},\n",
       "              'marker': {'color': 'white', 'line': {'color': 'black', 'width': 1}, 'size': 6},\n",
       "              'mode': 'lines+markers',\n",
       "              'showlegend': False,\n",
       "              'type': 'scatter',\n",
       "              'uid': '1d23d7c9-f8b0-4b99-a41d-226bbbd67aa1',\n",
       "              'x': [],\n",
       "              'xaxis': 'x2',\n",
       "              'y': [],\n",
       "              'yaxis': 'y2'},\n",
       "             {'line': {'color': 'red', 'dash': 'dash', 'width': 0.5},\n",
       "              'marker': {'color': 'white', 'line': {'color': 'red', 'width': 1}, 'size': 6},\n",
       "              'mode': 'lines+markers',\n",
       "              'showlegend': False,\n",
       "              'type': 'scatter',\n",
       "              'uid': 'a7b9bac9-615a-4277-a978-c87dbc1fd40e',\n",
       "              'x': [],\n",
       "              'xaxis': 'x2',\n",
       "              'y': [],\n",
       "              'yaxis': 'y2'}],\n",
       "    'layout': {'font': {'family': 'Arial', 'size': 12},\n",
       "               'height': 500,\n",
       "               'plot_bgcolor': 'white',\n",
       "               'template': '...',\n",
       "               'width': 1000,\n",
       "               'xaxis': {'anchor': 'y',\n",
       "                         'domain': [0.0, 0.45],\n",
       "                         'gridcolor': 'lightgrey',\n",
       "                         'griddash': 'dot',\n",
       "                         'gridwidth': 0.1,\n",
       "                         'linecolor': 'black',\n",
       "                         'mirror': True,\n",
       "                         'showgrid': True,\n",
       "                         'showline': True,\n",
       "                         'title': {'text': 'Epoch'}},\n",
       "               'xaxis2': {'anchor': 'y2',\n",
       "                          'domain': [0.55, 1.0],\n",
       "                          'gridcolor': 'lightgrey',\n",
       "                          'griddash': 'dot',\n",
       "                          'gridwidth': 0.1,\n",
       "                          'linecolor': 'black',\n",
       "                          'mirror': True,\n",
       "                          'showgrid': True,\n",
       "                          'showline': True,\n",
       "                          'title': {'text': 'Epoch'}},\n",
       "               'yaxis': {'anchor': 'x',\n",
       "                         'domain': [0.0, 1.0],\n",
       "                         'gridcolor': 'lightgrey',\n",
       "                         'griddash': 'dot',\n",
       "                         'gridwidth': 0.1,\n",
       "                         'linecolor': 'black',\n",
       "                         'mirror': True,\n",
       "                         'showgrid': True,\n",
       "                         'showline': True,\n",
       "                         'title': {'text': 'Loss'}},\n",
       "               'yaxis2': {'anchor': 'x2',\n",
       "                          'domain': [0.0, 1.0],\n",
       "                          'gridcolor': 'lightgrey',\n",
       "                          'griddash': 'dot',\n",
       "                          'gridwidth': 0.1,\n",
       "                          'linecolor': 'black',\n",
       "                          'mirror': True,\n",
       "                          'showgrid': True,\n",
       "                          'showline': True,\n",
       "                          'title': {'text': 'AUC ROC'}}}\n",
       "})"
      ]
     },
     "execution_count": 21,
     "metadata": {},
     "output_type": "execute_result"
    }
   ],
   "source": [
    "figure = get_figure(stats)\n",
    "figure"
   ]
  },
  {
   "cell_type": "code",
   "execution_count": 24,
   "id": "2b1382f0-3481-4729-aa05-81cc3c8de128",
   "metadata": {
    "tags": []
   },
   "outputs": [
    {
     "name": "stdout",
     "output_type": "stream",
     "text": [
      "="
     ]
    },
    {
     "name": "stderr",
     "output_type": "stream",
     "text": [
      "/opt/conda/lib/python3.11/site-packages/torch/autograd/graph.py:744: UserWarning:\n",
      "\n",
      "Plan failed with a cudnnException: CUDNN_BACKEND_EXECUTION_PLAN_DESCRIPTOR: cudnnFinalize Descriptor Failed cudnn_status: CUDNN_STATUS_NOT_SUPPORTED (Triggered internally at ../aten/src/ATen/native/cudnn/Conv_v8.cpp:919.)\n",
      "\n"
     ]
    },
    {
     "name": "stdout",
     "output_type": "stream",
     "text": [
      "=============================================================================--------------------------\n",
      "Epoch: 0 | Training loss: 0.6839 | Testing loss: 0.6688 | Training AUC: 0.5463 | Testing AUC: 0.5000\n",
      "==============================================================================--------------------------\n",
      "Epoch: 1 | Training loss: 0.6566 | Testing loss: 0.6394 | Training AUC: 0.4830 | Testing AUC: 0.5000\n",
      "==============================================================================--------------------------\n",
      "Epoch: 2 | Training loss: 0.6341 | Testing loss: 0.6189 | Training AUC: 0.5779 | Testing AUC: 0.5000\n",
      "==============================================================================--------------------------\n",
      "Epoch: 3 | Training loss: 0.6154 | Testing loss: 0.5984 | Training AUC: 0.3945 | Testing AUC: 0.5000\n",
      "==============================================================================--------------------------\n",
      "Epoch: 4 | Training loss: 0.6063 | Testing loss: 0.5902 | Training AUC: 0.4635 | Testing AUC: 0.5000\n",
      "==============================================================================--------------------------\n",
      "Epoch: 5 | Training loss: 0.5996 | Testing loss: 0.5872 | Training AUC: 0.4399 | Testing AUC: 0.5000\n",
      "==============================================================================--------------------------\n",
      "Epoch: 6 | Training loss: 0.5977 | Testing loss: 0.5852 | Training AUC: 0.3693 | Testing AUC: 0.5000\n",
      "==============="
     ]
    },
    {
     "ename": "KeyboardInterrupt",
     "evalue": "",
     "output_type": "error",
     "traceback": [
      "\u001b[0;31m---------------------------------------------------------------------------\u001b[0m",
      "\u001b[0;31mKeyboardInterrupt\u001b[0m                         Traceback (most recent call last)",
      "Cell \u001b[0;32mIn[24], line 2\u001b[0m\n\u001b[1;32m      1\u001b[0m \u001b[38;5;28;01mfor\u001b[39;00m epoch \u001b[38;5;129;01min\u001b[39;00m \u001b[38;5;28mrange\u001b[39m(se, \u001b[38;5;241m200\u001b[39m):\n\u001b[0;32m----> 2\u001b[0m     train_loss, train_auc \u001b[38;5;241m=\u001b[39m \u001b[43mtraining\u001b[49m\u001b[43m(\u001b[49m\u001b[43mmodel\u001b[49m\u001b[43m,\u001b[49m\u001b[43m \u001b[49m\u001b[43moptimizer\u001b[49m\u001b[43m,\u001b[49m\u001b[43m \u001b[49m\u001b[43mcriterion\u001b[49m\u001b[43m,\u001b[49m\u001b[43m \u001b[49m\u001b[43mtrain_dataloader\u001b[49m\u001b[43m)\u001b[49m\n\u001b[1;32m      3\u001b[0m     test_loss, test_auc \u001b[38;5;241m=\u001b[39m testing(model, optimizer, criterion, test_dataloader)\n\u001b[1;32m      4\u001b[0m     \u001b[38;5;66;03m#\u001b[39;00m\n",
      "Cell \u001b[0;32mIn[23], line 5\u001b[0m, in \u001b[0;36mtraining\u001b[0;34m(model, optimizer, criterion, dataloader)\u001b[0m\n\u001b[1;32m      3\u001b[0m \u001b[38;5;66;03m#\u001b[39;00m\n\u001b[1;32m      4\u001b[0m model\u001b[38;5;241m.\u001b[39mtrain()\n\u001b[0;32m----> 5\u001b[0m \u001b[38;5;28;01mfor\u001b[39;00m X, Y \u001b[38;5;129;01min\u001b[39;00m dataloader:\n\u001b[1;32m      6\u001b[0m     X, Y \u001b[38;5;241m=\u001b[39m X\u001b[38;5;241m.\u001b[39mto(device), Y\u001b[38;5;241m.\u001b[39mto(device, dtype\u001b[38;5;241m=\u001b[39mtorch\u001b[38;5;241m.\u001b[39mfloat32)\n\u001b[1;32m      7\u001b[0m     \u001b[38;5;66;03m#\u001b[39;00m\n",
      "File \u001b[0;32m/opt/conda/lib/python3.11/site-packages/torch/utils/data/dataloader.py:631\u001b[0m, in \u001b[0;36m_BaseDataLoaderIter.__next__\u001b[0;34m(self)\u001b[0m\n\u001b[1;32m    628\u001b[0m \u001b[38;5;28;01mif\u001b[39;00m \u001b[38;5;28mself\u001b[39m\u001b[38;5;241m.\u001b[39m_sampler_iter \u001b[38;5;129;01mis\u001b[39;00m \u001b[38;5;28;01mNone\u001b[39;00m:\n\u001b[1;32m    629\u001b[0m     \u001b[38;5;66;03m# TODO(https://github.com/pytorch/pytorch/issues/76750)\u001b[39;00m\n\u001b[1;32m    630\u001b[0m     \u001b[38;5;28mself\u001b[39m\u001b[38;5;241m.\u001b[39m_reset()  \u001b[38;5;66;03m# type: ignore[call-arg]\u001b[39;00m\n\u001b[0;32m--> 631\u001b[0m data \u001b[38;5;241m=\u001b[39m \u001b[38;5;28;43mself\u001b[39;49m\u001b[38;5;241;43m.\u001b[39;49m\u001b[43m_next_data\u001b[49m\u001b[43m(\u001b[49m\u001b[43m)\u001b[49m\n\u001b[1;32m    632\u001b[0m \u001b[38;5;28mself\u001b[39m\u001b[38;5;241m.\u001b[39m_num_yielded \u001b[38;5;241m+\u001b[39m\u001b[38;5;241m=\u001b[39m \u001b[38;5;241m1\u001b[39m\n\u001b[1;32m    633\u001b[0m \u001b[38;5;28;01mif\u001b[39;00m \u001b[38;5;28mself\u001b[39m\u001b[38;5;241m.\u001b[39m_dataset_kind \u001b[38;5;241m==\u001b[39m _DatasetKind\u001b[38;5;241m.\u001b[39mIterable \u001b[38;5;129;01mand\u001b[39;00m \\\n\u001b[1;32m    634\u001b[0m         \u001b[38;5;28mself\u001b[39m\u001b[38;5;241m.\u001b[39m_IterableDataset_len_called \u001b[38;5;129;01mis\u001b[39;00m \u001b[38;5;129;01mnot\u001b[39;00m \u001b[38;5;28;01mNone\u001b[39;00m \u001b[38;5;129;01mand\u001b[39;00m \\\n\u001b[1;32m    635\u001b[0m         \u001b[38;5;28mself\u001b[39m\u001b[38;5;241m.\u001b[39m_num_yielded \u001b[38;5;241m>\u001b[39m \u001b[38;5;28mself\u001b[39m\u001b[38;5;241m.\u001b[39m_IterableDataset_len_called:\n",
      "File \u001b[0;32m/opt/conda/lib/python3.11/site-packages/torch/utils/data/dataloader.py:675\u001b[0m, in \u001b[0;36m_SingleProcessDataLoaderIter._next_data\u001b[0;34m(self)\u001b[0m\n\u001b[1;32m    673\u001b[0m \u001b[38;5;28;01mdef\u001b[39;00m \u001b[38;5;21m_next_data\u001b[39m(\u001b[38;5;28mself\u001b[39m):\n\u001b[1;32m    674\u001b[0m     index \u001b[38;5;241m=\u001b[39m \u001b[38;5;28mself\u001b[39m\u001b[38;5;241m.\u001b[39m_next_index()  \u001b[38;5;66;03m# may raise StopIteration\u001b[39;00m\n\u001b[0;32m--> 675\u001b[0m     data \u001b[38;5;241m=\u001b[39m \u001b[38;5;28;43mself\u001b[39;49m\u001b[38;5;241;43m.\u001b[39;49m\u001b[43m_dataset_fetcher\u001b[49m\u001b[38;5;241;43m.\u001b[39;49m\u001b[43mfetch\u001b[49m\u001b[43m(\u001b[49m\u001b[43mindex\u001b[49m\u001b[43m)\u001b[49m  \u001b[38;5;66;03m# may raise StopIteration\u001b[39;00m\n\u001b[1;32m    676\u001b[0m     \u001b[38;5;28;01mif\u001b[39;00m \u001b[38;5;28mself\u001b[39m\u001b[38;5;241m.\u001b[39m_pin_memory:\n\u001b[1;32m    677\u001b[0m         data \u001b[38;5;241m=\u001b[39m _utils\u001b[38;5;241m.\u001b[39mpin_memory\u001b[38;5;241m.\u001b[39mpin_memory(data, \u001b[38;5;28mself\u001b[39m\u001b[38;5;241m.\u001b[39m_pin_memory_device)\n",
      "File \u001b[0;32m/opt/conda/lib/python3.11/site-packages/torch/utils/data/_utils/fetch.py:51\u001b[0m, in \u001b[0;36m_MapDatasetFetcher.fetch\u001b[0;34m(self, possibly_batched_index)\u001b[0m\n\u001b[1;32m     49\u001b[0m         data \u001b[38;5;241m=\u001b[39m \u001b[38;5;28mself\u001b[39m\u001b[38;5;241m.\u001b[39mdataset\u001b[38;5;241m.\u001b[39m__getitems__(possibly_batched_index)\n\u001b[1;32m     50\u001b[0m     \u001b[38;5;28;01melse\u001b[39;00m:\n\u001b[0;32m---> 51\u001b[0m         data \u001b[38;5;241m=\u001b[39m \u001b[43m[\u001b[49m\u001b[38;5;28;43mself\u001b[39;49m\u001b[38;5;241;43m.\u001b[39;49m\u001b[43mdataset\u001b[49m\u001b[43m[\u001b[49m\u001b[43midx\u001b[49m\u001b[43m]\u001b[49m\u001b[43m \u001b[49m\u001b[38;5;28;43;01mfor\u001b[39;49;00m\u001b[43m \u001b[49m\u001b[43midx\u001b[49m\u001b[43m \u001b[49m\u001b[38;5;129;43;01min\u001b[39;49;00m\u001b[43m \u001b[49m\u001b[43mpossibly_batched_index\u001b[49m\u001b[43m]\u001b[49m\n\u001b[1;32m     52\u001b[0m \u001b[38;5;28;01melse\u001b[39;00m:\n\u001b[1;32m     53\u001b[0m     data \u001b[38;5;241m=\u001b[39m \u001b[38;5;28mself\u001b[39m\u001b[38;5;241m.\u001b[39mdataset[possibly_batched_index]\n",
      "File \u001b[0;32m/opt/conda/lib/python3.11/site-packages/torch/utils/data/_utils/fetch.py:51\u001b[0m, in \u001b[0;36m<listcomp>\u001b[0;34m(.0)\u001b[0m\n\u001b[1;32m     49\u001b[0m         data \u001b[38;5;241m=\u001b[39m \u001b[38;5;28mself\u001b[39m\u001b[38;5;241m.\u001b[39mdataset\u001b[38;5;241m.\u001b[39m__getitems__(possibly_batched_index)\n\u001b[1;32m     50\u001b[0m     \u001b[38;5;28;01melse\u001b[39;00m:\n\u001b[0;32m---> 51\u001b[0m         data \u001b[38;5;241m=\u001b[39m [\u001b[38;5;28;43mself\u001b[39;49m\u001b[38;5;241;43m.\u001b[39;49m\u001b[43mdataset\u001b[49m\u001b[43m[\u001b[49m\u001b[43midx\u001b[49m\u001b[43m]\u001b[49m \u001b[38;5;28;01mfor\u001b[39;00m idx \u001b[38;5;129;01min\u001b[39;00m possibly_batched_index]\n\u001b[1;32m     52\u001b[0m \u001b[38;5;28;01melse\u001b[39;00m:\n\u001b[1;32m     53\u001b[0m     data \u001b[38;5;241m=\u001b[39m \u001b[38;5;28mself\u001b[39m\u001b[38;5;241m.\u001b[39mdataset[possibly_batched_index]\n",
      "Cell \u001b[0;32mIn[14], line 16\u001b[0m, in \u001b[0;36mPodcast.__getitem__\u001b[0;34m(self, idx)\u001b[0m\n\u001b[1;32m     14\u001b[0m episode \u001b[38;5;241m=\u001b[39m \u001b[38;5;28mself\u001b[39m\u001b[38;5;241m.\u001b[39mx[idx]\n\u001b[1;32m     15\u001b[0m \u001b[38;5;66;03m#\u001b[39;00m\n\u001b[0;32m---> 16\u001b[0m waveform, sample_rate \u001b[38;5;241m=\u001b[39m \u001b[43mtorchaudio\u001b[49m\u001b[38;5;241;43m.\u001b[39;49m\u001b[43mload\u001b[49m\u001b[43m(\u001b[49m\u001b[38;5;124;43mf\u001b[39;49m\u001b[38;5;124;43m'\u001b[39;49m\u001b[38;5;132;43;01m{\u001b[39;49;00m\u001b[43mraw_path\u001b[49m\u001b[38;5;132;43;01m}\u001b[39;49;00m\u001b[38;5;124;43m/\u001b[39;49m\u001b[38;5;132;43;01m{\u001b[39;49;00m\u001b[43mepisode\u001b[49m\u001b[38;5;132;43;01m}\u001b[39;49;00m\u001b[38;5;124;43m.mp3\u001b[39;49m\u001b[38;5;124;43m'\u001b[39;49m\u001b[43m)\u001b[49m\n\u001b[1;32m     17\u001b[0m waveform \u001b[38;5;241m=\u001b[39m waveform\u001b[38;5;241m.\u001b[39mmean(dim\u001b[38;5;241m=\u001b[39m\u001b[38;5;241m0\u001b[39m)\n\u001b[1;32m     18\u001b[0m \u001b[38;5;66;03m#\u001b[39;00m\n",
      "File \u001b[0;32m/opt/conda/lib/python3.11/site-packages/torchaudio/_backend/utils.py:205\u001b[0m, in \u001b[0;36mget_load_func.<locals>.load\u001b[0;34m(uri, frame_offset, num_frames, normalize, channels_first, format, buffer_size, backend)\u001b[0m\n\u001b[1;32m    128\u001b[0m \u001b[38;5;250m\u001b[39m\u001b[38;5;124;03m\"\"\"Load audio data from source.\u001b[39;00m\n\u001b[1;32m    129\u001b[0m \n\u001b[1;32m    130\u001b[0m \u001b[38;5;124;03mBy default (``normalize=True``, ``channels_first=True``), this function returns Tensor with\u001b[39;00m\n\u001b[0;32m   (...)\u001b[0m\n\u001b[1;32m    202\u001b[0m \u001b[38;5;124;03m        `[channel, time]` else `[time, channel]`.\u001b[39;00m\n\u001b[1;32m    203\u001b[0m \u001b[38;5;124;03m\"\"\"\u001b[39;00m\n\u001b[1;32m    204\u001b[0m backend \u001b[38;5;241m=\u001b[39m dispatcher(uri, \u001b[38;5;28mformat\u001b[39m, backend)\n\u001b[0;32m--> 205\u001b[0m \u001b[38;5;28;01mreturn\u001b[39;00m \u001b[43mbackend\u001b[49m\u001b[38;5;241;43m.\u001b[39;49m\u001b[43mload\u001b[49m\u001b[43m(\u001b[49m\u001b[43muri\u001b[49m\u001b[43m,\u001b[49m\u001b[43m \u001b[49m\u001b[43mframe_offset\u001b[49m\u001b[43m,\u001b[49m\u001b[43m \u001b[49m\u001b[43mnum_frames\u001b[49m\u001b[43m,\u001b[49m\u001b[43m \u001b[49m\u001b[43mnormalize\u001b[49m\u001b[43m,\u001b[49m\u001b[43m \u001b[49m\u001b[43mchannels_first\u001b[49m\u001b[43m,\u001b[49m\u001b[43m \u001b[49m\u001b[38;5;28;43mformat\u001b[39;49m\u001b[43m,\u001b[49m\u001b[43m \u001b[49m\u001b[43mbuffer_size\u001b[49m\u001b[43m)\u001b[49m\n",
      "File \u001b[0;32m/opt/conda/lib/python3.11/site-packages/torchaudio/_backend/sox.py:44\u001b[0m, in \u001b[0;36mSoXBackend.load\u001b[0;34m(uri, frame_offset, num_frames, normalize, channels_first, format, buffer_size)\u001b[0m\n\u001b[1;32m     39\u001b[0m     \u001b[38;5;28;01mraise\u001b[39;00m \u001b[38;5;167;01mValueError\u001b[39;00m(\n\u001b[1;32m     40\u001b[0m         \u001b[38;5;124m\"\u001b[39m\u001b[38;5;124mSoX backend does not support loading from file-like objects. \u001b[39m\u001b[38;5;124m\"\u001b[39m,\n\u001b[1;32m     41\u001b[0m         \u001b[38;5;124m\"\u001b[39m\u001b[38;5;124mPlease use an alternative backend that does support loading from file-like objects, e.g. FFmpeg.\u001b[39m\u001b[38;5;124m\"\u001b[39m,\n\u001b[1;32m     42\u001b[0m     )\n\u001b[1;32m     43\u001b[0m \u001b[38;5;28;01melse\u001b[39;00m:\n\u001b[0;32m---> 44\u001b[0m     ret \u001b[38;5;241m=\u001b[39m \u001b[43msox_ext\u001b[49m\u001b[38;5;241;43m.\u001b[39;49m\u001b[43mload_audio_file\u001b[49m\u001b[43m(\u001b[49m\u001b[43muri\u001b[49m\u001b[43m,\u001b[49m\u001b[43m \u001b[49m\u001b[43mframe_offset\u001b[49m\u001b[43m,\u001b[49m\u001b[43m \u001b[49m\u001b[43mnum_frames\u001b[49m\u001b[43m,\u001b[49m\u001b[43m \u001b[49m\u001b[43mnormalize\u001b[49m\u001b[43m,\u001b[49m\u001b[43m \u001b[49m\u001b[43mchannels_first\u001b[49m\u001b[43m,\u001b[49m\u001b[43m \u001b[49m\u001b[38;5;28;43mformat\u001b[39;49m\u001b[43m)\u001b[49m\n\u001b[1;32m     45\u001b[0m     \u001b[38;5;28;01mif\u001b[39;00m \u001b[38;5;129;01mnot\u001b[39;00m ret:\n\u001b[1;32m     46\u001b[0m         \u001b[38;5;28;01mraise\u001b[39;00m \u001b[38;5;167;01mRuntimeError\u001b[39;00m(\u001b[38;5;124mf\u001b[39m\u001b[38;5;124m\"\u001b[39m\u001b[38;5;124mFailed to load audio from \u001b[39m\u001b[38;5;132;01m{\u001b[39;00muri\u001b[38;5;132;01m}\u001b[39;00m\u001b[38;5;124m.\u001b[39m\u001b[38;5;124m\"\u001b[39m)\n",
      "File \u001b[0;32m/opt/conda/lib/python3.11/site-packages/torch/_ops.py:854\u001b[0m, in \u001b[0;36mOpOverloadPacket.__call__\u001b[0;34m(self_, *args, **kwargs)\u001b[0m\n\u001b[1;32m    846\u001b[0m \u001b[38;5;28;01mdef\u001b[39;00m \u001b[38;5;21m__call__\u001b[39m(self_, \u001b[38;5;241m*\u001b[39margs, \u001b[38;5;241m*\u001b[39m\u001b[38;5;241m*\u001b[39mkwargs):  \u001b[38;5;66;03m# noqa: B902\u001b[39;00m\n\u001b[1;32m    847\u001b[0m     \u001b[38;5;66;03m# use `self_` to avoid naming collide with aten ops arguments that\u001b[39;00m\n\u001b[1;32m    848\u001b[0m     \u001b[38;5;66;03m# named \"self\". This way, all the aten ops can be called by kwargs.\u001b[39;00m\n\u001b[0;32m   (...)\u001b[0m\n\u001b[1;32m    852\u001b[0m     \u001b[38;5;66;03m# We save the function ptr as the `op` attribute on\u001b[39;00m\n\u001b[1;32m    853\u001b[0m     \u001b[38;5;66;03m# OpOverloadPacket to access it here.\u001b[39;00m\n\u001b[0;32m--> 854\u001b[0m     \u001b[38;5;28;01mreturn\u001b[39;00m \u001b[43mself_\u001b[49m\u001b[38;5;241;43m.\u001b[39;49m\u001b[43m_op\u001b[49m\u001b[43m(\u001b[49m\u001b[38;5;241;43m*\u001b[39;49m\u001b[43margs\u001b[49m\u001b[43m,\u001b[49m\u001b[43m \u001b[49m\u001b[38;5;241;43m*\u001b[39;49m\u001b[38;5;241;43m*\u001b[39;49m\u001b[43m(\u001b[49m\u001b[43mkwargs\u001b[49m\u001b[43m \u001b[49m\u001b[38;5;129;43;01mor\u001b[39;49;00m\u001b[43m \u001b[49m\u001b[43m{\u001b[49m\u001b[43m}\u001b[49m\u001b[43m)\u001b[49m\u001b[43m)\u001b[49m\n",
      "\u001b[0;31mKeyboardInterrupt\u001b[0m: "
     ]
    }
   ],
   "source": [
    "for epoch in range(se, 200):\n",
    "    train_loss, train_auc = training(model, optimizer, criterion, train_dataloader)\n",
    "    test_loss, test_auc = testing(model, optimizer, criterion, test_dataloader)\n",
    "    #\n",
    "    update_stats(stats, epoch, train_loss, test_loss, train_auc, test_auc)\n",
    "    update_figure(figure, stats)\n",
    "    #\n",
    "    joblib.dump(stats, f'artifacts/{filename}.joblib')\n",
    "    if epoch % 5 == 0:\n",
    "        if len(stats['testing_loss']) >= 10:\n",
    "            x0 = torch.tensor(stats['testing_loss'][-10:-5]).mean()\n",
    "            if x0 > torch.tensor(stats['testing_loss'][-5:]).mean():\n",
    "                torch.save(\n",
    "                    model.state_dict(),\n",
    "                    f'artifacts/{filename}.pt'\n",
    "                )\n",
    "                print('!Model weights were saved.')"
   ]
  }
 ],
 "metadata": {
  "kernelspec": {
   "display_name": "Python 3 (ipykernel)",
   "language": "python",
   "name": "python3"
  },
  "language_info": {
   "codemirror_mode": {
    "name": "ipython",
    "version": 3
   },
   "file_extension": ".py",
   "mimetype": "text/x-python",
   "name": "python",
   "nbconvert_exporter": "python",
   "pygments_lexer": "ipython3",
   "version": "3.11.6"
  },
  "toc": {
   "base_numbering": 1,
   "nav_menu": {},
   "number_sections": true,
   "sideBar": true,
   "skip_h1_title": false,
   "title_cell": "Table of Contents",
   "title_sidebar": "Contents",
   "toc_cell": false,
   "toc_position": {
    "height": "calc(100% - 180px)",
    "left": "10px",
    "top": "150px",
    "width": "307.2px"
   },
   "toc_section_display": true,
   "toc_window_display": true
  }
 },
 "nbformat": 4,
 "nbformat_minor": 5
}
