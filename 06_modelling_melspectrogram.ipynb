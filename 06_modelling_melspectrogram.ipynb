{
 "cells": [
  {
   "cell_type": "markdown",
   "id": "fee3ecb6-40ea-46d7-9568-fcb2fabd92e0",
   "metadata": {},
   "source": [
    "**Model training in three ways:**\n",
    "\n",
    "- using images obtained with `MelSpectrogram` in `05_preprocessing_melspectrogram.ipynb`\n",
    "- using spectrograms transformed by `MelSpectrogram` on the fly\n",
    "- using spectrograms transformed by `MelSpectrogram` on the fly with augmentations"
   ]
  },
  {
   "cell_type": "code",
   "execution_count": 1,
   "id": "60ebc71d",
   "metadata": {
    "ExecuteTime": {
     "end_time": "2024-03-17T07:52:20.075814Z",
     "start_time": "2024-03-17T07:52:13.517889Z"
    },
    "tags": []
   },
   "outputs": [],
   "source": [
    "import os\n",
    "import yaml\n",
    "import joblib\n",
    "#\n",
    "import torch\n",
    "from torch import nn\n",
    "from torch.utils.data import Dataset, DataLoader\n",
    "#\n",
    "import torchaudio\n",
    "import torchaudio.transforms as T\n",
    "import torchaudio.functional as F\n",
    "#\n",
    "import torchvision\n",
    "from torchvision.io import read_image\n",
    "from torchvision.transforms import ConvertImageDtype\n",
    "#\n",
    "import matplotlib.pyplot as plt\n",
    "#\n",
    "from sklearn.model_selection import train_test_split\n",
    "from sklearn.metrics import roc_auc_score"
   ]
  },
  {
   "cell_type": "code",
   "execution_count": 2,
   "id": "53825dce-2bd1-425f-b04f-339a61d7430d",
   "metadata": {
    "tags": []
   },
   "outputs": [
    {
     "name": "stdout",
     "output_type": "stream",
     "text": [
      "2.3.0+cu121\n",
      "2.3.0+cu121\n",
      "0.18.0+cu121\n"
     ]
    }
   ],
   "source": [
    "print(torch.__version__)\n",
    "print(torchaudio.__version__)\n",
    "print(torchvision.__version__)"
   ]
  },
  {
   "cell_type": "code",
   "execution_count": 3,
   "id": "d1aa607c",
   "metadata": {
    "ExecuteTime": {
     "end_time": "2024-01-07T09:39:43.048903Z",
     "start_time": "2024-01-07T09:39:43.045946Z"
    },
    "tags": []
   },
   "outputs": [],
   "source": [
    "raw_path = 'data/raw/'\n",
    "data_path = 'data/melspectrogram/'"
   ]
  },
  {
   "cell_type": "code",
   "execution_count": 4,
   "id": "bfc893f9-4806-4e31-bbad-8187909d66cf",
   "metadata": {
    "tags": []
   },
   "outputs": [],
   "source": [
    "LEARNING_RATE = 0.001"
   ]
  },
  {
   "cell_type": "code",
   "execution_count": 5,
   "id": "9771b003",
   "metadata": {
    "ExecuteTime": {
     "end_time": "2024-01-07T09:39:43.895828Z",
     "start_time": "2024-01-07T09:39:43.699453Z"
    },
    "tags": []
   },
   "outputs": [],
   "source": [
    "labels = yaml.safe_load(open('labels.yaml'))[2022]"
   ]
  },
  {
   "cell_type": "code",
   "execution_count": 6,
   "id": "3de3b0d9-8bbd-4110-bade-aa843d8de608",
   "metadata": {
    "tags": []
   },
   "outputs": [],
   "source": [
    "X, y = zip(*labels.items())\n",
    "X_train, X_test, y_train, y_test = train_test_split(X, y, test_size=0.25, random_state=0, shuffle=False)"
   ]
  },
  {
   "cell_type": "code",
   "execution_count": 7,
   "id": "4130ef6d-d8f8-45d4-aa12-fd8f9d34aaa4",
   "metadata": {
    "tags": []
   },
   "outputs": [],
   "source": [
    "def training(model, optimizer, criterion, dataloader):\n",
    "    losses, y_true, y_score = [], [], []\n",
    "    #\n",
    "    model.train()\n",
    "    for X, Y in dataloader:\n",
    "        X, Y = X.to(device), Y.to(device, dtype=torch.float32)\n",
    "        #\n",
    "        output = model(X)\n",
    "        loss = criterion(output.view(1), Y)\n",
    "        #\n",
    "        losses.append(loss.item())\n",
    "        y_true.append(Y.item())\n",
    "        y_score.append(torch.sigmoid(output).item())\n",
    "        #\n",
    "        optimizer.zero_grad()\n",
    "        loss.backward()\n",
    "        optimizer.step()\n",
    "\n",
    "    return torch.tensor(losses).mean(), roc_auc_score(y_true, y_score)\n",
    "\n",
    "\n",
    "def testing(model, optimizer, criterion, dataloader):\n",
    "    losses, y_true, y_score = [], [], []\n",
    "    #\n",
    "    model.eval()\n",
    "    with torch.inference_mode():\n",
    "        for X, Y in dataloader:\n",
    "            X, Y = X.to(device), Y.to(device, dtype=torch.float32)\n",
    "            #\n",
    "            output = model(X)\n",
    "            loss = criterion(output.view(1), Y)\n",
    "            #\n",
    "            losses.append(loss.item())\n",
    "            y_true.append(Y.item())\n",
    "            y_score.append(torch.sigmoid(output).item())\n",
    "    #\n",
    "    return torch.tensor(losses).mean(), roc_auc_score(y_true, y_score)"
   ]
  },
  {
   "cell_type": "markdown",
   "id": "2a4e3ccb",
   "metadata": {},
   "source": [
    "# Modelling using images"
   ]
  },
  {
   "cell_type": "code",
   "execution_count": 8,
   "id": "d2d155c4-6487-404d-8ecc-3520e29783f0",
   "metadata": {
    "tags": []
   },
   "outputs": [],
   "source": [
    "device = 'cpu'"
   ]
  },
  {
   "cell_type": "code",
   "execution_count": 9,
   "id": "79e5562e-7440-44b6-8418-ad87747370ef",
   "metadata": {
    "tags": []
   },
   "outputs": [],
   "source": [
    "from utils.miscellaneous import update_stats\n",
    "from utils.plot import get_figure, update_figure"
   ]
  },
  {
   "cell_type": "code",
   "execution_count": 10,
   "id": "e1121af2",
   "metadata": {
    "ExecuteTime": {
     "end_time": "2024-01-07T09:39:45.388382Z",
     "start_time": "2024-01-07T09:39:45.383137Z"
    },
    "tags": []
   },
   "outputs": [],
   "source": [
    "class Podcast(Dataset):\n",
    "\n",
    "    def __init__(self, X, y):\n",
    "        self.x = X\n",
    "        self.y = y\n",
    "        self.cid = ConvertImageDtype(torch.float32)\n",
    "\n",
    "    def __len__(self):\n",
    "        return len(self.x)\n",
    "\n",
    "    def __getitem__(self, idx):\n",
    "        label = self.y[idx]\n",
    "        episode = self.x[idx]\n",
    "        image = read_image(f'{data_path}/{episode}.png')\n",
    "        return self.cid(image), int(label)"
   ]
  },
  {
   "cell_type": "code",
   "execution_count": 11,
   "id": "0458835e",
   "metadata": {
    "ExecuteTime": {
     "end_time": "2024-01-07T09:39:46.519333Z",
     "start_time": "2024-01-07T09:39:46.515826Z"
    },
    "tags": []
   },
   "outputs": [],
   "source": [
    "train = Podcast(X_train, y_train)\n",
    "train_dataloader = DataLoader(train, shuffle=True)"
   ]
  },
  {
   "cell_type": "code",
   "execution_count": 12,
   "id": "409bad50",
   "metadata": {
    "ExecuteTime": {
     "end_time": "2024-01-07T09:39:47.385464Z",
     "start_time": "2024-01-07T09:39:47.381841Z"
    },
    "tags": []
   },
   "outputs": [],
   "source": [
    "test = Podcast(X_test, y_test)\n",
    "test_dataloader = DataLoader(test)"
   ]
  },
  {
   "cell_type": "code",
   "execution_count": 13,
   "id": "324496c0-4ba0-496f-8474-142cbb8d4f26",
   "metadata": {
    "ExecuteTime": {
     "end_time": "2024-03-10T10:15:41.917197Z",
     "start_time": "2024-03-10T10:15:41.903943Z"
    },
    "tags": []
   },
   "outputs": [],
   "source": [
    "class CNNet(nn.Module):\n",
    "    def __init__(self):\n",
    "        super().__init__()\n",
    "        self.layer1 = nn.Sequential(\n",
    "            nn.Conv2d(in_channels=4, out_channels=4, kernel_size=(2, 4)),\n",
    "            nn.ReLU(),\n",
    "            nn.AvgPool2d(kernel_size=(2, 4))\n",
    "        )\n",
    "        self.layer2 = nn.Sequential(\n",
    "            nn.Conv2d(in_channels=4, out_channels=4, kernel_size=(3, 6)),\n",
    "            nn.ReLU(),\n",
    "            nn.AvgPool2d(kernel_size=(3, 6))\n",
    "        )\n",
    "        self.layer3 = nn.Sequential(\n",
    "            nn.Conv2d(in_channels=4, out_channels=4, kernel_size=(5, 10)),\n",
    "            nn.ReLU(),\n",
    "            nn.AdaptiveAvgPool2d(output_size=(20, 10))\n",
    "        )\n",
    "        #\n",
    "        self.flatten = nn.Flatten()\n",
    "        self.relu = nn.ReLU()\n",
    "        self.dropout = nn.Dropout(0.33)\n",
    "        self.linear1 = nn.Linear(800, 128)\n",
    "        self.linear2 = nn.Linear(128, 1)\n",
    "\n",
    "    def forward(self, x):\n",
    "        shapes = [x.shape]\n",
    "        x = self.layer1(x)\n",
    "        shapes.append(x.shape)\n",
    "        x = self.layer2(x)\n",
    "        shapes.append(x.shape)\n",
    "        x = self.layer3(x)\n",
    "        # print(shapes)\n",
    "        #\n",
    "        x = self.flatten(x)\n",
    "        x = self.relu(self.linear1(x))\n",
    "        x = self.dropout(x)\n",
    "        #\n",
    "        print('=' if self.training else '-', end='')\n",
    "        return self.linear2(x)\n",
    "\n",
    "\n",
    "model = CNNet().to(device, dtype=torch.float32)"
   ]
  },
  {
   "cell_type": "code",
   "execution_count": 14,
   "id": "54c12eaa",
   "metadata": {
    "ExecuteTime": {
     "end_time": "2024-01-07T09:56:03.622408Z",
     "start_time": "2024-01-07T09:56:03.618260Z"
    },
    "tags": []
   },
   "outputs": [],
   "source": [
    "criterion = nn.BCEWithLogitsLoss()\n",
    "optimizer = torch.optim.Adam(model.parameters(), lr=LEARNING_RATE)"
   ]
  },
  {
   "cell_type": "code",
   "execution_count": 15,
   "id": "bbef7242-695b-442a-8ae5-a6437bc54af3",
   "metadata": {
    "tags": []
   },
   "outputs": [],
   "source": [
    "filename = '06_melspectrogram_images'"
   ]
  },
  {
   "cell_type": "code",
   "execution_count": 16,
   "id": "a7767851-cb54-4048-b11e-640c6cba4332",
   "metadata": {
    "tags": []
   },
   "outputs": [],
   "source": [
    "# !rm artifacts/06_melspectrogram_images.joblib\n",
    "# !rm artifacts/06_melspectrogram_images.pt"
   ]
  },
  {
   "cell_type": "code",
   "execution_count": 17,
   "id": "4db1ed50-2f25-461f-b04f-5dc6827f3750",
   "metadata": {
    "tags": []
   },
   "outputs": [],
   "source": [
    "if os.path.exists(f'artifacts/{filename}.pt'):\n",
    "    model.load_state_dict(\n",
    "        torch.load(f'artifacts/{filename}.pt')\n",
    "    )\n",
    "    print('!Model weights are loaded.')\n",
    "    \n",
    "if os.path.exists(f'artifacts/{filename}.joblib'):\n",
    "    stats = joblib.load(f'artifacts/{filename}.joblib')\n",
    "    print('!Training stats is loaded.')\n",
    "else:\n",
    "    stats = {\n",
    "        'epoch': [],\n",
    "        'training_loss': [],\n",
    "        'testing_loss': [],\n",
    "        'training_auc': [],\n",
    "        'testing_auc': [],\n",
    "    }\n",
    "    \n",
    "se = stats['epoch'][-1] if stats['epoch'] else 0"
   ]
  },
  {
   "cell_type": "code",
   "execution_count": 18,
   "id": "02b1d817-b5d5-4d1e-8bb0-be84cf3b52f2",
   "metadata": {
    "tags": []
   },
   "outputs": [
    {
     "data": {
      "application/vnd.jupyter.widget-view+json": {
       "model_id": "2bf9426f5e4b407f8db0f4f19278d57a",
       "version_major": 2,
       "version_minor": 0
      },
      "text/plain": [
       "FigureWidget({\n",
       "    'data': [{'line': {'color': 'black', 'dash': 'dash', 'width': 0.5},\n",
       "              'marker': {'color': 'white', 'line': {'color': 'black', 'width': 1}, 'size': 6},\n",
       "              'mode': 'lines+markers',\n",
       "              'name': 'Training',\n",
       "              'type': 'scatter',\n",
       "              'uid': '5741494c-e585-4db5-bd47-85f491c2077d',\n",
       "              'x': [],\n",
       "              'xaxis': 'x',\n",
       "              'y': [],\n",
       "              'yaxis': 'y'},\n",
       "             {'line': {'color': 'red', 'dash': 'dash', 'width': 0.5},\n",
       "              'marker': {'color': 'white', 'line': {'color': 'red', 'width': 1}, 'size': 6},\n",
       "              'mode': 'lines+markers',\n",
       "              'name': 'Testing',\n",
       "              'type': 'scatter',\n",
       "              'uid': '136444da-bbca-466d-bebd-0c348bd5a0a8',\n",
       "              'x': [],\n",
       "              'xaxis': 'x',\n",
       "              'y': [],\n",
       "              'yaxis': 'y'},\n",
       "             {'line': {'color': 'black', 'dash': 'dash', 'width': 0.5},\n",
       "              'marker': {'color': 'white', 'line': {'color': 'black', 'width': 1}, 'size': 6},\n",
       "              'mode': 'lines+markers',\n",
       "              'showlegend': False,\n",
       "              'type': 'scatter',\n",
       "              'uid': '092e8c72-749b-4bbd-af4b-a2999532f781',\n",
       "              'x': [],\n",
       "              'xaxis': 'x2',\n",
       "              'y': [],\n",
       "              'yaxis': 'y2'},\n",
       "             {'line': {'color': 'red', 'dash': 'dash', 'width': 0.5},\n",
       "              'marker': {'color': 'white', 'line': {'color': 'red', 'width': 1}, 'size': 6},\n",
       "              'mode': 'lines+markers',\n",
       "              'showlegend': False,\n",
       "              'type': 'scatter',\n",
       "              'uid': '7f7949d4-6c58-4325-8c39-66db4616218b',\n",
       "              'x': [],\n",
       "              'xaxis': 'x2',\n",
       "              'y': [],\n",
       "              'yaxis': 'y2'}],\n",
       "    'layout': {'font': {'family': 'Arial', 'size': 12},\n",
       "               'height': 500,\n",
       "               'plot_bgcolor': 'white',\n",
       "               'template': '...',\n",
       "               'width': 1000,\n",
       "               'xaxis': {'anchor': 'y',\n",
       "                         'domain': [0.0, 0.45],\n",
       "                         'gridcolor': 'lightgrey',\n",
       "                         'griddash': 'dot',\n",
       "                         'gridwidth': 0.1,\n",
       "                         'linecolor': 'black',\n",
       "                         'mirror': True,\n",
       "                         'showgrid': True,\n",
       "                         'showline': True,\n",
       "                         'title': {'text': 'Epoch'}},\n",
       "               'xaxis2': {'anchor': 'y2',\n",
       "                          'domain': [0.55, 1.0],\n",
       "                          'gridcolor': 'lightgrey',\n",
       "                          'griddash': 'dot',\n",
       "                          'gridwidth': 0.1,\n",
       "                          'linecolor': 'black',\n",
       "                          'mirror': True,\n",
       "                          'showgrid': True,\n",
       "                          'showline': True,\n",
       "                          'title': {'text': 'Epoch'}},\n",
       "               'yaxis': {'anchor': 'x',\n",
       "                         'domain': [0.0, 1.0],\n",
       "                         'gridcolor': 'lightgrey',\n",
       "                         'griddash': 'dot',\n",
       "                         'gridwidth': 0.1,\n",
       "                         'linecolor': 'black',\n",
       "                         'mirror': True,\n",
       "                         'showgrid': True,\n",
       "                         'showline': True,\n",
       "                         'title': {'text': 'Loss'}},\n",
       "               'yaxis2': {'anchor': 'x2',\n",
       "                          'domain': [0.0, 1.0],\n",
       "                          'gridcolor': 'lightgrey',\n",
       "                          'griddash': 'dot',\n",
       "                          'gridwidth': 0.1,\n",
       "                          'linecolor': 'black',\n",
       "                          'mirror': True,\n",
       "                          'showgrid': True,\n",
       "                          'showline': True,\n",
       "                          'title': {'text': 'AUC ROC'}}}\n",
       "})"
      ]
     },
     "execution_count": 18,
     "metadata": {},
     "output_type": "execute_result"
    }
   ],
   "source": [
    "figure = get_figure(stats)\n",
    "figure"
   ]
  },
  {
   "cell_type": "code",
   "execution_count": 19,
   "id": "b0c137a9-37e8-4ebf-a878-5d640d106514",
   "metadata": {
    "tags": []
   },
   "outputs": [
    {
     "name": "stdout",
     "output_type": "stream",
     "text": [
      "==============================================================================--------------------------\n",
      "Epoch: 0 | Training loss: 0.6968 | Testing loss: 0.6805 | Training AUC: 0.5836 | Testing AUC: 0.5000\n",
      "==============================================================================--------------------------\n",
      "Epoch: 1 | Training loss: 0.6627 | Testing loss: 0.6361 | Training AUC: 0.3977 | Testing AUC: 0.5000\n",
      "==============================================================================--------------------------\n",
      "Epoch: 2 | Training loss: 0.6326 | Testing loss: 0.6161 | Training AUC: 0.4935 | Testing AUC: 0.5000\n",
      "==============================================================================--------------------------\n",
      "Epoch: 3 | Training loss: 0.6171 | Testing loss: 0.6009 | Training AUC: 0.4537 | Testing AUC: 0.5000\n",
      "==============================================================================--------------------------\n",
      "Epoch: 4 | Training loss: 0.6044 | Testing loss: 0.5889 | Training AUC: 0.4984 | Testing AUC: 0.5000\n",
      "==============================================================================--------------------------\n",
      "Epoch: 5 | Training loss: 0.5959 | Testing loss: 0.5855 | Training AUC: 0.5300 | Testing AUC: 0.5000\n",
      "==============================================================================--------------------------\n",
      "Epoch: 6 | Training loss: 0.6092 | Testing loss: 0.5850 | Training AUC: 0.3157 | Testing AUC: 0.5000\n",
      "==============================================================================--------------------------\n",
      "Epoch: 7 | Training loss: 0.5974 | Testing loss: 0.5848 | Training AUC: 0.4846 | Testing AUC: 0.5000\n",
      "==============================================================================--------------------------\n",
      "Epoch: 8 | Training loss: 0.6075 | Testing loss: 0.5835 | Training AUC: 0.3336 | Testing AUC: 0.5000\n",
      "==============================================================================--------------------------\n",
      "Epoch: 9 | Training loss: 0.5887 | Testing loss: 0.5833 | Training AUC: 0.5917 | Testing AUC: 0.5000\n",
      "==============================================================================--------------------------\n",
      "Epoch: 10 | Training loss: 0.5933 | Testing loss: 0.5832 | Training AUC: 0.5455 | Testing AUC: 0.5000\n",
      "!Model weights were saved.\n",
      "==============================================================================--------------------------\n",
      "Epoch: 11 | Training loss: 0.5952 | Testing loss: 0.5835 | Training AUC: 0.5268 | Testing AUC: 0.5000\n",
      "==============================================================================--------------------------\n",
      "Epoch: 12 | Training loss: 0.5974 | Testing loss: 0.5833 | Training AUC: 0.4959 | Testing AUC: 0.5000\n",
      "==============================================================================--------------------------\n",
      "Epoch: 13 | Training loss: 0.5951 | Testing loss: 0.5829 | Training AUC: 0.5260 | Testing AUC: 0.5000\n",
      "==============================================================================--------------------------\n",
      "Epoch: 14 | Training loss: 0.5826 | Testing loss: 0.5827 | Training AUC: 0.6802 | Testing AUC: 0.5000\n",
      "==============================================================================--------------------------\n",
      "Epoch: 15 | Training loss: 0.5985 | Testing loss: 0.5827 | Training AUC: 0.4683 | Testing AUC: 0.5000\n",
      "!Model weights were saved.\n",
      "==============================================================================--------------------------\n",
      "Epoch: 16 | Training loss: 0.5911 | Testing loss: 0.5827 | Training AUC: 0.5706 | Testing AUC: 0.5000\n",
      "==============================================================================--------------------------\n",
      "Epoch: 17 | Training loss: 0.6070 | Testing loss: 0.5829 | Training AUC: 0.3904 | Testing AUC: 0.5000\n",
      "==============================================================================--------------------------\n",
      "Epoch: 18 | Training loss: 0.5928 | Testing loss: 0.5831 | Training AUC: 0.5130 | Testing AUC: 0.5000\n",
      "==============================================================================--------------------------\n",
      "Epoch: 19 | Training loss: 0.6079 | Testing loss: 0.5833 | Training AUC: 0.3198 | Testing AUC: 0.5000\n",
      "==============================================================================--------------------------\n",
      "Epoch: 20 | Training loss: 0.6034 | Testing loss: 0.5831 | Training AUC: 0.3994 | Testing AUC: 0.5000\n",
      "!Model weights were saved.\n",
      "==============================================================================--------------------------\n",
      "Epoch: 21 | Training loss: 0.5950 | Testing loss: 0.5832 | Training AUC: 0.5235 | Testing AUC: 0.5000\n",
      "==============================================================================--------------------------\n",
      "Epoch: 22 | Training loss: 0.6035 | Testing loss: 0.5829 | Training AUC: 0.3888 | Testing AUC: 0.5000\n",
      "==============================================================================--------------------------\n",
      "Epoch: 23 | Training loss: 0.6017 | Testing loss: 0.5836 | Training AUC: 0.4058 | Testing AUC: 0.5000\n",
      "==============================================================================--------------------------\n",
      "Epoch: 24 | Training loss: 0.6034 | Testing loss: 0.5835 | Training AUC: 0.4294 | Testing AUC: 0.5000\n",
      "==============================================================================--------------------------\n",
      "Epoch: 25 | Training loss: 0.5992 | Testing loss: 0.5834 | Training AUC: 0.4367 | Testing AUC: 0.5000\n",
      "==============================================================================--------------------------\n",
      "Epoch: 26 | Training loss: 0.5942 | Testing loss: 0.5834 | Training AUC: 0.5317 | Testing AUC: 0.5000\n",
      "==============================================================================--------------------------\n",
      "Epoch: 27 | Training loss: 0.6004 | Testing loss: 0.5834 | Training AUC: 0.4407 | Testing AUC: 0.5000\n",
      "==============================================================================--------------------------\n",
      "Epoch: 28 | Training loss: 0.6022 | Testing loss: 0.5834 | Training AUC: 0.4188 | Testing AUC: 0.5000\n",
      "==============================================================================--------------------------\n",
      "Epoch: 29 | Training loss: 0.5946 | Testing loss: 0.5829 | Training AUC: 0.5325 | Testing AUC: 0.5000\n",
      "==============================================================================--------------------------\n",
      "Epoch: 30 | Training loss: 0.6048 | Testing loss: 0.5831 | Training AUC: 0.3799 | Testing AUC: 0.5000\n",
      "!Model weights were saved.\n",
      "==============================================================================--------------------------\n",
      "Epoch: 31 | Training loss: 0.6007 | Testing loss: 0.5833 | Training AUC: 0.4545 | Testing AUC: 0.5000\n",
      "==============================================================================--------------------------\n",
      "Epoch: 32 | Training loss: 0.6003 | Testing loss: 0.5831 | Training AUC: 0.4359 | Testing AUC: 0.5000\n",
      "==============================================================================--------------------------\n",
      "Epoch: 33 | Training loss: 0.6008 | Testing loss: 0.5841 | Training AUC: 0.4107 | Testing AUC: 0.5000\n",
      "==============================================================================--------------------------\n",
      "Epoch: 34 | Training loss: 0.5938 | Testing loss: 0.5834 | Training AUC: 0.5138 | Testing AUC: 0.5000\n",
      "==============================================================================--------------------------\n",
      "Epoch: 35 | Training loss: 0.5960 | Testing loss: 0.5827 | Training AUC: 0.5162 | Testing AUC: 0.5000\n",
      "==============================================================================--------------------------\n",
      "Epoch: 36 | Training loss: 0.5949 | Testing loss: 0.5829 | Training AUC: 0.5170 | Testing AUC: 0.5000\n",
      "==============================================================================--------------------------\n",
      "Epoch: 37 | Training loss: 0.5998 | Testing loss: 0.5834 | Training AUC: 0.4756 | Testing AUC: 0.5000\n",
      "==============================================================================--------------------------\n",
      "Epoch: 38 | Training loss: 0.5973 | Testing loss: 0.5829 | Training AUC: 0.5106 | Testing AUC: 0.5000\n",
      "==============================================================================--------------------------\n",
      "Epoch: 39 | Training loss: 0.5890 | Testing loss: 0.5829 | Training AUC: 0.5901 | Testing AUC: 0.5000\n",
      "==============================================================================--------------------------\n",
      "Epoch: 40 | Training loss: 0.5969 | Testing loss: 0.5828 | Training AUC: 0.4838 | Testing AUC: 0.5000\n",
      "!Model weights were saved.\n",
      "==============================================================================--------------------------\n",
      "Epoch: 41 | Training loss: 0.5931 | Testing loss: 0.5828 | Training AUC: 0.5503 | Testing AUC: 0.5000\n",
      "==============================================================================--------------------------\n",
      "Epoch: 42 | Training loss: 0.5983 | Testing loss: 0.5829 | Training AUC: 0.4562 | Testing AUC: 0.5000\n",
      "==============================================================================--------------------------\n",
      "Epoch: 43 | Training loss: 0.5958 | Testing loss: 0.5834 | Training AUC: 0.5016 | Testing AUC: 0.5000\n",
      "==============================================================================--------------------------\n",
      "Epoch: 44 | Training loss: 0.5911 | Testing loss: 0.5828 | Training AUC: 0.5722 | Testing AUC: 0.5000\n",
      "==============================================================================--------------------------\n",
      "Epoch: 45 | Training loss: 0.5996 | Testing loss: 0.5831 | Training AUC: 0.4513 | Testing AUC: 0.5000\n",
      "==============================================================================--------------------------\n",
      "Epoch: 46 | Training loss: 0.5908 | Testing loss: 0.5827 | Training AUC: 0.5641 | Testing AUC: 0.5000\n",
      "==============================================================================--------------------------\n",
      "Epoch: 47 | Training loss: 0.5972 | Testing loss: 0.5830 | Training AUC: 0.4756 | Testing AUC: 0.5000\n",
      "==============================================================================--------------------------\n",
      "Epoch: 48 | Training loss: 0.5884 | Testing loss: 0.5829 | Training AUC: 0.6234 | Testing AUC: 0.5000\n",
      "==============================================================================--------------------------\n",
      "Epoch: 49 | Training loss: 0.5975 | Testing loss: 0.5829 | Training AUC: 0.4992 | Testing AUC: 0.5000\n",
      "==============================================================================--------------------------\n",
      "Epoch: 50 | Training loss: 0.5864 | Testing loss: 0.5828 | Training AUC: 0.6161 | Testing AUC: 0.5000\n",
      "!Model weights were saved.\n",
      "==============================================================================--------------------------\n",
      "Epoch: 51 | Training loss: 0.5955 | Testing loss: 0.5829 | Training AUC: 0.5065 | Testing AUC: 0.5000\n",
      "==============================================================================--------------------------\n",
      "Epoch: 52 | Training loss: 0.6011 | Testing loss: 0.5829 | Training AUC: 0.4164 | Testing AUC: 0.5000\n",
      "==============================================================================--------------------------\n",
      "Epoch: 53 | Training loss: 0.5938 | Testing loss: 0.5830 | Training AUC: 0.4692 | Testing AUC: 0.5000\n",
      "==============================================================================--------------------------\n",
      "Epoch: 54 | Training loss: 0.5986 | Testing loss: 0.5828 | Training AUC: 0.4627 | Testing AUC: 0.5000\n",
      "==============================================================================--------------------------\n",
      "Epoch: 55 | Training loss: 0.5972 | Testing loss: 0.5829 | Training AUC: 0.4675 | Testing AUC: 0.5000\n",
      "==============================================================================--------------------------\n",
      "Epoch: 56 | Training loss: 0.6046 | Testing loss: 0.5829 | Training AUC: 0.3977 | Testing AUC: 0.5000\n",
      "==============================================================================--------------------------\n",
      "Epoch: 57 | Training loss: 0.6011 | Testing loss: 0.5829 | Training AUC: 0.4115 | Testing AUC: 0.5000\n",
      "==============================================================================--------------------------\n",
      "Epoch: 58 | Training loss: 0.6023 | Testing loss: 0.5836 | Training AUC: 0.4391 | Testing AUC: 0.5000\n",
      "==============================================================================--------------------------\n",
      "Epoch: 59 | Training loss: 0.6077 | Testing loss: 0.5841 | Training AUC: 0.3482 | Testing AUC: 0.5000\n",
      "==============================================================================--------------------------\n",
      "Epoch: 60 | Training loss: 0.5919 | Testing loss: 0.5833 | Training AUC: 0.5617 | Testing AUC: 0.5000\n",
      "==============================================================================--------------------------\n",
      "Epoch: 61 | Training loss: 0.6037 | Testing loss: 0.5831 | Training AUC: 0.4229 | Testing AUC: 0.5000\n",
      "==============================================================================--------------------------\n",
      "Epoch: 62 | Training loss: 0.5972 | Testing loss: 0.5833 | Training AUC: 0.4894 | Testing AUC: 0.5000\n",
      "==============================================================================--------------------------\n",
      "Epoch: 63 | Training loss: 0.5872 | Testing loss: 0.5830 | Training AUC: 0.6218 | Testing AUC: 0.5000\n",
      "==============================================================================--------------------------\n",
      "Epoch: 64 | Training loss: 0.5983 | Testing loss: 0.5829 | Training AUC: 0.4521 | Testing AUC: 0.5000\n",
      "==============================================================================--------------------------\n",
      "Epoch: 65 | Training loss: 0.5960 | Testing loss: 0.5828 | Training AUC: 0.5089 | Testing AUC: 0.5000\n",
      "!Model weights were saved.\n",
      "==============================================================================--------------------------\n",
      "Epoch: 66 | Training loss: 0.6001 | Testing loss: 0.5827 | Training AUC: 0.4505 | Testing AUC: 0.5000\n",
      "==============================================================================--------------------------\n",
      "Epoch: 67 | Training loss: 0.6009 | Testing loss: 0.5833 | Training AUC: 0.4497 | Testing AUC: 0.5000\n",
      "==============================================================================--------------------------\n",
      "Epoch: 68 | Training loss: 0.6085 | Testing loss: 0.5835 | Training AUC: 0.3596 | Testing AUC: 0.5000\n",
      "==============================================================================--------------------------\n",
      "Epoch: 69 | Training loss: 0.6059 | Testing loss: 0.5833 | Training AUC: 0.3896 | Testing AUC: 0.5000\n",
      "==============================================================================--------------------------\n",
      "Epoch: 70 | Training loss: 0.5943 | Testing loss: 0.5832 | Training AUC: 0.5349 | Testing AUC: 0.5000\n",
      "==============================================================================--------------------------\n",
      "Epoch: 71 | Training loss: 0.5922 | Testing loss: 0.5829 | Training AUC: 0.5593 | Testing AUC: 0.5000\n",
      "==============================================================================--------------------------\n",
      "Epoch: 72 | Training loss: 0.5970 | Testing loss: 0.5831 | Training AUC: 0.4878 | Testing AUC: 0.5000\n",
      "==============================================================================--------------------------\n",
      "Epoch: 73 | Training loss: 0.5955 | Testing loss: 0.5832 | Training AUC: 0.4943 | Testing AUC: 0.5000\n",
      "==============================================================================--------------------------\n",
      "Epoch: 74 | Training loss: 0.5967 | Testing loss: 0.5830 | Training AUC: 0.5032 | Testing AUC: 0.5000\n",
      "==============================================================================--------------------------\n",
      "Epoch: 75 | Training loss: 0.5956 | Testing loss: 0.5826 | Training AUC: 0.5122 | Testing AUC: 0.5000\n",
      "!Model weights were saved.\n",
      "==============================================================================--------------------------\n",
      "Epoch: 76 | Training loss: 0.6022 | Testing loss: 0.5833 | Training AUC: 0.4010 | Testing AUC: 0.5000\n",
      "==============================================================================--------------------------\n",
      "Epoch: 77 | Training loss: 0.6019 | Testing loss: 0.5828 | Training AUC: 0.4505 | Testing AUC: 0.5000\n",
      "==============================================================================--------------------------\n",
      "Epoch: 78 | Training loss: 0.5974 | Testing loss: 0.5828 | Training AUC: 0.5195 | Testing AUC: 0.5000\n",
      "==============================================================================--------------------------\n",
      "Epoch: 79 | Training loss: 0.5905 | Testing loss: 0.5832 | Training AUC: 0.5763 | Testing AUC: 0.5000\n",
      "==============================================================================--------------------------\n",
      "Epoch: 80 | Training loss: 0.6020 | Testing loss: 0.5830 | Training AUC: 0.4318 | Testing AUC: 0.5000\n",
      "==============================================================================--------------------------\n",
      "Epoch: 81 | Training loss: 0.6004 | Testing loss: 0.5836 | Training AUC: 0.4610 | Testing AUC: 0.5000\n",
      "==============================================================================--------------------------\n",
      "Epoch: 82 | Training loss: 0.5886 | Testing loss: 0.5832 | Training AUC: 0.6128 | Testing AUC: 0.5000\n",
      "==============================================================================--------------------------\n",
      "Epoch: 83 | Training loss: 0.6055 | Testing loss: 0.5831 | Training AUC: 0.4172 | Testing AUC: 0.5000\n",
      "==============================================================================--------------------------\n",
      "Epoch: 84 | Training loss: 0.5988 | Testing loss: 0.5835 | Training AUC: 0.4570 | Testing AUC: 0.5000\n",
      "==============================================================================--------------------------\n",
      "Epoch: 85 | Training loss: 0.5977 | Testing loss: 0.5839 | Training AUC: 0.4838 | Testing AUC: 0.5000\n",
      "==============================================================================--------------------------\n",
      "Epoch: 86 | Training loss: 0.5975 | Testing loss: 0.5831 | Training AUC: 0.4903 | Testing AUC: 0.5000\n",
      "==============================================================================--------------------------\n",
      "Epoch: 87 | Training loss: 0.6001 | Testing loss: 0.5837 | Training AUC: 0.4440 | Testing AUC: 0.5000\n",
      "==============================================================================--------------------------\n",
      "Epoch: 88 | Training loss: 0.5932 | Testing loss: 0.5830 | Training AUC: 0.5349 | Testing AUC: 0.5000\n",
      "==============================================================================--------------------------\n",
      "Epoch: 89 | Training loss: 0.6073 | Testing loss: 0.5834 | Training AUC: 0.3482 | Testing AUC: 0.5000\n",
      "==============================================================================--------------------------\n",
      "Epoch: 90 | Training loss: 0.5959 | Testing loss: 0.5834 | Training AUC: 0.5154 | Testing AUC: 0.5000\n",
      "!Model weights were saved.\n",
      "==============================================================================--------------------------\n",
      "Epoch: 91 | Training loss: 0.6062 | Testing loss: 0.5833 | Training AUC: 0.4091 | Testing AUC: 0.5000\n",
      "==============================================================================--------------------------\n",
      "Epoch: 92 | Training loss: 0.5960 | Testing loss: 0.5833 | Training AUC: 0.5317 | Testing AUC: 0.5000\n",
      "==============================================================================--------------------------\n",
      "Epoch: 93 | Training loss: 0.5988 | Testing loss: 0.5830 | Training AUC: 0.4610 | Testing AUC: 0.5000\n",
      "==============================================================================--------------------------\n",
      "Epoch: 94 | Training loss: 0.6023 | Testing loss: 0.5833 | Training AUC: 0.4099 | Testing AUC: 0.5000\n",
      "==============================================================================--------------------------\n",
      "Epoch: 95 | Training loss: 0.6010 | Testing loss: 0.5830 | Training AUC: 0.4416 | Testing AUC: 0.5000\n",
      "!Model weights were saved.\n",
      "==============================================================================--------------------------\n",
      "Epoch: 96 | Training loss: 0.6004 | Testing loss: 0.5830 | Training AUC: 0.4513 | Testing AUC: 0.5000\n",
      "==============================================================================--------------------------\n",
      "Epoch: 97 | Training loss: 0.5972 | Testing loss: 0.5833 | Training AUC: 0.5463 | Testing AUC: 0.5000\n",
      "==============================================================================--------------------------\n",
      "Epoch: 98 | Training loss: 0.6005 | Testing loss: 0.5836 | Training AUC: 0.4448 | Testing AUC: 0.5000\n",
      "==============================================================================--------------------------\n",
      "Epoch: 99 | Training loss: 0.5947 | Testing loss: 0.5829 | Training AUC: 0.5430 | Testing AUC: 0.5000\n",
      "==============================================================================--------------------------\n",
      "Epoch: 100 | Training loss: 0.5989 | Testing loss: 0.5835 | Training AUC: 0.4505 | Testing AUC: 0.5000\n",
      "==============================================================================--------------------------\n",
      "Epoch: 101 | Training loss: 0.5971 | Testing loss: 0.5831 | Training AUC: 0.4765 | Testing AUC: 0.5000\n",
      "==============================================================================--------------------------\n",
      "Epoch: 102 | Training loss: 0.5884 | Testing loss: 0.5829 | Training AUC: 0.5836 | Testing AUC: 0.5000\n",
      "==============================================================================--------------------------\n",
      "Epoch: 103 | Training loss: 0.5964 | Testing loss: 0.5829 | Training AUC: 0.4886 | Testing AUC: 0.5000\n",
      "==============================================================================--------------------------\n",
      "Epoch: 104 | Training loss: 0.6021 | Testing loss: 0.5833 | Training AUC: 0.4416 | Testing AUC: 0.5000\n",
      "==============================================================================--------------------------\n",
      "Epoch: 105 | Training loss: 0.6030 | Testing loss: 0.5835 | Training AUC: 0.4221 | Testing AUC: 0.5000\n",
      "!Model weights were saved.\n",
      "==============================================================================--------------------------\n",
      "Epoch: 106 | Training loss: 0.5906 | Testing loss: 0.5832 | Training AUC: 0.5584 | Testing AUC: 0.5000\n",
      "==============================================================================--------------------------\n",
      "Epoch: 107 | Training loss: 0.6041 | Testing loss: 0.5827 | Training AUC: 0.3766 | Testing AUC: 0.5000\n",
      "==============================================================================--------------------------\n",
      "Epoch: 108 | Training loss: 0.6015 | Testing loss: 0.5834 | Training AUC: 0.4391 | Testing AUC: 0.5000\n",
      "==============================================================================--------------------------\n",
      "Epoch: 109 | Training loss: 0.5954 | Testing loss: 0.5832 | Training AUC: 0.5179 | Testing AUC: 0.5000\n",
      "==============================================================================--------------------------\n",
      "Epoch: 110 | Training loss: 0.5896 | Testing loss: 0.5826 | Training AUC: 0.5755 | Testing AUC: 0.5000\n",
      "!Model weights were saved.\n",
      "==============================================================================--------------------------\n",
      "Epoch: 111 | Training loss: 0.5990 | Testing loss: 0.5834 | Training AUC: 0.4489 | Testing AUC: 0.5000\n",
      "==============================================================================--------------------------\n",
      "Epoch: 112 | Training loss: 0.5902 | Testing loss: 0.5828 | Training AUC: 0.5430 | Testing AUC: 0.5000\n",
      "==============================================================================--------------------------\n",
      "Epoch: 113 | Training loss: 0.6062 | Testing loss: 0.5831 | Training AUC: 0.3896 | Testing AUC: 0.5000\n",
      "==============================================================================--------------------------\n",
      "Epoch: 114 | Training loss: 0.6046 | Testing loss: 0.5832 | Training AUC: 0.3815 | Testing AUC: 0.5000\n",
      "==============================================================================--------------------------\n",
      "Epoch: 115 | Training loss: 0.6023 | Testing loss: 0.5836 | Training AUC: 0.4261 | Testing AUC: 0.5000\n",
      "==============================================================================--------------------------\n",
      "Epoch: 116 | Training loss: 0.5965 | Testing loss: 0.5836 | Training AUC: 0.5081 | Testing AUC: 0.5000\n",
      "==============================================================================--------------------------\n",
      "Epoch: 117 | Training loss: 0.5940 | Testing loss: 0.5831 | Training AUC: 0.5317 | Testing AUC: 0.5000\n",
      "==============================================================================--------------------------\n",
      "Epoch: 118 | Training loss: 0.6032 | Testing loss: 0.5832 | Training AUC: 0.4424 | Testing AUC: 0.5000\n",
      "==============================================================================--------------------------\n",
      "Epoch: 119 | Training loss: 0.5957 | Testing loss: 0.5833 | Training AUC: 0.5138 | Testing AUC: 0.5000\n",
      "==============================================================================--------------------------\n",
      "Epoch: 120 | Training loss: 0.6021 | Testing loss: 0.5831 | Training AUC: 0.4432 | Testing AUC: 0.5000\n",
      "==============================================================================--------------------------\n",
      "Epoch: 121 | Training loss: 0.5898 | Testing loss: 0.5833 | Training AUC: 0.5690 | Testing AUC: 0.5000\n",
      "==============================================================================--------------------------\n",
      "Epoch: 122 | Training loss: 0.5950 | Testing loss: 0.5830 | Training AUC: 0.5292 | Testing AUC: 0.5000\n",
      "==============================================================================--------------------------\n",
      "Epoch: 123 | Training loss: 0.5982 | Testing loss: 0.5827 | Training AUC: 0.5122 | Testing AUC: 0.5000\n",
      "==============================================================================--------------------------\n",
      "Epoch: 124 | Training loss: 0.6005 | Testing loss: 0.5830 | Training AUC: 0.4334 | Testing AUC: 0.5000\n",
      "==============================================================================--------------------------\n",
      "Epoch: 125 | Training loss: 0.5989 | Testing loss: 0.5831 | Training AUC: 0.4180 | Testing AUC: 0.5000\n",
      "!Model weights were saved.\n",
      "==============================================================================--------------------------\n",
      "Epoch: 126 | Training loss: 0.6004 | Testing loss: 0.5828 | Training AUC: 0.4692 | Testing AUC: 0.5000\n",
      "==============================================================================--------------------------\n",
      "Epoch: 127 | Training loss: 0.5966 | Testing loss: 0.5827 | Training AUC: 0.4878 | Testing AUC: 0.5000\n",
      "==============================================================================--------------------------\n",
      "Epoch: 128 | Training loss: 0.5977 | Testing loss: 0.5830 | Training AUC: 0.4846 | Testing AUC: 0.5000\n",
      "==============================================================================--------------------------\n",
      "Epoch: 129 | Training loss: 0.5970 | Testing loss: 0.5831 | Training AUC: 0.4854 | Testing AUC: 0.5000\n",
      "==============================================================================--------------------------\n",
      "Epoch: 130 | Training loss: 0.5794 | Testing loss: 0.5829 | Training AUC: 0.7297 | Testing AUC: 0.5000\n",
      "!Model weights were saved.\n",
      "==============================================================================--------------------------\n",
      "Epoch: 131 | Training loss: 0.5987 | Testing loss: 0.5827 | Training AUC: 0.4554 | Testing AUC: 0.5000\n",
      "==============================================================================--------------------------\n",
      "Epoch: 132 | Training loss: 0.6018 | Testing loss: 0.5828 | Training AUC: 0.4456 | Testing AUC: 0.5000\n",
      "==============================================================================--------------------------\n",
      "Epoch: 133 | Training loss: 0.5970 | Testing loss: 0.5829 | Training AUC: 0.5138 | Testing AUC: 0.5000\n",
      "==============================================================================--------------------------\n",
      "Epoch: 134 | Training loss: 0.5972 | Testing loss: 0.5827 | Training AUC: 0.5049 | Testing AUC: 0.5000\n",
      "==============================================================================--------------------------\n",
      "Epoch: 135 | Training loss: 0.6053 | Testing loss: 0.5832 | Training AUC: 0.4172 | Testing AUC: 0.5000\n",
      "!Model weights were saved.\n",
      "==============================================================================--------------------------\n",
      "Epoch: 136 | Training loss: 0.6020 | Testing loss: 0.5835 | Training AUC: 0.4391 | Testing AUC: 0.5000\n",
      "==============================================================================--------------------------\n",
      "Epoch: 137 | Training loss: 0.5962 | Testing loss: 0.5829 | Training AUC: 0.5179 | Testing AUC: 0.5000\n",
      "==============================================================================--------------------------\n",
      "Epoch: 138 | Training loss: 0.5997 | Testing loss: 0.5835 | Training AUC: 0.4594 | Testing AUC: 0.5000\n",
      "==============================================================================--------------------------\n",
      "Epoch: 139 | Training loss: 0.5991 | Testing loss: 0.5829 | Training AUC: 0.4797 | Testing AUC: 0.5000\n",
      "==============================================================================--------------------------\n",
      "Epoch: 140 | Training loss: 0.6055 | Testing loss: 0.5838 | Training AUC: 0.4269 | Testing AUC: 0.5000\n",
      "==============================================================================--------------------------\n",
      "Epoch: 141 | Training loss: 0.5951 | Testing loss: 0.5831 | Training AUC: 0.5016 | Testing AUC: 0.5000\n",
      "==============================================================================--------------------------\n",
      "Epoch: 142 | Training loss: 0.6033 | Testing loss: 0.5834 | Training AUC: 0.4010 | Testing AUC: 0.5000\n",
      "==============================================================================--------------------------\n",
      "Epoch: 143 | Training loss: 0.6017 | Testing loss: 0.5830 | Training AUC: 0.4156 | Testing AUC: 0.5000\n",
      "==============================================================================--------------------------\n",
      "Epoch: 144 | Training loss: 0.5932 | Testing loss: 0.5829 | Training AUC: 0.5617 | Testing AUC: 0.5000\n",
      "==============================================================================--------------------------\n",
      "Epoch: 145 | Training loss: 0.6053 | Testing loss: 0.5833 | Training AUC: 0.4002 | Testing AUC: 0.5000\n",
      "!Model weights were saved.\n",
      "==============================================================================--------------------------\n",
      "Epoch: 146 | Training loss: 0.6007 | Testing loss: 0.5833 | Training AUC: 0.4383 | Testing AUC: 0.5000\n",
      "==============================================================================--------------------------\n",
      "Epoch: 147 | Training loss: 0.5982 | Testing loss: 0.5828 | Training AUC: 0.4537 | Testing AUC: 0.5000\n",
      "==============================================================================--------------------------\n",
      "Epoch: 148 | Training loss: 0.5938 | Testing loss: 0.5828 | Training AUC: 0.5308 | Testing AUC: 0.5000\n",
      "==============================================================================--------------------------\n",
      "Epoch: 149 | Training loss: 0.5937 | Testing loss: 0.5826 | Training AUC: 0.5617 | Testing AUC: 0.5000\n",
      "==============================================================================--------------------------\n",
      "Epoch: 150 | Training loss: 0.5920 | Testing loss: 0.5826 | Training AUC: 0.5739 | Testing AUC: 0.5000\n",
      "!Model weights were saved.\n",
      "==============================================================================--------------------------\n",
      "Epoch: 151 | Training loss: 0.5994 | Testing loss: 0.5827 | Training AUC: 0.4765 | Testing AUC: 0.5000\n",
      "==============================================================================--------------------------\n",
      "Epoch: 152 | Training loss: 0.5937 | Testing loss: 0.5829 | Training AUC: 0.5495 | Testing AUC: 0.5000\n",
      "==============================================================================--------------------------\n",
      "Epoch: 153 | Training loss: 0.6014 | Testing loss: 0.5827 | Training AUC: 0.4286 | Testing AUC: 0.5000\n",
      "==============================================================================--------------------------\n",
      "Epoch: 154 | Training loss: 0.5919 | Testing loss: 0.5829 | Training AUC: 0.5706 | Testing AUC: 0.5000\n",
      "==============================================================================--------------------------\n",
      "Epoch: 155 | Training loss: 0.6028 | Testing loss: 0.5829 | Training AUC: 0.4310 | Testing AUC: 0.5000\n",
      "!Model weights were saved.\n",
      "==============================================================================--------------------------\n",
      "Epoch: 156 | Training loss: 0.6043 | Testing loss: 0.5830 | Training AUC: 0.4221 | Testing AUC: 0.5000\n",
      "==============================================================================--------------------------\n",
      "Epoch: 157 | Training loss: 0.5968 | Testing loss: 0.5827 | Training AUC: 0.4708 | Testing AUC: 0.5000\n",
      "==============================================================================--------------------------\n",
      "Epoch: 158 | Training loss: 0.5918 | Testing loss: 0.5829 | Training AUC: 0.5576 | Testing AUC: 0.5000\n",
      "==============================================================================--------------------------\n",
      "Epoch: 159 | Training loss: 0.6084 | Testing loss: 0.5834 | Training AUC: 0.3661 | Testing AUC: 0.5000\n",
      "==============================================================================--------------------------\n",
      "Epoch: 160 | Training loss: 0.5897 | Testing loss: 0.5830 | Training AUC: 0.5804 | Testing AUC: 0.5000\n",
      "==============================================================================--------------------------\n",
      "Epoch: 161 | Training loss: 0.5885 | Testing loss: 0.5825 | Training AUC: 0.5917 | Testing AUC: 0.5000\n",
      "==============================================================================--------------------------\n",
      "Epoch: 162 | Training loss: 0.5900 | Testing loss: 0.5826 | Training AUC: 0.5755 | Testing AUC: 0.5000\n",
      "==============================================================================--------------------------\n",
      "Epoch: 163 | Training loss: 0.6073 | Testing loss: 0.5825 | Training AUC: 0.4058 | Testing AUC: 0.5000\n",
      "==============================================================================--------------------------\n",
      "Epoch: 164 | Training loss: 0.5906 | Testing loss: 0.5830 | Training AUC: 0.5698 | Testing AUC: 0.5000\n",
      "==============================================================================--------------------------\n",
      "Epoch: 165 | Training loss: 0.6066 | Testing loss: 0.5830 | Training AUC: 0.3693 | Testing AUC: 0.5000\n",
      "!Model weights were saved.\n",
      "==============================================================================--------------------------\n",
      "Epoch: 166 | Training loss: 0.6112 | Testing loss: 0.5838 | Training AUC: 0.3312 | Testing AUC: 0.5000\n",
      "==============================================================================--------------------------\n",
      "Epoch: 167 | Training loss: 0.5988 | Testing loss: 0.5833 | Training AUC: 0.4651 | Testing AUC: 0.5000\n",
      "==============================================================================--------------------------\n",
      "Epoch: 168 | Training loss: 0.5965 | Testing loss: 0.5837 | Training AUC: 0.4748 | Testing AUC: 0.5000\n",
      "==============================================================================--------------------------\n",
      "Epoch: 169 | Training loss: 0.6062 | Testing loss: 0.5831 | Training AUC: 0.3791 | Testing AUC: 0.5000\n",
      "==============================================================================--------------------------\n",
      "Epoch: 170 | Training loss: 0.5965 | Testing loss: 0.5833 | Training AUC: 0.5097 | Testing AUC: 0.5000\n",
      "==============================================================================--------------------------\n",
      "Epoch: 171 | Training loss: 0.6077 | Testing loss: 0.5833 | Training AUC: 0.3620 | Testing AUC: 0.5000\n",
      "==============================================================================--------------------------\n",
      "Epoch: 172 | Training loss: 0.5915 | Testing loss: 0.5835 | Training AUC: 0.5593 | Testing AUC: 0.5000\n",
      "==============================================================================--------------------------\n",
      "Epoch: 173 | Training loss: 0.5999 | Testing loss: 0.5836 | Training AUC: 0.4318 | Testing AUC: 0.5000\n",
      "==============================================================================--------------------------\n",
      "Epoch: 174 | Training loss: 0.5935 | Testing loss: 0.5831 | Training AUC: 0.5398 | Testing AUC: 0.5000\n",
      "==============================================================================--------------------------\n",
      "Epoch: 175 | Training loss: 0.5978 | Testing loss: 0.5831 | Training AUC: 0.4830 | Testing AUC: 0.5000\n",
      "!Model weights were saved.\n",
      "==============================================================================--------------------------\n",
      "Epoch: 176 | Training loss: 0.5947 | Testing loss: 0.5832 | Training AUC: 0.5308 | Testing AUC: 0.5000\n",
      "==============================================================================--------------------------\n",
      "Epoch: 177 | Training loss: 0.6110 | Testing loss: 0.5836 | Training AUC: 0.3133 | Testing AUC: 0.5000\n",
      "==============================================================================--------------------------\n",
      "Epoch: 178 | Training loss: 0.6020 | Testing loss: 0.5836 | Training AUC: 0.4334 | Testing AUC: 0.5000\n",
      "==============================================================================--------------------------\n",
      "Epoch: 179 | Training loss: 0.5910 | Testing loss: 0.5829 | Training AUC: 0.5990 | Testing AUC: 0.5000\n",
      "==============================================================================--------------------------\n",
      "Epoch: 180 | Training loss: 0.5881 | Testing loss: 0.5829 | Training AUC: 0.6161 | Testing AUC: 0.5000\n",
      "!Model weights were saved.\n",
      "==============================================================================--------------------------\n",
      "Epoch: 181 | Training loss: 0.5967 | Testing loss: 0.5829 | Training AUC: 0.5065 | Testing AUC: 0.5000\n",
      "==============================================================================--------------------------\n",
      "Epoch: 182 | Training loss: 0.5914 | Testing loss: 0.5829 | Training AUC: 0.5544 | Testing AUC: 0.5000\n",
      "==============================================================================--------------------------\n",
      "Epoch: 183 | Training loss: 0.5956 | Testing loss: 0.5829 | Training AUC: 0.5146 | Testing AUC: 0.5000\n",
      "==============================================================================--------------------------\n",
      "Epoch: 184 | Training loss: 0.5922 | Testing loss: 0.5828 | Training AUC: 0.5617 | Testing AUC: 0.5000\n",
      "==============================================================================--------------------------\n",
      "Epoch: 185 | Training loss: 0.5971 | Testing loss: 0.5828 | Training AUC: 0.4935 | Testing AUC: 0.5000\n",
      "!Model weights were saved.\n",
      "==============================================================================--------------------------\n",
      "Epoch: 186 | Training loss: 0.5984 | Testing loss: 0.5829 | Training AUC: 0.5057 | Testing AUC: 0.5000\n",
      "==============================================================================--------------------------\n",
      "Epoch: 187 | Training loss: 0.5994 | Testing loss: 0.5827 | Training AUC: 0.4740 | Testing AUC: 0.5000\n",
      "==============================================================================--------------------------\n",
      "Epoch: 188 | Training loss: 0.5920 | Testing loss: 0.5826 | Training AUC: 0.5487 | Testing AUC: 0.5000\n",
      "==============================================================================--------------------------\n",
      "Epoch: 189 | Training loss: 0.5957 | Testing loss: 0.5829 | Training AUC: 0.5276 | Testing AUC: 0.5000\n",
      "==============================================================================--------------------------\n",
      "Epoch: 190 | Training loss: 0.6043 | Testing loss: 0.5828 | Training AUC: 0.3985 | Testing AUC: 0.5000\n",
      "!Model weights were saved.\n",
      "==============================================================================--------------------------\n",
      "Epoch: 191 | Training loss: 0.6009 | Testing loss: 0.5833 | Training AUC: 0.4756 | Testing AUC: 0.5000\n",
      "==============================================================================--------------------------\n",
      "Epoch: 192 | Training loss: 0.5975 | Testing loss: 0.5830 | Training AUC: 0.4903 | Testing AUC: 0.5000\n",
      "==============================================================================--------------------------\n",
      "Epoch: 193 | Training loss: 0.5995 | Testing loss: 0.5828 | Training AUC: 0.4602 | Testing AUC: 0.5000\n",
      "==============================================================================--------------------------\n",
      "Epoch: 194 | Training loss: 0.6052 | Testing loss: 0.5833 | Training AUC: 0.3815 | Testing AUC: 0.5000\n",
      "==============================================================================--------------------------\n",
      "Epoch: 195 | Training loss: 0.5970 | Testing loss: 0.5831 | Training AUC: 0.4619 | Testing AUC: 0.5000\n",
      "==============================================================================--------------------------\n",
      "Epoch: 196 | Training loss: 0.5957 | Testing loss: 0.5831 | Training AUC: 0.5146 | Testing AUC: 0.5000\n",
      "==============================================================================--------------------------\n",
      "Epoch: 197 | Training loss: 0.6108 | Testing loss: 0.5833 | Training AUC: 0.3320 | Testing AUC: 0.5000\n",
      "==============================================================================--------------------------\n",
      "Epoch: 198 | Training loss: 0.5929 | Testing loss: 0.5832 | Training AUC: 0.5325 | Testing AUC: 0.5000\n",
      "==============================================================================--------------------------\n",
      "Epoch: 199 | Training loss: 0.5881 | Testing loss: 0.5831 | Training AUC: 0.6201 | Testing AUC: 0.5000\n"
     ]
    }
   ],
   "source": [
    "for epoch in range(se, 200):\n",
    "    train_loss, train_auc = training(model, optimizer, criterion, train_dataloader)\n",
    "    test_loss, test_auc = testing(model, optimizer, criterion, test_dataloader)\n",
    "    #\n",
    "    update_stats(stats, epoch, train_loss, test_loss, train_auc, test_auc)\n",
    "    update_figure(figure, stats)\n",
    "    #\n",
    "    joblib.dump(stats, f'artifacts/{filename}.joblib')\n",
    "    if epoch % 5 == 0:\n",
    "        if len(stats['testing_loss']) >= 10:\n",
    "            x0 = torch.tensor(stats['testing_loss'][-10:-5]).mean()\n",
    "            if x0 > torch.tensor(stats['testing_loss'][-5:]).mean():\n",
    "                torch.save(\n",
    "                    model.state_dict(),\n",
    "                    f'artifacts/{filename}.pt'\n",
    "                )\n",
    "                print('!Model weights were saved.')"
   ]
  },
  {
   "cell_type": "markdown",
   "id": "ef8c8157-7ab9-4970-ad55-2f941d85349d",
   "metadata": {
    "tags": []
   },
   "source": [
    "# Modelling `as is`"
   ]
  },
  {
   "cell_type": "code",
   "execution_count": 8,
   "id": "467333f7-40e4-4e4e-b799-54a0a55b6bdf",
   "metadata": {
    "tags": []
   },
   "outputs": [
    {
     "data": {
      "text/plain": [
       "'cuda'"
      ]
     },
     "execution_count": 8,
     "metadata": {},
     "output_type": "execute_result"
    }
   ],
   "source": [
    "device = 'cuda' if torch.cuda.is_available() else 'cpu'\n",
    "device"
   ]
  },
  {
   "cell_type": "code",
   "execution_count": 9,
   "id": "4bfc3ee3-d6d9-4801-9295-898f5822d4cc",
   "metadata": {
    "tags": []
   },
   "outputs": [],
   "source": [
    "from utils.spectrograms import get_spectrogram\n",
    "from utils.miscellaneous import update_stats\n",
    "from utils.plot import get_figure, update_figure"
   ]
  },
  {
   "cell_type": "code",
   "execution_count": 10,
   "id": "e9ca6a35-bd61-437b-b66d-6438e2fad0d9",
   "metadata": {
    "ExecuteTime": {
     "end_time": "2024-01-07T09:39:45.388382Z",
     "start_time": "2024-01-07T09:39:45.383137Z"
    },
    "tags": []
   },
   "outputs": [],
   "source": [
    "class Podcast(Dataset):\n",
    "\n",
    "    def __init__(self, X, y):\n",
    "        self.x = X\n",
    "        self.y = y\n",
    "\n",
    "    def __len__(self):\n",
    "        return len(self.x)\n",
    "\n",
    "    def __getitem__(self, idx):\n",
    "        label = self.y[idx]\n",
    "        episode = self.x[idx]\n",
    "        #\n",
    "        waveform, sample_rate = torchaudio.load(f'{raw_path}/{episode}.mp3')\n",
    "        #\n",
    "        return get_spectrogram(waveform.mean(dim=0), sample_rate, 'melspectrogram'), label"
   ]
  },
  {
   "cell_type": "code",
   "execution_count": 11,
   "id": "4d0dbd68-6737-4dc1-a49b-fd38127b72e4",
   "metadata": {
    "ExecuteTime": {
     "end_time": "2024-01-07T09:39:46.519333Z",
     "start_time": "2024-01-07T09:39:46.515826Z"
    },
    "tags": []
   },
   "outputs": [],
   "source": [
    "train = Podcast(X_train, y_train)\n",
    "train_dataloader = DataLoader(train, shuffle=True)"
   ]
  },
  {
   "cell_type": "code",
   "execution_count": 12,
   "id": "96ff78e2-ab51-4167-ba7b-a13ae54dafbc",
   "metadata": {
    "ExecuteTime": {
     "end_time": "2024-01-07T09:39:47.385464Z",
     "start_time": "2024-01-07T09:39:47.381841Z"
    },
    "tags": []
   },
   "outputs": [],
   "source": [
    "test = Podcast(X_test, y_test)\n",
    "test_dataloader = DataLoader(test)"
   ]
  },
  {
   "cell_type": "code",
   "execution_count": 13,
   "id": "e3e2b10a-ebce-40b0-8c06-0c44ea498a87",
   "metadata": {
    "ExecuteTime": {
     "end_time": "2024-03-10T10:15:41.917197Z",
     "start_time": "2024-03-10T10:15:41.903943Z"
    },
    "tags": []
   },
   "outputs": [],
   "source": [
    "class CNNet(nn.Module):\n",
    "    def __init__(self):\n",
    "        super().__init__()\n",
    "        self.layer1 = nn.Sequential(\n",
    "            nn.Conv2d(in_channels=1, out_channels=1, kernel_size=(2, 4)),\n",
    "            nn.ReLU(),\n",
    "            nn.AvgPool2d(kernel_size=(2, 4))\n",
    "        )\n",
    "        self.layer2 = nn.Sequential(\n",
    "            nn.Conv2d(in_channels=1, out_channels=1, kernel_size=(3, 6)),\n",
    "            nn.ReLU(),\n",
    "            nn.AvgPool2d(kernel_size=(3, 6))\n",
    "        )\n",
    "        self.layer3 = nn.Sequential(\n",
    "            nn.Conv2d(in_channels=1, out_channels=1, kernel_size=(5, 10)),\n",
    "            nn.ReLU(),\n",
    "            nn.AdaptiveAvgPool2d(output_size=(20, 10))\n",
    "        )\n",
    "        #\n",
    "        self.flatten = nn.Flatten()\n",
    "        self.relu = nn.ReLU()\n",
    "        self.dropout = nn.Dropout(0.33)\n",
    "        self.linear1 = nn.Linear(200, 32)\n",
    "        self.linear2 = nn.Linear(32, 1)\n",
    "\n",
    "    def forward(self, x):\n",
    "        # print('.', end='')\n",
    "        shapes = [x.shape]\n",
    "        # print()\n",
    "        x = self.layer1(x)\n",
    "        shapes.append(x.shape)\n",
    "        x = self.layer2(x)\n",
    "        shapes.append(x.shape)\n",
    "        x = self.layer3(x)\n",
    "        # print(shapes, self.training)\n",
    "        #\n",
    "        x = self.flatten(x)\n",
    "        # print(x.shape)\n",
    "        x = self.relu(self.linear1(x))\n",
    "        x = self.dropout(x)\n",
    "        print('=' if self.training else '-', end='')\n",
    "        #\n",
    "        return self.linear2(x)\n",
    "\n",
    "\n",
    "model = CNNet().to(device, dtype=torch.float32)"
   ]
  },
  {
   "cell_type": "code",
   "execution_count": 14,
   "id": "b6d51325-4dec-43e8-bf38-bcb6daeeb5bc",
   "metadata": {
    "ExecuteTime": {
     "end_time": "2024-01-07T09:56:03.622408Z",
     "start_time": "2024-01-07T09:56:03.618260Z"
    },
    "tags": []
   },
   "outputs": [],
   "source": [
    "criterion = nn.BCEWithLogitsLoss()\n",
    "optimizer = torch.optim.Adam(model.parameters(), lr=LEARNING_RATE)"
   ]
  },
  {
   "cell_type": "code",
   "execution_count": 15,
   "id": "019e2982-65f6-4d2f-b2fe-4f3a6e8cdf1f",
   "metadata": {
    "tags": []
   },
   "outputs": [],
   "source": [
    "filename = '06_melspectrogram'"
   ]
  },
  {
   "cell_type": "code",
   "execution_count": 16,
   "id": "d65af4d7-a2a5-4631-8ad3-440111cc8240",
   "metadata": {
    "tags": []
   },
   "outputs": [],
   "source": [
    "# !rm artifacts/06_melspectrogram.joblib\n",
    "# !rm artifacts/06_melspectrogram.pt"
   ]
  },
  {
   "cell_type": "code",
   "execution_count": 16,
   "id": "9face793-f709-4a49-a1a7-e8e68df32306",
   "metadata": {
    "tags": []
   },
   "outputs": [
    {
     "name": "stdout",
     "output_type": "stream",
     "text": [
      "!Model weights are loaded.\n",
      "!Training stats is loaded.\n"
     ]
    }
   ],
   "source": [
    "if os.path.exists(f'artifacts/{filename}.pt'):\n",
    "    model.load_state_dict(\n",
    "        torch.load(f'artifacts/{filename}.pt')\n",
    "    )\n",
    "    print('!Model weights are loaded.')\n",
    "    \n",
    "if os.path.exists(f'artifacts/{filename}.joblib'):\n",
    "    stats = joblib.load(f'artifacts/{filename}.joblib')\n",
    "    print('!Training stats is loaded.')\n",
    "else:\n",
    "    stats = {\n",
    "        'epoch': [],\n",
    "        'training_loss': [],\n",
    "        'testing_loss': [],\n",
    "        'training_auc': [],\n",
    "        'testing_auc': [],\n",
    "    }\n",
    "    \n",
    "se = stats['epoch'][-1] if stats['epoch'] else 0"
   ]
  },
  {
   "cell_type": "code",
   "execution_count": 17,
   "id": "f00b9f53-20cf-4b24-a127-440f33a78386",
   "metadata": {
    "tags": []
   },
   "outputs": [
    {
     "data": {
      "application/vnd.jupyter.widget-view+json": {
       "model_id": "70adeef662d34e718f61ab28f9c4ae5e",
       "version_major": 2,
       "version_minor": 0
      },
      "text/plain": [
       "FigureWidget({\n",
       "    'data': [{'line': {'color': 'black', 'dash': 'dash', 'width': 0.5},\n",
       "              'marker': {'color': 'white', 'line': {'color': 'black', 'width': 1}, 'size': 6},\n",
       "              'mode': 'lines+markers',\n",
       "              'name': 'Training',\n",
       "              'type': 'scatter',\n",
       "              'uid': 'a4d1dcd2-d554-4d35-8e20-e39aeae830cb',\n",
       "              'x': [0, 1, 2, 3, 4, 5, 6, 7, 8, 9, 10, 11, 12, 13, 14, 15, 16, 17,\n",
       "                    18, 19, 20, 21, 22, 23, 24, 25, 26, 27, 28, 29, 30, 31, 32],\n",
       "              'xaxis': 'x',\n",
       "              'y': [0.6675549149513245, 0.6228368282318115, 0.615817666053772,\n",
       "                    0.5887264609336853, 0.6262192130088806, 0.6021890044212341,\n",
       "                    0.6042805910110474, 0.5955801010131836, 0.5972908139228821,\n",
       "                    0.586108922958374, 0.5951625108718872, 0.5960778594017029,\n",
       "                    0.5944197773933411, 0.5862828493118286, 0.5631126761436462,\n",
       "                    0.5681073069572449, 0.54395592212677, 0.5604154467582703,\n",
       "                    0.5298826098442078, 0.5224716663360596, 0.49851784110069275,\n",
       "                    0.4911615550518036, 0.48241880536079407, 0.4682857394218445,\n",
       "                    0.45153510570526123, 0.44808006286621094, 0.42511412501335144,\n",
       "                    0.4313901364803314, 0.4155818819999695, 0.4043985605239868,\n",
       "                    0.43269631266593933, 0.39846161007881165, 0.39814504981040955],\n",
       "              'yaxis': 'y'},\n",
       "             {'line': {'color': 'red', 'dash': 'dash', 'width': 0.5},\n",
       "              'marker': {'color': 'white', 'line': {'color': 'red', 'width': 1}, 'size': 6},\n",
       "              'mode': 'lines+markers',\n",
       "              'name': 'Testing',\n",
       "              'type': 'scatter',\n",
       "              'uid': 'c3dedc8f-41aa-41bd-86a0-f325b5d6397c',\n",
       "              'x': [0, 1, 2, 3, 4, 5, 6, 7, 8, 9, 10, 11, 12, 13, 14, 15, 16, 17,\n",
       "                    18, 19, 20, 21, 22, 23, 24, 25, 26, 27, 28, 29, 30, 31, 32],\n",
       "              'xaxis': 'x',\n",
       "              'y': [0.5910714268684387, 0.6045796871185303, 0.5909422636032104,\n",
       "                    0.587363064289093, 0.5902231335639954, 0.5834897756576538,\n",
       "                    0.5807272791862488, 0.5825110673904419, 0.5800727605819702,\n",
       "                    0.5856133103370667, 0.5786226391792297, 0.5857952237129211,\n",
       "                    0.5811346769332886, 0.5810307264328003, 0.5757059454917908,\n",
       "                    0.5762320160865784, 0.5786809325218201, 0.5706889629364014,\n",
       "                    0.5712794065475464, 0.5618310570716858, 0.5652241110801697,\n",
       "                    0.5636488199234009, 0.5462875366210938, 0.5406098961830139,\n",
       "                    0.5343505144119263, 0.5313647389411926, 0.5205632448196411,\n",
       "                    0.5191918611526489, 0.5200099945068359, 0.5448841452598572,\n",
       "                    0.5071827173233032, 0.5104836821556091, 0.5087358951568604],\n",
       "              'yaxis': 'y'},\n",
       "             {'line': {'color': 'black', 'dash': 'dash', 'width': 0.5},\n",
       "              'marker': {'color': 'white', 'line': {'color': 'black', 'width': 1}, 'size': 6},\n",
       "              'mode': 'lines+markers',\n",
       "              'showlegend': False,\n",
       "              'type': 'scatter',\n",
       "              'uid': '77eacdcb-ecae-4791-bf92-04cff9fd632f',\n",
       "              'x': [0, 1, 2, 3, 4, 5, 6, 7, 8, 9, 10, 11, 12, 13, 14, 15, 16, 17,\n",
       "                    18, 19, 20, 21, 22, 23, 24, 25, 26, 27, 28, 29, 30, 31, 32],\n",
       "              'xaxis': 'x2',\n",
       "              'y': [0.5357142857142857, 0.42207792207792205, 0.424512987012987,\n",
       "                    0.5738636363636364, 0.37905844155844154, 0.5081168831168832,\n",
       "                    0.512987012987013, 0.5211038961038961, 0.549512987012987,\n",
       "                    0.5787337662337663, 0.551948051948052, 0.5243506493506493,\n",
       "                    0.5438311688311688, 0.6112012987012987, 0.6810064935064934,\n",
       "                    0.6436688311688312, 0.7037337662337662, 0.6712662337662338,\n",
       "                    0.7662337662337662, 0.7297077922077921, 0.7938311688311688,\n",
       "                    0.773538961038961, 0.7832792207792207, 0.7857142857142857,\n",
       "                    0.8068181818181818, 0.8133116883116882, 0.8376623376623378,\n",
       "                    0.7938311688311688, 0.8498376623376624, 0.8522727272727273,\n",
       "                    0.8173701298701299, 0.859577922077922, 0.8303571428571429],\n",
       "              'yaxis': 'y2'},\n",
       "             {'line': {'color': 'red', 'dash': 'dash', 'width': 0.5},\n",
       "              'marker': {'color': 'white', 'line': {'color': 'red', 'width': 1}, 'size': 6},\n",
       "              'mode': 'lines+markers',\n",
       "              'showlegend': False,\n",
       "              'type': 'scatter',\n",
       "              'uid': '562e3f3e-935a-42eb-89e1-9178693eb09e',\n",
       "              'x': [0, 1, 2, 3, 4, 5, 6, 7, 8, 9, 10, 11, 12, 13, 14, 15, 16, 17,\n",
       "                    18, 19, 20, 21, 22, 23, 24, 25, 26, 27, 28, 29, 30, 31, 32],\n",
       "              'xaxis': 'x2',\n",
       "              'y': [0.5037593984962406, 0.5037593984962406, 0.5037593984962406,\n",
       "                    0.518796992481203, 0.5263157894736843, 0.5338345864661654,\n",
       "                    0.5338345864661654, 0.5488721804511278, 0.556390977443609,\n",
       "                    0.5488721804511278, 0.5413533834586466, 0.5413533834586466,\n",
       "                    0.5488721804511278, 0.5488721804511278, 0.5639097744360902,\n",
       "                    0.5413533834586466, 0.5413533834586466, 0.5488721804511278,\n",
       "                    0.5413533834586466, 0.5714285714285714, 0.5714285714285714,\n",
       "                    0.5939849624060151, 0.6165413533834587, 0.6015037593984962,\n",
       "                    0.6090225563909775, 0.6090225563909775, 0.62406015037594,\n",
       "                    0.62406015037594, 0.6165413533834587, 0.6315789473684211,\n",
       "                    0.6315789473684211, 0.62406015037594, 0.62406015037594],\n",
       "              'yaxis': 'y2'}],\n",
       "    'layout': {'font': {'family': 'Arial', 'size': 12},\n",
       "               'height': 500,\n",
       "               'plot_bgcolor': 'white',\n",
       "               'template': '...',\n",
       "               'width': 1000,\n",
       "               'xaxis': {'anchor': 'y',\n",
       "                         'domain': [0.0, 0.45],\n",
       "                         'gridcolor': 'lightgrey',\n",
       "                         'griddash': 'dot',\n",
       "                         'gridwidth': 0.1,\n",
       "                         'linecolor': 'black',\n",
       "                         'mirror': True,\n",
       "                         'showgrid': True,\n",
       "                         'showline': True,\n",
       "                         'title': {'text': 'Epoch'}},\n",
       "               'xaxis2': {'anchor': 'y2',\n",
       "                          'domain': [0.55, 1.0],\n",
       "                          'gridcolor': 'lightgrey',\n",
       "                          'griddash': 'dot',\n",
       "                          'gridwidth': 0.1,\n",
       "                          'linecolor': 'black',\n",
       "                          'mirror': True,\n",
       "                          'showgrid': True,\n",
       "                          'showline': True,\n",
       "                          'title': {'text': 'Epoch'}},\n",
       "               'yaxis': {'anchor': 'x',\n",
       "                         'domain': [0.0, 1.0],\n",
       "                         'gridcolor': 'lightgrey',\n",
       "                         'griddash': 'dot',\n",
       "                         'gridwidth': 0.1,\n",
       "                         'linecolor': 'black',\n",
       "                         'mirror': True,\n",
       "                         'showgrid': True,\n",
       "                         'showline': True,\n",
       "                         'title': {'text': 'Loss'}},\n",
       "               'yaxis2': {'anchor': 'x2',\n",
       "                          'domain': [0.0, 1.0],\n",
       "                          'gridcolor': 'lightgrey',\n",
       "                          'griddash': 'dot',\n",
       "                          'gridwidth': 0.1,\n",
       "                          'linecolor': 'black',\n",
       "                          'mirror': True,\n",
       "                          'showgrid': True,\n",
       "                          'showline': True,\n",
       "                          'title': {'text': 'AUC ROC'}}}\n",
       "})"
      ]
     },
     "execution_count": 17,
     "metadata": {},
     "output_type": "execute_result"
    }
   ],
   "source": [
    "figure = get_figure(stats)\n",
    "figure"
   ]
  },
  {
   "cell_type": "code",
   "execution_count": null,
   "id": "f426554f-dbe4-49ce-863f-777f5907160b",
   "metadata": {
    "tags": []
   },
   "outputs": [
    {
     "name": "stdout",
     "output_type": "stream",
     "text": [
      "="
     ]
    },
    {
     "name": "stderr",
     "output_type": "stream",
     "text": [
      "/opt/conda/lib/python3.11/site-packages/torch/autograd/graph.py:744: UserWarning:\n",
      "\n",
      "Plan failed with a cudnnException: CUDNN_BACKEND_EXECUTION_PLAN_DESCRIPTOR: cudnnFinalize Descriptor Failed cudnn_status: CUDNN_STATUS_NOT_SUPPORTED (Triggered internally at ../aten/src/ATen/native/cudnn/Conv_v8.cpp:919.)\n",
      "\n"
     ]
    },
    {
     "name": "stdout",
     "output_type": "stream",
     "text": [
      "==============================================================="
     ]
    }
   ],
   "source": [
    "for epoch in range(se, 200):\n",
    "    train_loss, train_auc = training(model, optimizer, criterion, train_dataloader)\n",
    "    test_loss, test_auc = testing(model, optimizer, criterion, test_dataloader)\n",
    "    #\n",
    "    update_stats(stats, epoch, train_loss, test_loss, train_auc, test_auc)\n",
    "    update_figure(figure, stats, filename)\n",
    "    #\n",
    "    joblib.dump(stats, f'artifacts/{filename}.joblib')\n",
    "    if epoch % 5 == 0:\n",
    "        if len(stats['testing_loss']) >= 10:\n",
    "            x0 = torch.tensor(stats['testing_loss'][-10:-5]).mean()\n",
    "            if x0 > torch.tensor(stats['testing_loss'][-5:]).mean():\n",
    "                torch.save(\n",
    "                    model.state_dict(),\n",
    "                    f'artifacts/{filename}.pt'\n",
    "                )\n",
    "                print('!Model weights were saved.')"
   ]
  },
  {
   "cell_type": "markdown",
   "id": "6ce0d33e-739f-435e-8358-db9d0d71b7ae",
   "metadata": {},
   "source": [
    "## + augmentations"
   ]
  },
  {
   "cell_type": "code",
   "execution_count": 34,
   "id": "1ee9526e-f18f-4e6f-b348-9b2988e985b8",
   "metadata": {
    "tags": []
   },
   "outputs": [
    {
     "data": {
      "text/plain": [
       "'cuda'"
      ]
     },
     "execution_count": 34,
     "metadata": {},
     "output_type": "execute_result"
    }
   ],
   "source": [
    "device = 'cuda' if torch.cuda.is_available() else 'cpu'\n",
    "device"
   ]
  },
  {
   "cell_type": "code",
   "execution_count": 35,
   "id": "bc8593fd-f385-47d0-be61-0ee4a6d985b7",
   "metadata": {
    "tags": []
   },
   "outputs": [],
   "source": [
    "from utils.augmentations import augment, masking\n",
    "from utils.spectrograms import get_spectrogram\n",
    "from utils.miscellaneous import update_stats\n",
    "from utils.plot import get_figure, update_figure"
   ]
  },
  {
   "cell_type": "code",
   "execution_count": 36,
   "id": "42183722-f673-446c-bed3-ee3fa1f68a14",
   "metadata": {
    "ExecuteTime": {
     "end_time": "2024-01-07T09:39:45.388382Z",
     "start_time": "2024-01-07T09:39:45.383137Z"
    },
    "tags": []
   },
   "outputs": [],
   "source": [
    "class Podcast(Dataset):\n",
    "\n",
    "    def __init__(self, X, y, clipping=True, training=True):\n",
    "        self.x = X\n",
    "        self.y = y\n",
    "        self.clipping = clipping\n",
    "        self.training = training\n",
    "\n",
    "    def __len__(self):\n",
    "        return len(self.x)\n",
    "\n",
    "    def __getitem__(self, idx):\n",
    "        label = self.y[idx]\n",
    "        episode = self.x[idx]\n",
    "        #\n",
    "        waveform, sample_rate = torchaudio.load(f'{raw_path}/{episode}.mp3')\n",
    "        waveform = waveform.mean(dim=0)\n",
    "        #\n",
    "        if self.training:\n",
    "            waveform = augment(waveform, sample_rate, self.clipping)\n",
    "        spectrogram = get_spectrogram(waveform, sample_rate, 'melspectrogram')\n",
    "        if self.training:\n",
    "            spectrogram = masking(spectrogram)\n",
    "        #\n",
    "        return spectrogram, label"
   ]
  },
  {
   "cell_type": "code",
   "execution_count": 37,
   "id": "903c6f3e-b5df-4622-8c74-071df0b74aad",
   "metadata": {
    "ExecuteTime": {
     "end_time": "2024-01-07T09:39:46.519333Z",
     "start_time": "2024-01-07T09:39:46.515826Z"
    },
    "tags": []
   },
   "outputs": [],
   "source": [
    "train = Podcast(X_train, y_train)\n",
    "train_dataloader = DataLoader(train, shuffle=True)"
   ]
  },
  {
   "cell_type": "code",
   "execution_count": 38,
   "id": "17ad7f7e-6cce-43f7-9c4b-150d26491f69",
   "metadata": {
    "ExecuteTime": {
     "end_time": "2024-01-07T09:39:47.385464Z",
     "start_time": "2024-01-07T09:39:47.381841Z"
    },
    "tags": []
   },
   "outputs": [],
   "source": [
    "test = Podcast(X_test, y_test, training=False)\n",
    "test_dataloader = DataLoader(test)"
   ]
  },
  {
   "cell_type": "code",
   "execution_count": 49,
   "id": "575fcb76-5759-49e1-851a-dff093851e9e",
   "metadata": {
    "ExecuteTime": {
     "end_time": "2024-03-10T10:15:41.917197Z",
     "start_time": "2024-03-10T10:15:41.903943Z"
    },
    "tags": []
   },
   "outputs": [],
   "source": [
    "class CNNet(nn.Module):\n",
    "    def __init__(self):\n",
    "        super().__init__()\n",
    "        self.layer1 = nn.Sequential(\n",
    "            nn.Conv2d(in_channels=1, out_channels=1, kernel_size=(2, 2)),\n",
    "            nn.ReLU(),\n",
    "            nn.AvgPool2d(kernel_size=(2, 2))\n",
    "        )\n",
    "        self.layer2 = nn.Sequential(\n",
    "            nn.Conv2d(in_channels=1, out_channels=1, kernel_size=(3, 3)),\n",
    "            nn.ReLU(),\n",
    "            nn.AvgPool2d(kernel_size=(3, 3))\n",
    "        )\n",
    "        self.layer3 = nn.Sequential(\n",
    "            nn.Conv2d(in_channels=1, out_channels=1, kernel_size=(5, 5)),\n",
    "            nn.ReLU(),\n",
    "            nn.AdaptiveAvgPool2d(output_size=(20, 32))\n",
    "        )\n",
    "        #\n",
    "        self.flatten = nn.Flatten()\n",
    "        self.relu = nn.ReLU()\n",
    "        self.dropout = nn.Dropout(0.33)\n",
    "        self.linear1 = nn.Linear(640, 64)\n",
    "        self.linear2 = nn.Linear(64, 1)\n",
    "\n",
    "    def forward(self, x):\n",
    "        # print('.', end='')\n",
    "        shapes = [x.shape]\n",
    "        # print()\n",
    "        x = self.layer1(x)\n",
    "        shapes.append(x.shape)\n",
    "        x = self.layer2(x)\n",
    "        shapes.append(x.shape)\n",
    "        x = self.layer3(x)\n",
    "        print(shapes, self.training)\n",
    "        #\n",
    "        x = self.flatten(x)\n",
    "        # print(x.shape)\n",
    "        x = self.relu(self.linear1(x))\n",
    "        x = self.dropout(x)\n",
    "        # print('=' if self.training else '-', end='')\n",
    "        #\n",
    "        return self.linear2(x)\n",
    "\n",
    "\n",
    "model = CNNet().to(device, dtype=torch.float32)"
   ]
  },
  {
   "cell_type": "code",
   "execution_count": 50,
   "id": "be78317e-5847-4769-a160-f61a8ef43556",
   "metadata": {
    "ExecuteTime": {
     "end_time": "2024-01-07T09:56:03.622408Z",
     "start_time": "2024-01-07T09:56:03.618260Z"
    },
    "tags": []
   },
   "outputs": [],
   "source": [
    "criterion = nn.BCEWithLogitsLoss()\n",
    "optimizer = torch.optim.Adam(model.parameters(), lr=LEARNING_RATE)"
   ]
  },
  {
   "cell_type": "code",
   "execution_count": 51,
   "id": "74ecdd32-73a8-480a-a983-1a9458b9142d",
   "metadata": {
    "tags": []
   },
   "outputs": [
    {
     "name": "stdout",
     "output_type": "stream",
     "text": [
      "[torch.Size([1, 128, 227]), torch.Size([1, 63, 113]), torch.Size([1, 20, 37])] True\n",
      "[torch.Size([1, 128, 209]), torch.Size([1, 63, 104]), torch.Size([1, 20, 34])] True\n",
      "[torch.Size([1, 128, 227]), torch.Size([1, 63, 113]), torch.Size([1, 20, 37])] True\n",
      "[torch.Size([1, 128, 227]), torch.Size([1, 63, 113]), torch.Size([1, 20, 37])] True\n",
      "[torch.Size([1, 128, 227]), torch.Size([1, 63, 113]), torch.Size([1, 20, 37])] True\n",
      "[torch.Size([1, 128, 227]), torch.Size([1, 63, 113]), torch.Size([1, 20, 37])] True\n",
      "[torch.Size([1, 128, 227]), torch.Size([1, 63, 113]), torch.Size([1, 20, 37])] True\n",
      "[torch.Size([1, 128, 209]), torch.Size([1, 63, 104]), torch.Size([1, 20, 34])] True\n",
      "[torch.Size([1, 128, 227]), torch.Size([1, 63, 113]), torch.Size([1, 20, 37])] True\n",
      "[torch.Size([1, 128, 227]), torch.Size([1, 63, 113]), torch.Size([1, 20, 37])] True\n",
      "[torch.Size([1, 128, 227]), torch.Size([1, 63, 113]), torch.Size([1, 20, 37])] True\n",
      "[torch.Size([1, 128, 227]), torch.Size([1, 63, 113]), torch.Size([1, 20, 37])] True\n",
      "[torch.Size([1, 128, 227]), torch.Size([1, 63, 113]), torch.Size([1, 20, 37])] True\n",
      "[torch.Size([1, 128, 209]), torch.Size([1, 63, 104]), torch.Size([1, 20, 34])] True\n",
      "[torch.Size([1, 128, 227]), torch.Size([1, 63, 113]), torch.Size([1, 20, 37])] True\n",
      "[torch.Size([1, 128, 227]), torch.Size([1, 63, 113]), torch.Size([1, 20, 37])] True\n",
      "[torch.Size([1, 128, 227]), torch.Size([1, 63, 113]), torch.Size([1, 20, 37])] True\n",
      "[torch.Size([1, 128, 227]), torch.Size([1, 63, 113]), torch.Size([1, 20, 37])] True\n",
      "[torch.Size([1, 128, 227]), torch.Size([1, 63, 113]), torch.Size([1, 20, 37])] True\n",
      "[torch.Size([1, 128, 227]), torch.Size([1, 63, 113]), torch.Size([1, 20, 37])] True\n",
      "[torch.Size([1, 128, 227]), torch.Size([1, 63, 113]), torch.Size([1, 20, 37])] True\n",
      "[torch.Size([1, 128, 227]), torch.Size([1, 63, 113]), torch.Size([1, 20, 37])] True\n",
      "[torch.Size([1, 128, 209]), torch.Size([1, 63, 104]), torch.Size([1, 20, 34])] True\n",
      "[torch.Size([1, 128, 227]), torch.Size([1, 63, 113]), torch.Size([1, 20, 37])] True\n",
      "[torch.Size([1, 128, 227]), torch.Size([1, 63, 113]), torch.Size([1, 20, 37])] True\n",
      "[torch.Size([1, 128, 209]), torch.Size([1, 63, 104]), torch.Size([1, 20, 34])] True\n",
      "[torch.Size([1, 128, 227]), torch.Size([1, 63, 113]), torch.Size([1, 20, 37])] True\n",
      "[torch.Size([1, 128, 227]), torch.Size([1, 63, 113]), torch.Size([1, 20, 37])] True\n",
      "[torch.Size([1, 128, 227]), torch.Size([1, 63, 113]), torch.Size([1, 20, 37])] True\n",
      "[torch.Size([1, 128, 227]), torch.Size([1, 63, 113]), torch.Size([1, 20, 37])] True\n",
      "[torch.Size([1, 128, 227]), torch.Size([1, 63, 113]), torch.Size([1, 20, 37])] True\n",
      "[torch.Size([1, 128, 227]), torch.Size([1, 63, 113]), torch.Size([1, 20, 37])] True\n",
      "[torch.Size([1, 128, 227]), torch.Size([1, 63, 113]), torch.Size([1, 20, 37])] True\n",
      "[torch.Size([1, 128, 227]), torch.Size([1, 63, 113]), torch.Size([1, 20, 37])] True\n",
      "[torch.Size([1, 128, 227]), torch.Size([1, 63, 113]), torch.Size([1, 20, 37])] True\n",
      "[torch.Size([1, 128, 227]), torch.Size([1, 63, 113]), torch.Size([1, 20, 37])] True\n",
      "[torch.Size([1, 128, 227]), torch.Size([1, 63, 113]), torch.Size([1, 20, 37])] True\n",
      "[torch.Size([1, 128, 227]), torch.Size([1, 63, 113]), torch.Size([1, 20, 37])] True\n",
      "[torch.Size([1, 128, 209]), torch.Size([1, 63, 104]), torch.Size([1, 20, 34])] True\n",
      "[torch.Size([1, 128, 227]), torch.Size([1, 63, 113]), torch.Size([1, 20, 37])] True\n",
      "[torch.Size([1, 128, 227]), torch.Size([1, 63, 113]), torch.Size([1, 20, 37])] True\n",
      "[torch.Size([1, 128, 227]), torch.Size([1, 63, 113]), torch.Size([1, 20, 37])] True\n",
      "[torch.Size([1, 128, 209]), torch.Size([1, 63, 104]), torch.Size([1, 20, 34])] True\n",
      "[torch.Size([1, 128, 227]), torch.Size([1, 63, 113]), torch.Size([1, 20, 37])] True\n",
      "[torch.Size([1, 128, 227]), torch.Size([1, 63, 113]), torch.Size([1, 20, 37])] True\n",
      "[torch.Size([1, 128, 227]), torch.Size([1, 63, 113]), torch.Size([1, 20, 37])] True\n",
      "[torch.Size([1, 128, 209]), torch.Size([1, 63, 104]), torch.Size([1, 20, 34])] True\n",
      "[torch.Size([1, 128, 227]), torch.Size([1, 63, 113]), torch.Size([1, 20, 37])] True\n",
      "[torch.Size([1, 128, 209]), torch.Size([1, 63, 104]), torch.Size([1, 20, 34])] True\n",
      "[torch.Size([1, 128, 209]), torch.Size([1, 63, 104]), torch.Size([1, 20, 34])] True\n",
      "[torch.Size([1, 128, 209]), torch.Size([1, 63, 104]), torch.Size([1, 20, 34])] True\n",
      "[torch.Size([1, 128, 227]), torch.Size([1, 63, 113]), torch.Size([1, 20, 37])] True\n",
      "[torch.Size([1, 128, 227]), torch.Size([1, 63, 113]), torch.Size([1, 20, 37])] True\n",
      "[torch.Size([1, 128, 227]), torch.Size([1, 63, 113]), torch.Size([1, 20, 37])] True\n",
      "[torch.Size([1, 128, 227]), torch.Size([1, 63, 113]), torch.Size([1, 20, 37])] True\n",
      "[torch.Size([1, 128, 227]), torch.Size([1, 63, 113]), torch.Size([1, 20, 37])] True\n",
      "[torch.Size([1, 128, 227]), torch.Size([1, 63, 113]), torch.Size([1, 20, 37])] True\n",
      "[torch.Size([1, 128, 209]), torch.Size([1, 63, 104]), torch.Size([1, 20, 34])] True\n",
      "[torch.Size([1, 128, 209]), torch.Size([1, 63, 104]), torch.Size([1, 20, 34])] True\n",
      "[torch.Size([1, 128, 227]), torch.Size([1, 63, 113]), torch.Size([1, 20, 37])] True\n",
      "[torch.Size([1, 128, 227]), torch.Size([1, 63, 113]), torch.Size([1, 20, 37])] True\n",
      "[torch.Size([1, 128, 227]), torch.Size([1, 63, 113]), torch.Size([1, 20, 37])] True\n",
      "[torch.Size([1, 128, 227]), torch.Size([1, 63, 113]), torch.Size([1, 20, 37])] True\n",
      "[torch.Size([1, 128, 209]), torch.Size([1, 63, 104]), torch.Size([1, 20, 34])] True\n",
      "[torch.Size([1, 128, 227]), torch.Size([1, 63, 113]), torch.Size([1, 20, 37])] True\n",
      "[torch.Size([1, 128, 227]), torch.Size([1, 63, 113]), torch.Size([1, 20, 37])] True\n",
      "[torch.Size([1, 128, 209]), torch.Size([1, 63, 104]), torch.Size([1, 20, 34])] True\n",
      "[torch.Size([1, 128, 227]), torch.Size([1, 63, 113]), torch.Size([1, 20, 37])] True\n",
      "[torch.Size([1, 128, 209]), torch.Size([1, 63, 104]), torch.Size([1, 20, 34])] True\n",
      "[torch.Size([1, 128, 227]), torch.Size([1, 63, 113]), torch.Size([1, 20, 37])] True\n",
      "[torch.Size([1, 128, 227]), torch.Size([1, 63, 113]), torch.Size([1, 20, 37])] True\n",
      "[torch.Size([1, 128, 227]), torch.Size([1, 63, 113]), torch.Size([1, 20, 37])] True\n",
      "[torch.Size([1, 128, 209]), torch.Size([1, 63, 104]), torch.Size([1, 20, 34])] True\n",
      "[torch.Size([1, 128, 227]), torch.Size([1, 63, 113]), torch.Size([1, 20, 37])] True\n",
      "[torch.Size([1, 128, 227]), torch.Size([1, 63, 113]), torch.Size([1, 20, 37])] True\n",
      "[torch.Size([1, 128, 227]), torch.Size([1, 63, 113]), torch.Size([1, 20, 37])] True\n",
      "[torch.Size([1, 128, 227]), torch.Size([1, 63, 113]), torch.Size([1, 20, 37])] True\n",
      "[torch.Size([1, 128, 227]), torch.Size([1, 63, 113]), torch.Size([1, 20, 37])] True\n"
     ]
    }
   ],
   "source": [
    "train_loss, train_auc = training(model, optimizer, criterion, train_dataloader)"
   ]
  },
  {
   "cell_type": "code",
   "execution_count": null,
   "id": "6652fc6c-cdf3-4a5e-9df7-b9dc891ef5e2",
   "metadata": {},
   "outputs": [],
   "source": []
  },
  {
   "cell_type": "code",
   "execution_count": 19,
   "id": "e7b5302e-4d47-42f2-940a-1ef48f8ca105",
   "metadata": {
    "tags": []
   },
   "outputs": [],
   "source": [
    "filename = '06_melspectrogram_augmented'"
   ]
  },
  {
   "cell_type": "code",
   "execution_count": null,
   "id": "523511de-a6b9-48b3-a6af-d353be3a8f49",
   "metadata": {},
   "outputs": [],
   "source": [
    "# !rm artifacts/06_melspectrogram_augmented.joblib\n",
    "# !rm artifacts/06_melspectrogram_augmented.pt"
   ]
  },
  {
   "cell_type": "code",
   "execution_count": 20,
   "id": "8cb030e9-7ae9-4732-a60d-ded748075498",
   "metadata": {
    "tags": []
   },
   "outputs": [],
   "source": [
    "if os.path.exists(f'artifacts/{filename}.pt'):\n",
    "    model.load_state_dict(\n",
    "        torch.load(f'artifacts/{filename}.pt')\n",
    "    )\n",
    "    print('!Model weights are loaded.')\n",
    "    \n",
    "if os.path.exists(f'artifacts/{filename}.joblib'):\n",
    "    stats = joblib.load(f'artifacts/{filename}.joblib')\n",
    "    print('!Training stats is loaded.')\n",
    "else:\n",
    "    stats = {\n",
    "        'epoch': [],\n",
    "        'training_loss': [],\n",
    "        'testing_loss': [],\n",
    "        'training_auc': [],\n",
    "        'testing_auc': [],\n",
    "    }\n",
    "    \n",
    "se = stats['epoch'][-1] if stats['epoch'] else 0"
   ]
  },
  {
   "cell_type": "code",
   "execution_count": 21,
   "id": "84d6c879-b1b4-49c4-8cf2-0afa28b90d33",
   "metadata": {
    "tags": []
   },
   "outputs": [
    {
     "data": {
      "application/vnd.jupyter.widget-view+json": {
       "model_id": "6d885a3edeb2463fbf3ce4dbf3f5746b",
       "version_major": 2,
       "version_minor": 0
      },
      "text/plain": [
       "FigureWidget({\n",
       "    'data': [{'line': {'color': 'black', 'dash': 'dash', 'width': 0.5},\n",
       "              'marker': {'color': 'white', 'line': {'color': 'black', 'width': 1}, 'size': 6},\n",
       "              'mode': 'lines+markers',\n",
       "              'name': 'Training',\n",
       "              'type': 'scatter',\n",
       "              'uid': 'edc7e996-62e5-4959-af8c-b5de8b11f1bd',\n",
       "              'x': [],\n",
       "              'xaxis': 'x',\n",
       "              'y': [],\n",
       "              'yaxis': 'y'},\n",
       "             {'line': {'color': 'red', 'dash': 'dash', 'width': 0.5},\n",
       "              'marker': {'color': 'white', 'line': {'color': 'red', 'width': 1}, 'size': 6},\n",
       "              'mode': 'lines+markers',\n",
       "              'name': 'Testing',\n",
       "              'type': 'scatter',\n",
       "              'uid': 'd1c68424-6ef3-4598-bb1a-22cce02b78dd',\n",
       "              'x': [],\n",
       "              'xaxis': 'x',\n",
       "              'y': [],\n",
       "              'yaxis': 'y'},\n",
       "             {'line': {'color': 'black', 'dash': 'dash', 'width': 0.5},\n",
       "              'marker': {'color': 'white', 'line': {'color': 'black', 'width': 1}, 'size': 6},\n",
       "              'mode': 'lines+markers',\n",
       "              'showlegend': False,\n",
       "              'type': 'scatter',\n",
       "              'uid': '1d23d7c9-f8b0-4b99-a41d-226bbbd67aa1',\n",
       "              'x': [],\n",
       "              'xaxis': 'x2',\n",
       "              'y': [],\n",
       "              'yaxis': 'y2'},\n",
       "             {'line': {'color': 'red', 'dash': 'dash', 'width': 0.5},\n",
       "              'marker': {'color': 'white', 'line': {'color': 'red', 'width': 1}, 'size': 6},\n",
       "              'mode': 'lines+markers',\n",
       "              'showlegend': False,\n",
       "              'type': 'scatter',\n",
       "              'uid': 'a7b9bac9-615a-4277-a978-c87dbc1fd40e',\n",
       "              'x': [],\n",
       "              'xaxis': 'x2',\n",
       "              'y': [],\n",
       "              'yaxis': 'y2'}],\n",
       "    'layout': {'font': {'family': 'Arial', 'size': 12},\n",
       "               'height': 500,\n",
       "               'plot_bgcolor': 'white',\n",
       "               'template': '...',\n",
       "               'width': 1000,\n",
       "               'xaxis': {'anchor': 'y',\n",
       "                         'domain': [0.0, 0.45],\n",
       "                         'gridcolor': 'lightgrey',\n",
       "                         'griddash': 'dot',\n",
       "                         'gridwidth': 0.1,\n",
       "                         'linecolor': 'black',\n",
       "                         'mirror': True,\n",
       "                         'showgrid': True,\n",
       "                         'showline': True,\n",
       "                         'title': {'text': 'Epoch'}},\n",
       "               'xaxis2': {'anchor': 'y2',\n",
       "                          'domain': [0.55, 1.0],\n",
       "                          'gridcolor': 'lightgrey',\n",
       "                          'griddash': 'dot',\n",
       "                          'gridwidth': 0.1,\n",
       "                          'linecolor': 'black',\n",
       "                          'mirror': True,\n",
       "                          'showgrid': True,\n",
       "                          'showline': True,\n",
       "                          'title': {'text': 'Epoch'}},\n",
       "               'yaxis': {'anchor': 'x',\n",
       "                         'domain': [0.0, 1.0],\n",
       "                         'gridcolor': 'lightgrey',\n",
       "                         'griddash': 'dot',\n",
       "                         'gridwidth': 0.1,\n",
       "                         'linecolor': 'black',\n",
       "                         'mirror': True,\n",
       "                         'showgrid': True,\n",
       "                         'showline': True,\n",
       "                         'title': {'text': 'Loss'}},\n",
       "               'yaxis2': {'anchor': 'x2',\n",
       "                          'domain': [0.0, 1.0],\n",
       "                          'gridcolor': 'lightgrey',\n",
       "                          'griddash': 'dot',\n",
       "                          'gridwidth': 0.1,\n",
       "                          'linecolor': 'black',\n",
       "                          'mirror': True,\n",
       "                          'showgrid': True,\n",
       "                          'showline': True,\n",
       "                          'title': {'text': 'AUC ROC'}}}\n",
       "})"
      ]
     },
     "execution_count": 21,
     "metadata": {},
     "output_type": "execute_result"
    }
   ],
   "source": [
    "figure = get_figure(stats)\n",
    "figure"
   ]
  },
  {
   "cell_type": "code",
   "execution_count": 24,
   "id": "2b1382f0-3481-4729-aa05-81cc3c8de128",
   "metadata": {
    "tags": []
   },
   "outputs": [
    {
     "name": "stdout",
     "output_type": "stream",
     "text": [
      "="
     ]
    },
    {
     "name": "stderr",
     "output_type": "stream",
     "text": [
      "/opt/conda/lib/python3.11/site-packages/torch/autograd/graph.py:744: UserWarning:\n",
      "\n",
      "Plan failed with a cudnnException: CUDNN_BACKEND_EXECUTION_PLAN_DESCRIPTOR: cudnnFinalize Descriptor Failed cudnn_status: CUDNN_STATUS_NOT_SUPPORTED (Triggered internally at ../aten/src/ATen/native/cudnn/Conv_v8.cpp:919.)\n",
      "\n"
     ]
    },
    {
     "name": "stdout",
     "output_type": "stream",
     "text": [
      "=============================================================================--------------------------\n",
      "Epoch: 0 | Training loss: 0.6839 | Testing loss: 0.6688 | Training AUC: 0.5463 | Testing AUC: 0.5000\n",
      "==============================================================================--------------------------\n",
      "Epoch: 1 | Training loss: 0.6566 | Testing loss: 0.6394 | Training AUC: 0.4830 | Testing AUC: 0.5000\n",
      "==============================================================================--------------------------\n",
      "Epoch: 2 | Training loss: 0.6341 | Testing loss: 0.6189 | Training AUC: 0.5779 | Testing AUC: 0.5000\n",
      "==============================================================================--------------------------\n",
      "Epoch: 3 | Training loss: 0.6154 | Testing loss: 0.5984 | Training AUC: 0.3945 | Testing AUC: 0.5000\n",
      "==============================================================================--------------------------\n",
      "Epoch: 4 | Training loss: 0.6063 | Testing loss: 0.5902 | Training AUC: 0.4635 | Testing AUC: 0.5000\n",
      "==============================================================================--------------------------\n",
      "Epoch: 5 | Training loss: 0.5996 | Testing loss: 0.5872 | Training AUC: 0.4399 | Testing AUC: 0.5000\n",
      "==============================================================================--------------------------\n",
      "Epoch: 6 | Training loss: 0.5977 | Testing loss: 0.5852 | Training AUC: 0.3693 | Testing AUC: 0.5000\n",
      "==============="
     ]
    },
    {
     "ename": "KeyboardInterrupt",
     "evalue": "",
     "output_type": "error",
     "traceback": [
      "\u001b[0;31m---------------------------------------------------------------------------\u001b[0m",
      "\u001b[0;31mKeyboardInterrupt\u001b[0m                         Traceback (most recent call last)",
      "Cell \u001b[0;32mIn[24], line 2\u001b[0m\n\u001b[1;32m      1\u001b[0m \u001b[38;5;28;01mfor\u001b[39;00m epoch \u001b[38;5;129;01min\u001b[39;00m \u001b[38;5;28mrange\u001b[39m(se, \u001b[38;5;241m200\u001b[39m):\n\u001b[0;32m----> 2\u001b[0m     train_loss, train_auc \u001b[38;5;241m=\u001b[39m \u001b[43mtraining\u001b[49m\u001b[43m(\u001b[49m\u001b[43mmodel\u001b[49m\u001b[43m,\u001b[49m\u001b[43m \u001b[49m\u001b[43moptimizer\u001b[49m\u001b[43m,\u001b[49m\u001b[43m \u001b[49m\u001b[43mcriterion\u001b[49m\u001b[43m,\u001b[49m\u001b[43m \u001b[49m\u001b[43mtrain_dataloader\u001b[49m\u001b[43m)\u001b[49m\n\u001b[1;32m      3\u001b[0m     test_loss, test_auc \u001b[38;5;241m=\u001b[39m testing(model, optimizer, criterion, test_dataloader)\n\u001b[1;32m      4\u001b[0m     \u001b[38;5;66;03m#\u001b[39;00m\n",
      "Cell \u001b[0;32mIn[23], line 5\u001b[0m, in \u001b[0;36mtraining\u001b[0;34m(model, optimizer, criterion, dataloader)\u001b[0m\n\u001b[1;32m      3\u001b[0m \u001b[38;5;66;03m#\u001b[39;00m\n\u001b[1;32m      4\u001b[0m model\u001b[38;5;241m.\u001b[39mtrain()\n\u001b[0;32m----> 5\u001b[0m \u001b[38;5;28;01mfor\u001b[39;00m X, Y \u001b[38;5;129;01min\u001b[39;00m dataloader:\n\u001b[1;32m      6\u001b[0m     X, Y \u001b[38;5;241m=\u001b[39m X\u001b[38;5;241m.\u001b[39mto(device), Y\u001b[38;5;241m.\u001b[39mto(device, dtype\u001b[38;5;241m=\u001b[39mtorch\u001b[38;5;241m.\u001b[39mfloat32)\n\u001b[1;32m      7\u001b[0m     \u001b[38;5;66;03m#\u001b[39;00m\n",
      "File \u001b[0;32m/opt/conda/lib/python3.11/site-packages/torch/utils/data/dataloader.py:631\u001b[0m, in \u001b[0;36m_BaseDataLoaderIter.__next__\u001b[0;34m(self)\u001b[0m\n\u001b[1;32m    628\u001b[0m \u001b[38;5;28;01mif\u001b[39;00m \u001b[38;5;28mself\u001b[39m\u001b[38;5;241m.\u001b[39m_sampler_iter \u001b[38;5;129;01mis\u001b[39;00m \u001b[38;5;28;01mNone\u001b[39;00m:\n\u001b[1;32m    629\u001b[0m     \u001b[38;5;66;03m# TODO(https://github.com/pytorch/pytorch/issues/76750)\u001b[39;00m\n\u001b[1;32m    630\u001b[0m     \u001b[38;5;28mself\u001b[39m\u001b[38;5;241m.\u001b[39m_reset()  \u001b[38;5;66;03m# type: ignore[call-arg]\u001b[39;00m\n\u001b[0;32m--> 631\u001b[0m data \u001b[38;5;241m=\u001b[39m \u001b[38;5;28;43mself\u001b[39;49m\u001b[38;5;241;43m.\u001b[39;49m\u001b[43m_next_data\u001b[49m\u001b[43m(\u001b[49m\u001b[43m)\u001b[49m\n\u001b[1;32m    632\u001b[0m \u001b[38;5;28mself\u001b[39m\u001b[38;5;241m.\u001b[39m_num_yielded \u001b[38;5;241m+\u001b[39m\u001b[38;5;241m=\u001b[39m \u001b[38;5;241m1\u001b[39m\n\u001b[1;32m    633\u001b[0m \u001b[38;5;28;01mif\u001b[39;00m \u001b[38;5;28mself\u001b[39m\u001b[38;5;241m.\u001b[39m_dataset_kind \u001b[38;5;241m==\u001b[39m _DatasetKind\u001b[38;5;241m.\u001b[39mIterable \u001b[38;5;129;01mand\u001b[39;00m \\\n\u001b[1;32m    634\u001b[0m         \u001b[38;5;28mself\u001b[39m\u001b[38;5;241m.\u001b[39m_IterableDataset_len_called \u001b[38;5;129;01mis\u001b[39;00m \u001b[38;5;129;01mnot\u001b[39;00m \u001b[38;5;28;01mNone\u001b[39;00m \u001b[38;5;129;01mand\u001b[39;00m \\\n\u001b[1;32m    635\u001b[0m         \u001b[38;5;28mself\u001b[39m\u001b[38;5;241m.\u001b[39m_num_yielded \u001b[38;5;241m>\u001b[39m \u001b[38;5;28mself\u001b[39m\u001b[38;5;241m.\u001b[39m_IterableDataset_len_called:\n",
      "File \u001b[0;32m/opt/conda/lib/python3.11/site-packages/torch/utils/data/dataloader.py:675\u001b[0m, in \u001b[0;36m_SingleProcessDataLoaderIter._next_data\u001b[0;34m(self)\u001b[0m\n\u001b[1;32m    673\u001b[0m \u001b[38;5;28;01mdef\u001b[39;00m \u001b[38;5;21m_next_data\u001b[39m(\u001b[38;5;28mself\u001b[39m):\n\u001b[1;32m    674\u001b[0m     index \u001b[38;5;241m=\u001b[39m \u001b[38;5;28mself\u001b[39m\u001b[38;5;241m.\u001b[39m_next_index()  \u001b[38;5;66;03m# may raise StopIteration\u001b[39;00m\n\u001b[0;32m--> 675\u001b[0m     data \u001b[38;5;241m=\u001b[39m \u001b[38;5;28;43mself\u001b[39;49m\u001b[38;5;241;43m.\u001b[39;49m\u001b[43m_dataset_fetcher\u001b[49m\u001b[38;5;241;43m.\u001b[39;49m\u001b[43mfetch\u001b[49m\u001b[43m(\u001b[49m\u001b[43mindex\u001b[49m\u001b[43m)\u001b[49m  \u001b[38;5;66;03m# may raise StopIteration\u001b[39;00m\n\u001b[1;32m    676\u001b[0m     \u001b[38;5;28;01mif\u001b[39;00m \u001b[38;5;28mself\u001b[39m\u001b[38;5;241m.\u001b[39m_pin_memory:\n\u001b[1;32m    677\u001b[0m         data \u001b[38;5;241m=\u001b[39m _utils\u001b[38;5;241m.\u001b[39mpin_memory\u001b[38;5;241m.\u001b[39mpin_memory(data, \u001b[38;5;28mself\u001b[39m\u001b[38;5;241m.\u001b[39m_pin_memory_device)\n",
      "File \u001b[0;32m/opt/conda/lib/python3.11/site-packages/torch/utils/data/_utils/fetch.py:51\u001b[0m, in \u001b[0;36m_MapDatasetFetcher.fetch\u001b[0;34m(self, possibly_batched_index)\u001b[0m\n\u001b[1;32m     49\u001b[0m         data \u001b[38;5;241m=\u001b[39m \u001b[38;5;28mself\u001b[39m\u001b[38;5;241m.\u001b[39mdataset\u001b[38;5;241m.\u001b[39m__getitems__(possibly_batched_index)\n\u001b[1;32m     50\u001b[0m     \u001b[38;5;28;01melse\u001b[39;00m:\n\u001b[0;32m---> 51\u001b[0m         data \u001b[38;5;241m=\u001b[39m \u001b[43m[\u001b[49m\u001b[38;5;28;43mself\u001b[39;49m\u001b[38;5;241;43m.\u001b[39;49m\u001b[43mdataset\u001b[49m\u001b[43m[\u001b[49m\u001b[43midx\u001b[49m\u001b[43m]\u001b[49m\u001b[43m \u001b[49m\u001b[38;5;28;43;01mfor\u001b[39;49;00m\u001b[43m \u001b[49m\u001b[43midx\u001b[49m\u001b[43m \u001b[49m\u001b[38;5;129;43;01min\u001b[39;49;00m\u001b[43m \u001b[49m\u001b[43mpossibly_batched_index\u001b[49m\u001b[43m]\u001b[49m\n\u001b[1;32m     52\u001b[0m \u001b[38;5;28;01melse\u001b[39;00m:\n\u001b[1;32m     53\u001b[0m     data \u001b[38;5;241m=\u001b[39m \u001b[38;5;28mself\u001b[39m\u001b[38;5;241m.\u001b[39mdataset[possibly_batched_index]\n",
      "File \u001b[0;32m/opt/conda/lib/python3.11/site-packages/torch/utils/data/_utils/fetch.py:51\u001b[0m, in \u001b[0;36m<listcomp>\u001b[0;34m(.0)\u001b[0m\n\u001b[1;32m     49\u001b[0m         data \u001b[38;5;241m=\u001b[39m \u001b[38;5;28mself\u001b[39m\u001b[38;5;241m.\u001b[39mdataset\u001b[38;5;241m.\u001b[39m__getitems__(possibly_batched_index)\n\u001b[1;32m     50\u001b[0m     \u001b[38;5;28;01melse\u001b[39;00m:\n\u001b[0;32m---> 51\u001b[0m         data \u001b[38;5;241m=\u001b[39m [\u001b[38;5;28;43mself\u001b[39;49m\u001b[38;5;241;43m.\u001b[39;49m\u001b[43mdataset\u001b[49m\u001b[43m[\u001b[49m\u001b[43midx\u001b[49m\u001b[43m]\u001b[49m \u001b[38;5;28;01mfor\u001b[39;00m idx \u001b[38;5;129;01min\u001b[39;00m possibly_batched_index]\n\u001b[1;32m     52\u001b[0m \u001b[38;5;28;01melse\u001b[39;00m:\n\u001b[1;32m     53\u001b[0m     data \u001b[38;5;241m=\u001b[39m \u001b[38;5;28mself\u001b[39m\u001b[38;5;241m.\u001b[39mdataset[possibly_batched_index]\n",
      "Cell \u001b[0;32mIn[14], line 16\u001b[0m, in \u001b[0;36mPodcast.__getitem__\u001b[0;34m(self, idx)\u001b[0m\n\u001b[1;32m     14\u001b[0m episode \u001b[38;5;241m=\u001b[39m \u001b[38;5;28mself\u001b[39m\u001b[38;5;241m.\u001b[39mx[idx]\n\u001b[1;32m     15\u001b[0m \u001b[38;5;66;03m#\u001b[39;00m\n\u001b[0;32m---> 16\u001b[0m waveform, sample_rate \u001b[38;5;241m=\u001b[39m \u001b[43mtorchaudio\u001b[49m\u001b[38;5;241;43m.\u001b[39;49m\u001b[43mload\u001b[49m\u001b[43m(\u001b[49m\u001b[38;5;124;43mf\u001b[39;49m\u001b[38;5;124;43m'\u001b[39;49m\u001b[38;5;132;43;01m{\u001b[39;49;00m\u001b[43mraw_path\u001b[49m\u001b[38;5;132;43;01m}\u001b[39;49;00m\u001b[38;5;124;43m/\u001b[39;49m\u001b[38;5;132;43;01m{\u001b[39;49;00m\u001b[43mepisode\u001b[49m\u001b[38;5;132;43;01m}\u001b[39;49;00m\u001b[38;5;124;43m.mp3\u001b[39;49m\u001b[38;5;124;43m'\u001b[39;49m\u001b[43m)\u001b[49m\n\u001b[1;32m     17\u001b[0m waveform \u001b[38;5;241m=\u001b[39m waveform\u001b[38;5;241m.\u001b[39mmean(dim\u001b[38;5;241m=\u001b[39m\u001b[38;5;241m0\u001b[39m)\n\u001b[1;32m     18\u001b[0m \u001b[38;5;66;03m#\u001b[39;00m\n",
      "File \u001b[0;32m/opt/conda/lib/python3.11/site-packages/torchaudio/_backend/utils.py:205\u001b[0m, in \u001b[0;36mget_load_func.<locals>.load\u001b[0;34m(uri, frame_offset, num_frames, normalize, channels_first, format, buffer_size, backend)\u001b[0m\n\u001b[1;32m    128\u001b[0m \u001b[38;5;250m\u001b[39m\u001b[38;5;124;03m\"\"\"Load audio data from source.\u001b[39;00m\n\u001b[1;32m    129\u001b[0m \n\u001b[1;32m    130\u001b[0m \u001b[38;5;124;03mBy default (``normalize=True``, ``channels_first=True``), this function returns Tensor with\u001b[39;00m\n\u001b[0;32m   (...)\u001b[0m\n\u001b[1;32m    202\u001b[0m \u001b[38;5;124;03m        `[channel, time]` else `[time, channel]`.\u001b[39;00m\n\u001b[1;32m    203\u001b[0m \u001b[38;5;124;03m\"\"\"\u001b[39;00m\n\u001b[1;32m    204\u001b[0m backend \u001b[38;5;241m=\u001b[39m dispatcher(uri, \u001b[38;5;28mformat\u001b[39m, backend)\n\u001b[0;32m--> 205\u001b[0m \u001b[38;5;28;01mreturn\u001b[39;00m \u001b[43mbackend\u001b[49m\u001b[38;5;241;43m.\u001b[39;49m\u001b[43mload\u001b[49m\u001b[43m(\u001b[49m\u001b[43muri\u001b[49m\u001b[43m,\u001b[49m\u001b[43m \u001b[49m\u001b[43mframe_offset\u001b[49m\u001b[43m,\u001b[49m\u001b[43m \u001b[49m\u001b[43mnum_frames\u001b[49m\u001b[43m,\u001b[49m\u001b[43m \u001b[49m\u001b[43mnormalize\u001b[49m\u001b[43m,\u001b[49m\u001b[43m \u001b[49m\u001b[43mchannels_first\u001b[49m\u001b[43m,\u001b[49m\u001b[43m \u001b[49m\u001b[38;5;28;43mformat\u001b[39;49m\u001b[43m,\u001b[49m\u001b[43m \u001b[49m\u001b[43mbuffer_size\u001b[49m\u001b[43m)\u001b[49m\n",
      "File \u001b[0;32m/opt/conda/lib/python3.11/site-packages/torchaudio/_backend/sox.py:44\u001b[0m, in \u001b[0;36mSoXBackend.load\u001b[0;34m(uri, frame_offset, num_frames, normalize, channels_first, format, buffer_size)\u001b[0m\n\u001b[1;32m     39\u001b[0m     \u001b[38;5;28;01mraise\u001b[39;00m \u001b[38;5;167;01mValueError\u001b[39;00m(\n\u001b[1;32m     40\u001b[0m         \u001b[38;5;124m\"\u001b[39m\u001b[38;5;124mSoX backend does not support loading from file-like objects. \u001b[39m\u001b[38;5;124m\"\u001b[39m,\n\u001b[1;32m     41\u001b[0m         \u001b[38;5;124m\"\u001b[39m\u001b[38;5;124mPlease use an alternative backend that does support loading from file-like objects, e.g. FFmpeg.\u001b[39m\u001b[38;5;124m\"\u001b[39m,\n\u001b[1;32m     42\u001b[0m     )\n\u001b[1;32m     43\u001b[0m \u001b[38;5;28;01melse\u001b[39;00m:\n\u001b[0;32m---> 44\u001b[0m     ret \u001b[38;5;241m=\u001b[39m \u001b[43msox_ext\u001b[49m\u001b[38;5;241;43m.\u001b[39;49m\u001b[43mload_audio_file\u001b[49m\u001b[43m(\u001b[49m\u001b[43muri\u001b[49m\u001b[43m,\u001b[49m\u001b[43m \u001b[49m\u001b[43mframe_offset\u001b[49m\u001b[43m,\u001b[49m\u001b[43m \u001b[49m\u001b[43mnum_frames\u001b[49m\u001b[43m,\u001b[49m\u001b[43m \u001b[49m\u001b[43mnormalize\u001b[49m\u001b[43m,\u001b[49m\u001b[43m \u001b[49m\u001b[43mchannels_first\u001b[49m\u001b[43m,\u001b[49m\u001b[43m \u001b[49m\u001b[38;5;28;43mformat\u001b[39;49m\u001b[43m)\u001b[49m\n\u001b[1;32m     45\u001b[0m     \u001b[38;5;28;01mif\u001b[39;00m \u001b[38;5;129;01mnot\u001b[39;00m ret:\n\u001b[1;32m     46\u001b[0m         \u001b[38;5;28;01mraise\u001b[39;00m \u001b[38;5;167;01mRuntimeError\u001b[39;00m(\u001b[38;5;124mf\u001b[39m\u001b[38;5;124m\"\u001b[39m\u001b[38;5;124mFailed to load audio from \u001b[39m\u001b[38;5;132;01m{\u001b[39;00muri\u001b[38;5;132;01m}\u001b[39;00m\u001b[38;5;124m.\u001b[39m\u001b[38;5;124m\"\u001b[39m)\n",
      "File \u001b[0;32m/opt/conda/lib/python3.11/site-packages/torch/_ops.py:854\u001b[0m, in \u001b[0;36mOpOverloadPacket.__call__\u001b[0;34m(self_, *args, **kwargs)\u001b[0m\n\u001b[1;32m    846\u001b[0m \u001b[38;5;28;01mdef\u001b[39;00m \u001b[38;5;21m__call__\u001b[39m(self_, \u001b[38;5;241m*\u001b[39margs, \u001b[38;5;241m*\u001b[39m\u001b[38;5;241m*\u001b[39mkwargs):  \u001b[38;5;66;03m# noqa: B902\u001b[39;00m\n\u001b[1;32m    847\u001b[0m     \u001b[38;5;66;03m# use `self_` to avoid naming collide with aten ops arguments that\u001b[39;00m\n\u001b[1;32m    848\u001b[0m     \u001b[38;5;66;03m# named \"self\". This way, all the aten ops can be called by kwargs.\u001b[39;00m\n\u001b[0;32m   (...)\u001b[0m\n\u001b[1;32m    852\u001b[0m     \u001b[38;5;66;03m# We save the function ptr as the `op` attribute on\u001b[39;00m\n\u001b[1;32m    853\u001b[0m     \u001b[38;5;66;03m# OpOverloadPacket to access it here.\u001b[39;00m\n\u001b[0;32m--> 854\u001b[0m     \u001b[38;5;28;01mreturn\u001b[39;00m \u001b[43mself_\u001b[49m\u001b[38;5;241;43m.\u001b[39;49m\u001b[43m_op\u001b[49m\u001b[43m(\u001b[49m\u001b[38;5;241;43m*\u001b[39;49m\u001b[43margs\u001b[49m\u001b[43m,\u001b[49m\u001b[43m \u001b[49m\u001b[38;5;241;43m*\u001b[39;49m\u001b[38;5;241;43m*\u001b[39;49m\u001b[43m(\u001b[49m\u001b[43mkwargs\u001b[49m\u001b[43m \u001b[49m\u001b[38;5;129;43;01mor\u001b[39;49;00m\u001b[43m \u001b[49m\u001b[43m{\u001b[49m\u001b[43m}\u001b[49m\u001b[43m)\u001b[49m\u001b[43m)\u001b[49m\n",
      "\u001b[0;31mKeyboardInterrupt\u001b[0m: "
     ]
    }
   ],
   "source": [
    "for epoch in range(se, 200):\n",
    "    train_loss, train_auc = training(model, optimizer, criterion, train_dataloader)\n",
    "    test_loss, test_auc = testing(model, optimizer, criterion, test_dataloader)\n",
    "    #\n",
    "    update_stats(stats, epoch, train_loss, test_loss, train_auc, test_auc)\n",
    "    update_figure(figure, stats)\n",
    "    #\n",
    "    joblib.dump(stats, f'artifacts/{filename}.joblib')\n",
    "    if epoch % 5 == 0:\n",
    "        if len(stats['testing_loss']) >= 10:\n",
    "            x0 = torch.tensor(stats['testing_loss'][-10:-5]).mean()\n",
    "            if x0 > torch.tensor(stats['testing_loss'][-5:]).mean():\n",
    "                torch.save(\n",
    "                    model.state_dict(),\n",
    "                    f'artifacts/{filename}.pt'\n",
    "                )\n",
    "                print('!Model weights were saved.')"
   ]
  }
 ],
 "metadata": {
  "kernelspec": {
   "display_name": "Python 3 (ipykernel)",
   "language": "python",
   "name": "python3"
  },
  "language_info": {
   "codemirror_mode": {
    "name": "ipython",
    "version": 3
   },
   "file_extension": ".py",
   "mimetype": "text/x-python",
   "name": "python",
   "nbconvert_exporter": "python",
   "pygments_lexer": "ipython3",
   "version": "3.11.6"
  },
  "toc": {
   "base_numbering": 1,
   "nav_menu": {},
   "number_sections": true,
   "sideBar": true,
   "skip_h1_title": false,
   "title_cell": "Table of Contents",
   "title_sidebar": "Contents",
   "toc_cell": false,
   "toc_position": {
    "height": "calc(100% - 180px)",
    "left": "10px",
    "top": "150px",
    "width": "307.2px"
   },
   "toc_section_display": true,
   "toc_window_display": true
  }
 },
 "nbformat": 4,
 "nbformat_minor": 5
}
